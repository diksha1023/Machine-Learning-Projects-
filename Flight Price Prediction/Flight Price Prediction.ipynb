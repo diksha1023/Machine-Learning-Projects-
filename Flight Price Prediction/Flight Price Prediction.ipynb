{
 "cells": [
  {
   "cell_type": "markdown",
   "id": "b1037e03",
   "metadata": {
    "id": "b1037e03"
   },
   "source": [
    "# Flight Price Prediction"
   ]
  },
  {
   "cell_type": "code",
   "execution_count": null,
   "id": "6ed8fdf4",
   "metadata": {
    "id": "6ed8fdf4"
   },
   "outputs": [],
   "source": [
    "#Import libraries \n",
    "import pandas as pd\n",
    "import numpy as np\n",
    "import matplotlib.pyplot as plt\n",
    "import numpy as np\n",
    "import seaborn as sns\n",
    "from numpy import mean\n",
    "from numpy import absolute\n",
    "from numpy import sqrt\n",
    "from sklearn.compose import TransformedTargetRegressor\n",
    "from sklearn.pipeline import Pipeline\n",
    "from sklearn.impute import KNNImputer\n",
    "from sklearn.linear_model import Ridge\n",
    "from sklearn.linear_model import Lasso\n",
    "from sklearn.linear_model import SGDRegressor\n",
    "from sklearn.linear_model import ElasticNet\n",
    "from sklearn import preprocessing,svm\n",
    "from sklearn.model_selection import KFold\n",
    "from sklearn.model_selection import StratifiedKFold\n",
    "from sklearn.model_selection import cross_val_score\n",
    "from sklearn.model_selection import train_test_split\n",
    "from sklearn.linear_model import LinearRegression\n",
    "from sklearn.metrics import mean_absolute_error,r2_score,mean_squared_error\n",
    "from sklearn.preprocessing import StandardScaler"
   ]
  },
  {
   "cell_type": "code",
   "execution_count": null,
   "id": "31ad5b18",
   "metadata": {
    "id": "31ad5b18"
   },
   "outputs": [],
   "source": [
    "def evaluate_model(test,pred):\n",
    "    print(\"R^2:\",r2_score(test, pred))#R-squard val\n",
    "    print(\"MAE:\",mean_absolute_error(test,pred))#Absol mean erro\n",
    "    print(\"RMSE:\",np.sqrt(mean_squared_error(test, pred)))#Root mean sq erro\n",
    "    print(\"\")\n",
    "    \n",
    "def create_mini_batches(X, y, batch_size):\n",
    "    mini_batches = []\n",
    "    data = np.hstack((X, y))\n",
    "    np.random.shuffle(data)\n",
    "    n_minibatches = data.shape[0] // batch_size\n",
    "    e = 0\n",
    " \n",
    "    for e in range(n_minibatches + 1):\n",
    "        mini_batch = data[e * batch_size:(e + 1)*batch_size, :]\n",
    "        X_mini = mini_batch[:, :-1]  \n",
    "        Y_mini = mini_batch[:, -1].reshape((-1, 1))\n",
    "        mini_batches.append((X_mini, Y_mini))\n",
    "    if(data.shape[0] % batch_size != 0):\n",
    "        mini_batch = data[e * batch_size:data.shape[0]]\n",
    "        X_mini = mini_batch[:, :-1]\n",
    "        Y_mini = mini_batch[:, -1].reshape((-1, 1))\n",
    "        mini_batches.append((X_mini, Y_mini))\n",
    "    return(mini_batches)\n",
    "\n",
    "def perform_lr(X_train,X_test,train_y, test_y):\n",
    "    lr = LinearRegression()\n",
    "    lr.fit(X_train,train_y)\n",
    "    y_pred = lr.predict(X_test)\n",
    "    #print(\"Training loss:\",lr.score(y_pred,test_y))\n",
    "    evaluate_model(test_y,y_pred)\n",
    "    \n",
    "def perform_sgd(X_train,train_y, X_test, test_y,alpha=0.0001, epsilon=0.1, eta0=0.01,penalty=None,learning_rate='invscaling',batchsize=1):\n",
    "    print(\"penalty term:\",penalty,\",learning rate:\",learning_rate,\",batch size:\",batchsize)\n",
    "    X_train = np.append(X_train,identity_vector[:X_train.shape[0],:],1)\n",
    "    X_test = np.append(X_test,identity_vector[:X_test.shape[0],:],1)\n",
    "\n",
    "    model = SGDRegressor(alpha=alpha, epsilon=epsilon, eta0=eta0,penalty=penalty, learning_rate=learning_rate)\n",
    "    if batchsize > 1:\n",
    "        batcherator = create_mini_batches(X_train, train_y,batch_size=batchsize)\n",
    "        for X_chunk, y_chunk in batcherator:\n",
    "            y_chunk = y_chunk.squeeze(1)\n",
    "            model.partial_fit(X_chunk, y_chunk)\n",
    "    else:\n",
    "        train_y = train_y.squeeze(1)\n",
    "        model.fit(X_train, train_y)\n",
    "        \n",
    "    y_predicted = model.predict(X_test)\n",
    "    evaluate_model(test_y,y_predicted)\n",
    "\n",
    "def perform_pr(X_train,X_test,train_y,test_y):\n",
    "    p = preprocessing.PolynomialFeatures(degree=2)\n",
    "    X_train_poly = p.fit_transform(X_train)\n",
    "    X_test_poly = p.fit_transform(X_test)\n",
    "    X_train_poly = np.append(X_train,identity_vector[:X_train.shape[0],:],1)\n",
    "    X_test_poly = np.append(X_test,identity_vector[:X_test.shape[0],:],1)\n",
    "    pr = LinearRegression()\n",
    "    pr.fit(X_train_poly,train_y)\n",
    "    y_pred = pr.predict(X_test_poly)\n",
    "    evaluate_model(test_y,y_pred)\n",
    "    \n",
    "def add_poly(X_train,X_test):\n",
    "    p = preprocessing.PolynomialFeatures(degree=2)\n",
    "    X_train_poly = p.fit_transform(X_train.iloc[:,:25])\n",
    "    X_test_poly = p.fit_transform(X_test.loc[:,:25])\n",
    "    X_train_poly = StandardScaler().fit_transform(X_train_poly)\n",
    "    X_test_poly = StandardScaler().fit_transform(X_test_poly)\n",
    "    X_train_poly = np.append(X_train_poly,X_train.loc[:,26:],1)\n",
    "    X_test_poly = np.append(X_test_poly,X_test.iloc[:,26:],1)\n",
    "    return(X_train_poly,X_test_poly)\n",
    "\n",
    "\n",
    "def perform_ridge(X_train,train_y,X_test,test_y,alpha=0.5):\n",
    "    rdg = Ridge(alpha = alpha)\n",
    "    print(\"alpha:\",alpha)\n",
    "    rdg.fit(X_train, train_y)\n",
    "    pred_test_rr= rdg.predict(X_test)\n",
    "    evaluate_model(test_y,pred_test_rr)\n",
    "    \n",
    "def perform_l(X_train,y_train,X_test,test_y,alpha=0.1):\n",
    "    model_lasso = Lasso(alpha=alpha)\n",
    "    model_lasso.fit(X_train, y_train) \n",
    "    pred_train_lasso= model_lasso.predict(X_test)\n",
    "    print(\"alpha:\",alpha)\n",
    "    evaluate_model(test_y,pred_train_lasso)\n",
    "    \n",
    "def perform_en(X_train, y_train,X_test,test_y,alpha=0.1,l1=0.5):\n",
    "    model = ElasticNet(alpha=alpha,l1_ratio=l1)\n",
    "    model.fit(X_train, y_train) \n",
    "    pred_test = model.predict(X_test)\n",
    "    print(\"alpha:\",alpha,\",l1 ratio:\",l1)\n",
    "    evaluate_model(test_y,pred_test)\n",
    "    \n",
    "def k_fold_closed(X_train,y_train):\n",
    "    model = Ridge(alpha=0.000000000000000000000000000000001)\n",
    "    pipeline = Pipeline([('transformer', StandardScaler()), ('estimator', model)])    \n",
    "    cv = KFold(n_splits=4, random_state=20, shuffle=True)\n",
    "    scores = cross_val_score(model, X_train, y_train, scoring='neg_mean_absolute_error',\n",
    "                             cv=cv, n_jobs=-1)\n",
    "    return sqrt(mean(absolute(scores)))\n",
    "    \n",
    "def k_fold_sgd(X_train,train_y):\n",
    "    cv = KFold(n_splits=4, random_state=1, shuffle=True)\n",
    "    model = SGDRegressor()\n",
    "    sgd_x = StandardScaler().fit_transform(X_train)\n",
    "    sgd_y = train_y.squeeze(1)\n",
    "    sgd_x = np.append(sgd_x,identity_vector[:sgd_x.shape[0],:],1)\n",
    "    scores = cross_val_score(model, sgd_x, sgd_y, scoring='neg_mean_absolute_error',\n",
    "                             cv=cv, n_jobs=-1)\n",
    "    return sqrt(mean(absolute(scores)))"
   ]
  },
  {
   "cell_type": "markdown",
   "id": "7476yDEnMILC",
   "metadata": {
    "id": "7476yDEnMILC"
   },
   "source": [
    "## Summarize the data. How much data is present? What attributes/features are continuous valued? Which attributes are categorical? "
   ]
  },
  {
   "cell_type": "markdown",
   "id": "_1oltDzRONtT",
   "metadata": {
    "id": "_1oltDzRONtT"
   },
   "source": [
    "Ans:\n",
    "\n",
    "No. of rows = 300153 and No. of columns= 12.\n",
    "\n",
    "From below results we can see that attributes,'airline', 'flight','source_City', 'departure_time','stops','arrival_time','destination_city,'class' are categorical. \n",
    "Whereas 'duration', and price are continuous attributes. And 'days_left' is a discrete attribute.**"
   ]
  },
  {
   "cell_type": "markdown",
   "id": "7906b771",
   "metadata": {
    "id": "7906b771"
   },
   "source": [
    "**Import Dataset - Flight Price Prediction**"
   ]
  },
  {
   "cell_type": "code",
   "execution_count": null,
   "id": "f21185d4",
   "metadata": {
    "id": "f21185d4",
    "outputId": "32411ea3-9a9a-4e2f-e291-4e13b6fd8214"
   },
   "outputs": [
    {
     "data": {
      "text/html": [
       "<div>\n",
       "<style scoped>\n",
       "    .dataframe tbody tr th:only-of-type {\n",
       "        vertical-align: middle;\n",
       "    }\n",
       "\n",
       "    .dataframe tbody tr th {\n",
       "        vertical-align: top;\n",
       "    }\n",
       "\n",
       "    .dataframe thead th {\n",
       "        text-align: right;\n",
       "    }\n",
       "</style>\n",
       "<table border=\"1\" class=\"dataframe\">\n",
       "  <thead>\n",
       "    <tr style=\"text-align: right;\">\n",
       "      <th></th>\n",
       "      <th>Unnamed: 0</th>\n",
       "      <th>airline</th>\n",
       "      <th>flight</th>\n",
       "      <th>source_city</th>\n",
       "      <th>departure_time</th>\n",
       "      <th>stops</th>\n",
       "      <th>arrival_time</th>\n",
       "      <th>destination_city</th>\n",
       "      <th>class</th>\n",
       "      <th>duration</th>\n",
       "      <th>days_left</th>\n",
       "      <th>price</th>\n",
       "    </tr>\n",
       "  </thead>\n",
       "  <tbody>\n",
       "    <tr>\n",
       "      <th>0</th>\n",
       "      <td>0</td>\n",
       "      <td>SpiceJet</td>\n",
       "      <td>SG-8709</td>\n",
       "      <td>Delhi</td>\n",
       "      <td>Evening</td>\n",
       "      <td>zero</td>\n",
       "      <td>Night</td>\n",
       "      <td>Mumbai</td>\n",
       "      <td>Economy</td>\n",
       "      <td>2.17</td>\n",
       "      <td>1</td>\n",
       "      <td>5953</td>\n",
       "    </tr>\n",
       "    <tr>\n",
       "      <th>1</th>\n",
       "      <td>1</td>\n",
       "      <td>SpiceJet</td>\n",
       "      <td>SG-8157</td>\n",
       "      <td>Delhi</td>\n",
       "      <td>Early_Morning</td>\n",
       "      <td>zero</td>\n",
       "      <td>Morning</td>\n",
       "      <td>Mumbai</td>\n",
       "      <td>Economy</td>\n",
       "      <td>2.33</td>\n",
       "      <td>1</td>\n",
       "      <td>5953</td>\n",
       "    </tr>\n",
       "    <tr>\n",
       "      <th>2</th>\n",
       "      <td>2</td>\n",
       "      <td>AirAsia</td>\n",
       "      <td>I5-764</td>\n",
       "      <td>Delhi</td>\n",
       "      <td>Early_Morning</td>\n",
       "      <td>zero</td>\n",
       "      <td>Early_Morning</td>\n",
       "      <td>Mumbai</td>\n",
       "      <td>Economy</td>\n",
       "      <td>2.17</td>\n",
       "      <td>1</td>\n",
       "      <td>5956</td>\n",
       "    </tr>\n",
       "    <tr>\n",
       "      <th>3</th>\n",
       "      <td>3</td>\n",
       "      <td>Vistara</td>\n",
       "      <td>UK-995</td>\n",
       "      <td>Delhi</td>\n",
       "      <td>Morning</td>\n",
       "      <td>zero</td>\n",
       "      <td>Afternoon</td>\n",
       "      <td>Mumbai</td>\n",
       "      <td>Economy</td>\n",
       "      <td>2.25</td>\n",
       "      <td>1</td>\n",
       "      <td>5955</td>\n",
       "    </tr>\n",
       "    <tr>\n",
       "      <th>4</th>\n",
       "      <td>4</td>\n",
       "      <td>Vistara</td>\n",
       "      <td>UK-963</td>\n",
       "      <td>Delhi</td>\n",
       "      <td>Morning</td>\n",
       "      <td>zero</td>\n",
       "      <td>Morning</td>\n",
       "      <td>Mumbai</td>\n",
       "      <td>Economy</td>\n",
       "      <td>2.33</td>\n",
       "      <td>1</td>\n",
       "      <td>5955</td>\n",
       "    </tr>\n",
       "    <tr>\n",
       "      <th>5</th>\n",
       "      <td>5</td>\n",
       "      <td>Vistara</td>\n",
       "      <td>UK-945</td>\n",
       "      <td>Delhi</td>\n",
       "      <td>Morning</td>\n",
       "      <td>zero</td>\n",
       "      <td>Afternoon</td>\n",
       "      <td>Mumbai</td>\n",
       "      <td>Economy</td>\n",
       "      <td>2.33</td>\n",
       "      <td>1</td>\n",
       "      <td>5955</td>\n",
       "    </tr>\n",
       "    <tr>\n",
       "      <th>6</th>\n",
       "      <td>6</td>\n",
       "      <td>Vistara</td>\n",
       "      <td>UK-927</td>\n",
       "      <td>Delhi</td>\n",
       "      <td>Morning</td>\n",
       "      <td>zero</td>\n",
       "      <td>Morning</td>\n",
       "      <td>Mumbai</td>\n",
       "      <td>Economy</td>\n",
       "      <td>2.08</td>\n",
       "      <td>1</td>\n",
       "      <td>6060</td>\n",
       "    </tr>\n",
       "    <tr>\n",
       "      <th>7</th>\n",
       "      <td>7</td>\n",
       "      <td>Vistara</td>\n",
       "      <td>UK-951</td>\n",
       "      <td>Delhi</td>\n",
       "      <td>Afternoon</td>\n",
       "      <td>zero</td>\n",
       "      <td>Evening</td>\n",
       "      <td>Mumbai</td>\n",
       "      <td>Economy</td>\n",
       "      <td>2.17</td>\n",
       "      <td>1</td>\n",
       "      <td>6060</td>\n",
       "    </tr>\n",
       "  </tbody>\n",
       "</table>\n",
       "</div>"
      ],
      "text/plain": [
       "   Unnamed: 0   airline   flight source_city departure_time stops  \\\n",
       "0           0  SpiceJet  SG-8709       Delhi        Evening  zero   \n",
       "1           1  SpiceJet  SG-8157       Delhi  Early_Morning  zero   \n",
       "2           2   AirAsia   I5-764       Delhi  Early_Morning  zero   \n",
       "3           3   Vistara   UK-995       Delhi        Morning  zero   \n",
       "4           4   Vistara   UK-963       Delhi        Morning  zero   \n",
       "5           5   Vistara   UK-945       Delhi        Morning  zero   \n",
       "6           6   Vistara   UK-927       Delhi        Morning  zero   \n",
       "7           7   Vistara   UK-951       Delhi      Afternoon  zero   \n",
       "\n",
       "    arrival_time destination_city    class  duration  days_left  price  \n",
       "0          Night           Mumbai  Economy      2.17          1   5953  \n",
       "1        Morning           Mumbai  Economy      2.33          1   5953  \n",
       "2  Early_Morning           Mumbai  Economy      2.17          1   5956  \n",
       "3      Afternoon           Mumbai  Economy      2.25          1   5955  \n",
       "4        Morning           Mumbai  Economy      2.33          1   5955  \n",
       "5      Afternoon           Mumbai  Economy      2.33          1   5955  \n",
       "6        Morning           Mumbai  Economy      2.08          1   6060  \n",
       "7        Evening           Mumbai  Economy      2.17          1   6060  "
      ]
     },
     "execution_count": 3,
     "metadata": {},
     "output_type": "execute_result"
    }
   ],
   "source": [
    "#Import dataset\n",
    "flight_data=pd.read_csv('C:/Users/diksh/Desktop/IUB/Spring_2023/AML/Assignment 1/Clean_Dataset/Clean_Dataset.csv', header=[0])\n",
    "flight_data.head(8) #Display first 8 values of the dataset"
   ]
  },
  {
   "cell_type": "code",
   "execution_count": null,
   "id": "c0852297",
   "metadata": {
    "id": "c0852297",
    "outputId": "4a9d8da1-21f8-4ded-c009-5ed3920e9a7c"
   },
   "outputs": [
    {
     "name": "stdout",
     "output_type": "stream",
     "text": [
      "(300153, 12)\n",
      "\n",
      "Before:\n",
      "No. of rows : 300153\n",
      "No. of columns : 12\n"
     ]
    }
   ],
   "source": [
    "#Before: Total number of rows and columns\n",
    "print(flight_data.shape)\n",
    "print(f\"\\nBefore:\")\n",
    "print(\"No. of rows :\",flight_data.shape[0])\n",
    "print(\"No. of columns :\",flight_data.shape[1])"
   ]
  },
  {
   "cell_type": "code",
   "execution_count": null,
   "id": "f350a952",
   "metadata": {
    "id": "f350a952"
   },
   "outputs": [],
   "source": [
    "#Drop Unnamed column\n",
    "flight_data=flight_data.drop('Unnamed: 0', axis=1)"
   ]
  },
  {
   "cell_type": "code",
   "execution_count": null,
   "id": "93b6bce2",
   "metadata": {
    "id": "93b6bce2",
    "outputId": "861659a5-a3fe-404e-dcaf-f96b1a12b176"
   },
   "outputs": [
    {
     "name": "stdout",
     "output_type": "stream",
     "text": [
      "(300153, 11)\n",
      "\n",
      "After:\n",
      "No. of rows : 300153\n",
      "No. of columns : 11\n"
     ]
    }
   ],
   "source": [
    "#After: Total number of rows and columns\n",
    "print(flight_data.shape)\n",
    "print(f\"\\nAfter:\")\n",
    "print(\"No. of rows :\",flight_data.shape[0])\n",
    "print(\"No. of columns :\",flight_data.shape[1])"
   ]
  },
  {
   "cell_type": "code",
   "execution_count": null,
   "id": "ad2f7e76",
   "metadata": {
    "id": "ad2f7e76",
    "outputId": "efa8e408-d63e-4afc-db1b-de9aa4138453"
   },
   "outputs": [
    {
     "name": "stdout",
     "output_type": "stream",
     "text": [
      "<class 'pandas.core.frame.DataFrame'>\n",
      "RangeIndex: 300153 entries, 0 to 300152\n",
      "Data columns (total 11 columns):\n",
      " #   Column            Non-Null Count   Dtype  \n",
      "---  ------            --------------   -----  \n",
      " 0   airline           300153 non-null  object \n",
      " 1   flight            300153 non-null  object \n",
      " 2   source_city       300153 non-null  object \n",
      " 3   departure_time    300153 non-null  object \n",
      " 4   stops             300153 non-null  object \n",
      " 5   arrival_time      300153 non-null  object \n",
      " 6   destination_city  300153 non-null  object \n",
      " 7   class             300153 non-null  object \n",
      " 8   duration          300153 non-null  float64\n",
      " 9   days_left         300153 non-null  int64  \n",
      " 10  price             300153 non-null  int64  \n",
      "dtypes: float64(1), int64(2), object(8)\n",
      "memory usage: 152.8 MB\n"
     ]
    }
   ],
   "source": [
    "flight_data.info(memory_usage='deep') #Checking attribute types"
   ]
  },
  {
   "cell_type": "code",
   "execution_count": null,
   "id": "8f7293bb",
   "metadata": {
    "id": "8f7293bb",
    "outputId": "6aea0332-b015-408a-d2b9-be4c3250d7a7"
   },
   "outputs": [
    {
     "name": "stdout",
     "output_type": "stream",
     "text": [
      "Days_left attribute unique values : [ 1  2  3  4  5  6  7  8  9 10 11 12 13 14 15 16 17 18 19 20 21 22 23 24\n",
      " 25 26 27 28 29 30 31 32 33 34 35 36 37 38 39 40 41 42 43 44 45 46 47 48\n",
      " 49]\n",
      "Price attribute unique values : [ 5953  5956  5955 ... 87051 74731 77105]\n",
      "Duration attribute unique values : [ 2.17  2.33  2.25  2.08 12.25 16.33 11.75 14.5  15.67  3.75  2.5   5.83\n",
      "  8.    6.   14.67 16.17 18.   23.17 24.17  8.83  4.5  15.25 11.   19.08\n",
      " 22.83 26.42 17.75 19.58 26.67 15.17 20.83 11.42 22.25 26.   21.75  3.83\n",
      "  4.42  7.67  8.33 10.42 23.75 19.5   6.5  12.42 21.08 28.17 28.25  9.25\n",
      " 17.92  7.08 13.83  7.58 15.83 24.42  4.17  4.25  5.08 29.33 17.   27.17\n",
      " 24.75  5.75 12.75 13.75 17.83  5.5  23.83  5.   26.5  12.83  8.92 11.17\n",
      " 12.17 15.58 15.75  7.92 13.25 16.   22.75  6.33  7.25 30.08 18.25  6.08\n",
      "  2.   12.33  3.5  10.25 14.17 25.58  4.08  9.75  6.67  9.67 10.08 12.58\n",
      "  7.    8.25 15.5  10.17 23.5  25.75 11.5  21.42 14.25  7.75  5.33  5.67\n",
      "  4.75 19.33  6.25 10.33  9.08 15.42  4.83 25.83  7.5  27.58 28.42  6.42\n",
      " 24.58 16.5  11.33 24.83 14.92 26.08  5.42 28.5  27.33  8.67 20.42 20.08\n",
      "  5.92 20.58 26.17 17.5  18.33 21.83 26.83 13.42 19.25 23.58 23.92 12.08\n",
      " 14.42 25.92 18.58 13.08  4.58 21.58 10.5  11.67  8.58 24.67 14.75 17.17\n",
      "  7.33  9.17 11.58 23.08 25.25 21.25  8.42 10.92 14.    4.92 25.08 12.67\n",
      " 28.08 21.33 14.33 14.83 15.33 15.92  9.5  27.75 24.92 22.58  6.58  9.33\n",
      " 13.   13.58 11.08  5.58 15.    6.75  9.83 11.25 11.83  9.58  8.5  14.08\n",
      " 10.58 22.17 22.08  8.75 15.08 25.5  16.42 18.92  2.42  3.92 24.5  23.\n",
      " 10.   19.   16.58  7.83  3.17 16.25 24.08  4.67  6.92 13.67 25.    8.08\n",
      " 17.08  7.42 22.5  12.92  6.17 23.67  5.17 13.33 17.25 25.42 29.17  9.\n",
      "  9.42  8.17 26.58 22.33 12.5  21.   24.25 27.5  18.17 16.67  2.83  2.75\n",
      "  2.92  3.    7.17 25.67  2.67 10.83 18.5  21.17 23.33 24.   17.33 27.42\n",
      " 26.25  4.33  9.92 19.67 26.33 16.92 25.33 27.25 27.92 27.   12.   10.67\n",
      " 28.   21.67 21.92 13.92 13.5   2.58 22.42 24.33 18.08 29.58 29.67 31.25\n",
      " 33.17 36.92 20.25 22.92  6.83  5.25 20.67 17.58 19.17 17.42 11.92 31.5\n",
      " 19.83 27.08 26.92 21.5   6.07 16.83 20.5  18.67 10.75 18.42 28.58 19.92\n",
      " 20.   22.   29.83 19.42 25.17  3.08 18.75 27.83 20.17 20.33 20.75 28.67\n",
      " 35.83 34.83 23.25 26.75 19.75 27.67 16.08 30.25 28.75 30.58 18.83 13.17\n",
      " 30.5  29.5  28.83 30.67 17.67 14.58 29.   28.33 39.67 16.75  1.92 37.42\n",
      " 36.42 23.42 22.67 33.75 30.83 28.92  1.83  3.67  4.    1.58  1.67  1.75\n",
      " 20.92 33.5  30.33 35.25 31.83 40.   31.67 32.08 36.17 30.75 33.83 34.5\n",
      " 31.08 30.17 36.08 33.33 37.   34.08 37.08  1.42  1.33  1.5  37.83 29.25\n",
      " 34.25 36.83  3.42 31.58 33.58 34.58 32.17  1.17 35.17 37.67 37.25 39.75\n",
      " 31.   37.75 33.25 31.17 29.92 31.92 41.58 37.17 32.   35.5  39.   31.42\n",
      " 34.33 38.58 33.67  3.33  3.58 34.17 37.33 35.42 30.   33.08 38.83 32.67\n",
      " 29.42 35.08 32.5  29.75  1.08  1.   32.42  1.25 34.92 35.75 31.75 33.\n",
      " 34.75 36.58 41.83 36.5  33.42 36.25 40.67  0.92 37.58  0.83 40.75 47.75\n",
      " 36.   40.42 33.92 30.42 40.5  29.08 38.5  34.67  6.98 30.92 35.58  3.25\n",
      " 39.83 37.92 37.5  39.08 38.75 34.42 40.92 13.4  31.33 42.   32.75 32.33\n",
      " 32.83 35.92 32.25 38.67 38.33 39.25 41.08 32.92 36.75 35.67 35.33 49.83\n",
      " 34.   47.08 45.83 39.42 39.92 32.58 44.5  41.5 ]\n"
     ]
    }
   ],
   "source": [
    "print(\"Days_left attribute unique values :\",flight_data['days_left'].unique())\n",
    "print(\"Price attribute unique values :\",flight_data['price'].unique())\n",
    "print(\"Duration attribute unique values :\",flight_data['duration'].unique())"
   ]
  },
  {
   "cell_type": "markdown",
   "id": "f3d4b2e7",
   "metadata": {
    "id": "f3d4b2e7"
   },
   "source": [
    "\n",
    "**Observations:**\n",
    "\n",
    "No. of rows = 300153 and No. of columns= 12.\n",
    "\n",
    "From above results we can see that attributes,'airline', 'flight','source_City', 'departure_time','stops','arrival_time','destination_city,'class' are categorical. \n",
    "Whereas 'duration', and price are continuous attributes. And 'days_left' is a discrete attribute.**"
   ]
  },
  {
   "cell_type": "code",
   "execution_count": null,
   "id": "afd79a0a",
   "metadata": {
    "id": "afd79a0a",
    "outputId": "8fcd6253-1f6c-4e7c-96d0-3fab820a095a"
   },
   "outputs": [
    {
     "name": "stdout",
     "output_type": "stream",
     "text": [
      "Total Categorical Attributes: 8 , Attribute Names - ['airline', 'flight', 'source_city', 'departure_time', 'stops', 'arrival_time', 'destination_city', 'class']\n",
      "Total Continuous Attributes: 3 , Attribute Names - ['duration', 'days_left', 'price']\n"
     ]
    }
   ],
   "source": [
    "categorical_attrs= flight_data.select_dtypes(include='object').columns.tolist()\n",
    "continuous_attrs=flight_data.select_dtypes(include='number').columns.tolist()\n",
    "print(\"Total Categorical Attributes:\", len(categorical_attrs), \",\",\"Attribute Names -\", categorical_attrs)\n",
    "print(\"Total Continuous Attributes:\", len(continuous_attrs), \",\",\"Attribute Names -\",continuous_attrs)\n"
   ]
  },
  {
   "cell_type": "markdown",
   "id": "WTOvGgW-N1FL",
   "metadata": {
    "id": "WTOvGgW-N1FL"
   },
   "source": [
    "## Display the statistical values for each of the attributes, along with visualizations (e.g., histogram) of the distributions for each attribute. Explain noticeable traits for key attributes. Are there any attributes that might require special treatment? If so, what special treatment might they require? "
   ]
  },
  {
   "cell_type": "markdown",
   "id": "DZK-Vt9qOlBc",
   "metadata": {
    "id": "DZK-Vt9qOlBc"
   },
   "source": [
    "Ans. From below visualizations, we can see that 'days_left' attribute is a discrete attribute.\n",
    "\n",
    "In the below pie chart we can se that 'source_city' attribute takes 6 values.\n",
    "In the below pie chart we can se that 'destination_city' attribute takes 6 values.\n",
    "From the below visualizations, we can se that attributes like destination_city, source_city, arrival_time, departure_time and stops are categorical variables.\n",
    "Therefore we need to convert them to numerical values before proceeding with applying any ML models. So, for attributes, 'stops', 'departure_time', 'arrival_time', 'class', we have encoded them to defined numeric value. And we have used one hot encoder to convert to convert the attributes, \"source_city\" and \"destination_city\". \n"
   ]
  },
  {
   "cell_type": "markdown",
   "id": "bcc848c7",
   "metadata": {
    "id": "bcc848c7"
   },
   "source": [
    "#### **EDA**"
   ]
  },
  {
   "cell_type": "code",
   "execution_count": null,
   "id": "798d3814",
   "metadata": {
    "id": "798d3814",
    "outputId": "6deaa9d9-9854-4f11-b8d4-b4049ebd9f04"
   },
   "outputs": [
    {
     "data": {
      "text/plain": [
       "0"
      ]
     },
     "execution_count": 10,
     "metadata": {},
     "output_type": "execute_result"
    }
   ],
   "source": [
    "flight_data.duplicated().sum() #Check for duplicate rows "
   ]
  },
  {
   "cell_type": "code",
   "execution_count": null,
   "id": "3710cec6",
   "metadata": {
    "id": "3710cec6",
    "outputId": "79bed63f-1ded-48f6-813b-ec7cf29b9920"
   },
   "outputs": [
    {
     "data": {
      "text/plain": [
       "airline             0\n",
       "flight              0\n",
       "source_city         0\n",
       "departure_time      0\n",
       "stops               0\n",
       "arrival_time        0\n",
       "destination_city    0\n",
       "class               0\n",
       "duration            0\n",
       "days_left           0\n",
       "price               0\n",
       "dtype: int64"
      ]
     },
     "execution_count": 11,
     "metadata": {},
     "output_type": "execute_result"
    }
   ],
   "source": [
    "# Total no. of missing values for each attribute\n",
    "flight_data.isnull().sum()"
   ]
  },
  {
   "cell_type": "markdown",
   "id": "Wj4z0RWWHZjH",
   "metadata": {
    "id": "Wj4z0RWWHZjH"
   },
   "source": [
    "### **Statistical values for each attribute**"
   ]
  },
  {
   "cell_type": "code",
   "execution_count": null,
   "id": "85f386c1",
   "metadata": {
    "id": "85f386c1",
    "outputId": "b3ef2194-d09c-4e7a-d80b-f5a8b81bcb20"
   },
   "outputs": [
    {
     "data": {
      "text/html": [
       "<div>\n",
       "<style scoped>\n",
       "    .dataframe tbody tr th:only-of-type {\n",
       "        vertical-align: middle;\n",
       "    }\n",
       "\n",
       "    .dataframe tbody tr th {\n",
       "        vertical-align: top;\n",
       "    }\n",
       "\n",
       "    .dataframe thead th {\n",
       "        text-align: right;\n",
       "    }\n",
       "</style>\n",
       "<table border=\"1\" class=\"dataframe\">\n",
       "  <thead>\n",
       "    <tr style=\"text-align: right;\">\n",
       "      <th></th>\n",
       "      <th>duration</th>\n",
       "      <th>days_left</th>\n",
       "      <th>price</th>\n",
       "    </tr>\n",
       "  </thead>\n",
       "  <tbody>\n",
       "    <tr>\n",
       "      <th>count</th>\n",
       "      <td>300153.000000</td>\n",
       "      <td>300153.000000</td>\n",
       "      <td>300153.000000</td>\n",
       "    </tr>\n",
       "    <tr>\n",
       "      <th>mean</th>\n",
       "      <td>12.221021</td>\n",
       "      <td>26.004751</td>\n",
       "      <td>20889.660523</td>\n",
       "    </tr>\n",
       "    <tr>\n",
       "      <th>std</th>\n",
       "      <td>7.191997</td>\n",
       "      <td>13.561004</td>\n",
       "      <td>22697.767366</td>\n",
       "    </tr>\n",
       "    <tr>\n",
       "      <th>min</th>\n",
       "      <td>0.830000</td>\n",
       "      <td>1.000000</td>\n",
       "      <td>1105.000000</td>\n",
       "    </tr>\n",
       "    <tr>\n",
       "      <th>25%</th>\n",
       "      <td>6.830000</td>\n",
       "      <td>15.000000</td>\n",
       "      <td>4783.000000</td>\n",
       "    </tr>\n",
       "    <tr>\n",
       "      <th>50%</th>\n",
       "      <td>11.250000</td>\n",
       "      <td>26.000000</td>\n",
       "      <td>7425.000000</td>\n",
       "    </tr>\n",
       "    <tr>\n",
       "      <th>75%</th>\n",
       "      <td>16.170000</td>\n",
       "      <td>38.000000</td>\n",
       "      <td>42521.000000</td>\n",
       "    </tr>\n",
       "    <tr>\n",
       "      <th>max</th>\n",
       "      <td>49.830000</td>\n",
       "      <td>49.000000</td>\n",
       "      <td>123071.000000</td>\n",
       "    </tr>\n",
       "  </tbody>\n",
       "</table>\n",
       "</div>"
      ],
      "text/plain": [
       "            duration      days_left          price\n",
       "count  300153.000000  300153.000000  300153.000000\n",
       "mean       12.221021      26.004751   20889.660523\n",
       "std         7.191997      13.561004   22697.767366\n",
       "min         0.830000       1.000000    1105.000000\n",
       "25%         6.830000      15.000000    4783.000000\n",
       "50%        11.250000      26.000000    7425.000000\n",
       "75%        16.170000      38.000000   42521.000000\n",
       "max        49.830000      49.000000  123071.000000"
      ]
     },
     "execution_count": 12,
     "metadata": {},
     "output_type": "execute_result"
    }
   ],
   "source": [
    "# Statistical values for each attribute\"\n",
    "flight_data.describe()"
   ]
  },
  {
   "cell_type": "markdown",
   "id": "a1c016ac",
   "metadata": {
    "id": "a1c016ac"
   },
   "source": [
    "### **Attributes - Data Visualization**"
   ]
  },
  {
   "cell_type": "code",
   "execution_count": null,
   "id": "8d912880",
   "metadata": {
    "id": "8d912880",
    "outputId": "f3fe6f2a-5199-4efd-f234-82424a4e195d"
   },
   "outputs": [
    {
     "data": {
      "image/png": "[encoded data removed]",
      "text/plain": [
       "<Figure size 1440x1080 with 4 Axes>"
      ]
     },
     "metadata": {
      "needs_background": "light"
     },
     "output_type": "display_data"
    }
   ],
   "source": [
    "#Plotting hidtograms\n",
    "flight_data.hist(bins=50, figsize=(20,15))\n",
    "plt.show()"
   ]
  },
  {
   "cell_type": "markdown",
   "id": "ba0d500a",
   "metadata": {
    "id": "ba0d500a"
   },
   "source": [
    "**Observation: From the above visualizations, we can see that 'days_left' attribute is a discrete attribute.**"
   ]
  },
  {
   "cell_type": "code",
   "execution_count": null,
   "id": "3ff10c34",
   "metadata": {
    "id": "3ff10c34",
    "outputId": "08cb3581-ebc6-4e81-83e4-6670a7289e48"
   },
   "outputs": [
    {
     "data": {
      "text/plain": [
       "one            250863\n",
       "zero            36004\n",
       "two_or_more     13286\n",
       "Name: stops, dtype: int64"
      ]
     },
     "execution_count": 17,
     "metadata": {},
     "output_type": "execute_result"
    }
   ],
   "source": [
    "flight_data['stops'].value_counts()"
   ]
  },
  {
   "cell_type": "code",
   "execution_count": null,
   "id": "b19d76a9",
   "metadata": {
    "id": "b19d76a9",
    "outputId": "1b9a9fd7-8fe8-4358-f5ff-d9c9356e18a0"
   },
   "outputs": [
    {
     "name": "stderr",
     "output_type": "stream",
     "text": [
      "C:\\Users\\diksh\\anaconda3\\lib\\site-packages\\seaborn\\_decorators.py:36: FutureWarning: Pass the following variables as keyword args: x, y. From version 0.12, the only valid positional argument will be `data`, and passing other arguments without an explicit keyword will result in an error or misinterpretation.\n",
      "  warnings.warn(\n"
     ]
    },
    {
     "data": {
      "text/plain": [
       "<AxesSubplot:xlabel='airline', ylabel='price'>"
      ]
     },
     "execution_count": 18,
     "metadata": {},
     "output_type": "execute_result"
    },
    {
     "data": {
      "image/png": "[encoded data removed]",
      "text/plain": [
       "<Figure size 432x288 with 1 Axes>"
      ]
     },
     "metadata": {
      "needs_background": "light"
     },
     "output_type": "display_data"
    }
   ],
   "source": [
    "sns.barplot('airline','price',data=flight_data)"
   ]
  },
  {
   "cell_type": "markdown",
   "id": "542c5ddd",
   "metadata": {
    "id": "542c5ddd"
   },
   "source": [
    "**From the above graph, we can see that, Vistara's fare is maximum and AirAsia has the minimum fare.**"
   ]
  },
  {
   "cell_type": "code",
   "execution_count": null,
   "id": "7d686cbe",
   "metadata": {
    "id": "7d686cbe",
    "outputId": "da7bb096-d4b6-47d8-ddaf-671bab6263c4"
   },
   "outputs": [
    {
     "data": {
      "image/png": "[encoded data removed]",
      "text/plain": [
       "<Figure size 864x288 with 1 Axes>"
      ]
     },
     "metadata": {},
     "output_type": "display_data"
    }
   ],
   "source": [
    "plt.figure(figsize = (12,4))\n",
    "flight_data[\"departure_time\"].value_counts().plot(kind = \"pie\",cmap = 'rainbow_r',autopct=\"%.3f\")\n",
    "plt.title(\"Departure Time\")#plot grph\n",
    "plt.show()"
   ]
  },
  {
   "cell_type": "markdown",
   "id": "00e49bdc",
   "metadata": {
    "id": "00e49bdc"
   },
   "source": [
    "**In the above pie chart we can se that 'departure_time' attribute takes 6 values.**\n"
   ]
  },
  {
   "cell_type": "code",
   "execution_count": null,
   "id": "92789a02",
   "metadata": {
    "id": "92789a02",
    "outputId": "4c66d75a-7841-4219-ed2f-2105c852df1d"
   },
   "outputs": [
    {
     "data": {
      "image/png": "[encoded data removed]",
      "text/plain": [
       "<Figure size 864x288 with 1 Axes>"
      ]
     },
     "metadata": {},
     "output_type": "display_data"
    }
   ],
   "source": [
    "plt.figure(figsize = (12,4))\n",
    "flight_data[\"arrival_time\"].value_counts().plot(kind=\"pie\",cmap = 'rainbow',autopct = \"%.3f\",)\n",
    "plt.title(\"Arrival Time\")#plot grph\n",
    "plt.show()"
   ]
  },
  {
   "cell_type": "markdown",
   "id": "9624f278",
   "metadata": {
    "id": "9624f278"
   },
   "source": [
    "**In the above pie chart we can se that 'arrival_time' attribute takes 6 values.**"
   ]
  },
  {
   "cell_type": "code",
   "execution_count": null,
   "id": "0bea9f85",
   "metadata": {
    "id": "0bea9f85",
    "outputId": "fa200b1a-3c0a-4ae1-ad62-15e8a967450e"
   },
   "outputs": [
    {
     "data": {
      "image/png": "[encoded data removed]",
      "text/plain": [
       "<Figure size 864x288 with 1 Axes>"
      ]
     },
     "metadata": {},
     "output_type": "display_data"
    }
   ],
   "source": [
    "plt.figure(figsize = (12,4))\n",
    "flight_data[\"source_city\"].value_counts().plot(kind=\"pie\",cmap = 'cool',autopct = \"%.3f\",)\n",
    "plt.title(\"Source City\")#plot grph\n",
    "plt.show()"
   ]
  },
  {
   "cell_type": "markdown",
   "id": "f0480aec",
   "metadata": {
    "id": "f0480aec"
   },
   "source": [
    "**In the above pie chart we can se that 'source_city' attribute takes 6 values.**"
   ]
  },
  {
   "cell_type": "code",
   "execution_count": null,
   "id": "ec877d19",
   "metadata": {
    "id": "ec877d19",
    "outputId": "799b9319-17f8-4a8a-c5a5-f20ea7fccd54"
   },
   "outputs": [
    {
     "data": {
      "image/png": "[encoded data removed]",
      "text/plain": [
       "<Figure size 864x288 with 1 Axes>"
      ]
     },
     "metadata": {},
     "output_type": "display_data"
    }
   ],
   "source": [
    "plt.figure(figsize = (12,4))\n",
    "flight_data[\"destination_city\"].value_counts().plot(kind=\"pie\",cmap = 'summer',autopct = \"%.3f\",)\n",
    "plt.title(\"Destination City\")#plot grph\n",
    "plt.show()"
   ]
  },
  {
   "cell_type": "markdown",
   "id": "35b98723",
   "metadata": {
    "id": "35b98723"
   },
   "source": [
    "**In the above pie chart we can se that 'destination_city' attribute takes 6 values.**"
   ]
  },
  {
   "cell_type": "markdown",
   "id": "f900c506",
   "metadata": {
    "id": "f900c506"
   },
   "source": [
    "**Visualization Observations/Results:**\n",
    "\n",
    "From the above visualizations, we can se that attributes like destination_city, source_city, arrival_time, departure_time and stops are categorical variables.\n",
    "Therefore we need to convert them to numerical values before proceeding with applying any ML models. So, for attributes, 'stops', 'departure_time', 'arrival_time', 'class', we have encoded them to defined numeric value. And we have used one hot encoder to convert to convert the attributes, \"source_city\" and \"destination_city\". "
   ]
  },
  {
   "cell_type": "code",
   "execution_count": null,
   "id": "3dfe11e8",
   "metadata": {
    "id": "3dfe11e8",
    "outputId": "fb0c9ec8-7225-4237-e9b5-f9c6e2d8eec9"
   },
   "outputs": [
    {
     "data": {
      "text/html": [
       "<div>\n",
       "<style scoped>\n",
       "    .dataframe tbody tr th:only-of-type {\n",
       "        vertical-align: middle;\n",
       "    }\n",
       "\n",
       "    .dataframe tbody tr th {\n",
       "        vertical-align: top;\n",
       "    }\n",
       "\n",
       "    .dataframe thead th {\n",
       "        text-align: right;\n",
       "    }\n",
       "</style>\n",
       "<table border=\"1\" class=\"dataframe\">\n",
       "  <thead>\n",
       "    <tr style=\"text-align: right;\">\n",
       "      <th></th>\n",
       "      <th>airline</th>\n",
       "      <th>source_city</th>\n",
       "      <th>departure_time</th>\n",
       "      <th>stops</th>\n",
       "      <th>arrival_time</th>\n",
       "      <th>destination_city</th>\n",
       "      <th>class</th>\n",
       "      <th>duration</th>\n",
       "      <th>days_left</th>\n",
       "      <th>price</th>\n",
       "    </tr>\n",
       "  </thead>\n",
       "  <tbody>\n",
       "    <tr>\n",
       "      <th>0</th>\n",
       "      <td>SpiceJet</td>\n",
       "      <td>Delhi</td>\n",
       "      <td>Evening</td>\n",
       "      <td>zero</td>\n",
       "      <td>Night</td>\n",
       "      <td>Mumbai</td>\n",
       "      <td>Economy</td>\n",
       "      <td>2.17</td>\n",
       "      <td>1</td>\n",
       "      <td>5953</td>\n",
       "    </tr>\n",
       "  </tbody>\n",
       "</table>\n",
       "</div>"
      ],
      "text/plain": [
       "    airline source_city departure_time stops arrival_time destination_city  \\\n",
       "0  SpiceJet       Delhi        Evening  zero        Night           Mumbai   \n",
       "\n",
       "     class  duration  days_left  price  \n",
       "0  Economy      2.17          1   5953  "
      ]
     },
     "execution_count": 26,
     "metadata": {},
     "output_type": "execute_result"
    }
   ],
   "source": [
    "#Dropping the 'flight' attribute\n",
    "flight_data = flight_data.drop(\"flight\", axis = 1)\n",
    "flight_data.head(1)"
   ]
  },
  {
   "cell_type": "markdown",
   "id": "XSW4kO58ROO6",
   "metadata": {
    "id": "XSW4kO58ROO6"
   },
   "source": [
    "### **Encoding to defined values**"
   ]
  },
  {
   "cell_type": "code",
   "execution_count": null,
   "id": "e705927b",
   "metadata": {
    "id": "e705927b",
    "outputId": "956753f9-8ee1-45c7-a649-c9ca8d9259f6"
   },
   "outputs": [
    {
     "data": {
      "text/html": [
       "<div>\n",
       "<style scoped>\n",
       "    .dataframe tbody tr th:only-of-type {\n",
       "        vertical-align: middle;\n",
       "    }\n",
       "\n",
       "    .dataframe tbody tr th {\n",
       "        vertical-align: top;\n",
       "    }\n",
       "\n",
       "    .dataframe thead th {\n",
       "        text-align: right;\n",
       "    }\n",
       "</style>\n",
       "<table border=\"1\" class=\"dataframe\">\n",
       "  <thead>\n",
       "    <tr style=\"text-align: right;\">\n",
       "      <th></th>\n",
       "      <th>airline</th>\n",
       "      <th>source_city</th>\n",
       "      <th>departure_time</th>\n",
       "      <th>stops</th>\n",
       "      <th>arrival_time</th>\n",
       "      <th>destination_city</th>\n",
       "      <th>class</th>\n",
       "      <th>duration</th>\n",
       "      <th>days_left</th>\n",
       "      <th>price</th>\n",
       "    </tr>\n",
       "  </thead>\n",
       "  <tbody>\n",
       "    <tr>\n",
       "      <th>0</th>\n",
       "      <td>SpiceJet</td>\n",
       "      <td>Delhi</td>\n",
       "      <td>4</td>\n",
       "      <td>0</td>\n",
       "      <td>0</td>\n",
       "      <td>Mumbai</td>\n",
       "      <td>0</td>\n",
       "      <td>2.17</td>\n",
       "      <td>1</td>\n",
       "      <td>5953</td>\n",
       "    </tr>\n",
       "    <tr>\n",
       "      <th>1</th>\n",
       "      <td>SpiceJet</td>\n",
       "      <td>Delhi</td>\n",
       "      <td>1</td>\n",
       "      <td>0</td>\n",
       "      <td>2</td>\n",
       "      <td>Mumbai</td>\n",
       "      <td>0</td>\n",
       "      <td>2.33</td>\n",
       "      <td>1</td>\n",
       "      <td>5953</td>\n",
       "    </tr>\n",
       "    <tr>\n",
       "      <th>2</th>\n",
       "      <td>AirAsia</td>\n",
       "      <td>Delhi</td>\n",
       "      <td>1</td>\n",
       "      <td>0</td>\n",
       "      <td>1</td>\n",
       "      <td>Mumbai</td>\n",
       "      <td>0</td>\n",
       "      <td>2.17</td>\n",
       "      <td>1</td>\n",
       "      <td>5956</td>\n",
       "    </tr>\n",
       "    <tr>\n",
       "      <th>3</th>\n",
       "      <td>Vistara</td>\n",
       "      <td>Delhi</td>\n",
       "      <td>2</td>\n",
       "      <td>0</td>\n",
       "      <td>3</td>\n",
       "      <td>Mumbai</td>\n",
       "      <td>0</td>\n",
       "      <td>2.25</td>\n",
       "      <td>1</td>\n",
       "      <td>5955</td>\n",
       "    </tr>\n",
       "    <tr>\n",
       "      <th>4</th>\n",
       "      <td>Vistara</td>\n",
       "      <td>Delhi</td>\n",
       "      <td>2</td>\n",
       "      <td>0</td>\n",
       "      <td>2</td>\n",
       "      <td>Mumbai</td>\n",
       "      <td>0</td>\n",
       "      <td>2.33</td>\n",
       "      <td>1</td>\n",
       "      <td>5955</td>\n",
       "    </tr>\n",
       "  </tbody>\n",
       "</table>\n",
       "</div>"
      ],
      "text/plain": [
       "    airline source_city  departure_time  stops  arrival_time destination_city  \\\n",
       "0  SpiceJet       Delhi               4      0             0           Mumbai   \n",
       "1  SpiceJet       Delhi               1      0             2           Mumbai   \n",
       "2   AirAsia       Delhi               1      0             1           Mumbai   \n",
       "3   Vistara       Delhi               2      0             3           Mumbai   \n",
       "4   Vistara       Delhi               2      0             2           Mumbai   \n",
       "\n",
       "   class  duration  days_left  price  \n",
       "0      0      2.17          1   5953  \n",
       "1      0      2.33          1   5953  \n",
       "2      0      2.17          1   5956  \n",
       "3      0      2.25          1   5955  \n",
       "4      0      2.33          1   5955  "
      ]
     },
     "execution_count": 27,
     "metadata": {},
     "output_type": "execute_result"
    }
   ],
   "source": [
    "#Encoding to defined values\n",
    "flight_data[\"stops\"].replace({'zero':0,'one':1,'two_or_more':2},inplace=True)\n",
    "flight_data[\"departure_time\"].replace({'Night':0,'Early_Morning':1,'Morning':2,\n",
    "                               'Afternoon':3,'Evening':4,'Late_Night':5},inplace=True)\n",
    "flight_data[\"arrival_time\"].replace({'Night':0,'Early_Morning':1,'Morning':2,\n",
    "                             'Afternoon':3,'Evening':4,'Late_Night':5},inplace=True)\n",
    "flight_data[\"class\"].replace({\"Economy\":0,\"Business\":1},inplace=True)\n",
    "flight_data.head(5)"
   ]
  },
  {
   "cell_type": "code",
   "execution_count": null,
   "id": "41dc8cec",
   "metadata": {
    "id": "41dc8cec",
    "outputId": "84cedbcf-8f71-4381-b7dd-2ec81cd63c5e"
   },
   "outputs": [
    {
     "name": "stdout",
     "output_type": "stream",
     "text": [
      "<class 'pandas.core.frame.DataFrame'>\n",
      "RangeIndex: 300153 entries, 0 to 300152\n",
      "Data columns (total 10 columns):\n",
      " #   Column            Non-Null Count   Dtype  \n",
      "---  ------            --------------   -----  \n",
      " 0   airline           300153 non-null  object \n",
      " 1   source_city       300153 non-null  object \n",
      " 2   departure_time    300153 non-null  int64  \n",
      " 3   stops             300153 non-null  int64  \n",
      " 4   arrival_time      300153 non-null  int64  \n",
      " 5   destination_city  300153 non-null  object \n",
      " 6   class             300153 non-null  int64  \n",
      " 7   duration          300153 non-null  float64\n",
      " 8   days_left         300153 non-null  int64  \n",
      " 9   price             300153 non-null  int64  \n",
      "dtypes: float64(1), int64(6), object(3)\n",
      "memory usage: 71.1 MB\n"
     ]
    }
   ],
   "source": [
    "flight_data.info(memory_usage='deep')"
   ]
  },
  {
   "cell_type": "markdown",
   "id": "tLGYnrKZRVDg",
   "metadata": {
    "id": "tLGYnrKZRVDg"
   },
   "source": [
    "### **Encoding using onehot encoder**"
   ]
  },
  {
   "cell_type": "code",
   "execution_count": null,
   "id": "fb8a70cd",
   "metadata": {
    "id": "fb8a70cd",
    "outputId": "d7c94d7c-9813-48b1-b676-331bb3cc910d"
   },
   "outputs": [
    {
     "data": {
      "text/html": [
       "<div>\n",
       "<style scoped>\n",
       "    .dataframe tbody tr th:only-of-type {\n",
       "        vertical-align: middle;\n",
       "    }\n",
       "\n",
       "    .dataframe tbody tr th {\n",
       "        vertical-align: top;\n",
       "    }\n",
       "\n",
       "    .dataframe thead th {\n",
       "        text-align: right;\n",
       "    }\n",
       "</style>\n",
       "<table border=\"1\" class=\"dataframe\">\n",
       "  <thead>\n",
       "    <tr style=\"text-align: right;\">\n",
       "      <th></th>\n",
       "      <th>departure_time</th>\n",
       "      <th>stops</th>\n",
       "      <th>arrival_time</th>\n",
       "      <th>class</th>\n",
       "      <th>duration</th>\n",
       "      <th>days_left</th>\n",
       "      <th>price</th>\n",
       "      <th>SpiceJet</th>\n",
       "      <th>AirAsia</th>\n",
       "      <th>Vistara</th>\n",
       "      <th>...</th>\n",
       "      <th>destination_city_Delhi</th>\n",
       "      <th>destination_city_Hyderabad</th>\n",
       "      <th>destination_city_Kolkata</th>\n",
       "      <th>destination_city_Mumbai</th>\n",
       "      <th>source_city_Bangalore</th>\n",
       "      <th>source_city_Chennai</th>\n",
       "      <th>source_city_Delhi</th>\n",
       "      <th>source_city_Hyderabad</th>\n",
       "      <th>source_city_Kolkata</th>\n",
       "      <th>source_city_Mumbai</th>\n",
       "    </tr>\n",
       "  </thead>\n",
       "  <tbody>\n",
       "    <tr>\n",
       "      <th>0</th>\n",
       "      <td>4</td>\n",
       "      <td>0</td>\n",
       "      <td>0</td>\n",
       "      <td>0</td>\n",
       "      <td>2.17</td>\n",
       "      <td>1</td>\n",
       "      <td>5953</td>\n",
       "      <td>0.0</td>\n",
       "      <td>0.0</td>\n",
       "      <td>0.0</td>\n",
       "      <td>...</td>\n",
       "      <td>0</td>\n",
       "      <td>0</td>\n",
       "      <td>0</td>\n",
       "      <td>1</td>\n",
       "      <td>0</td>\n",
       "      <td>0</td>\n",
       "      <td>1</td>\n",
       "      <td>0</td>\n",
       "      <td>0</td>\n",
       "      <td>0</td>\n",
       "    </tr>\n",
       "    <tr>\n",
       "      <th>1</th>\n",
       "      <td>1</td>\n",
       "      <td>0</td>\n",
       "      <td>2</td>\n",
       "      <td>0</td>\n",
       "      <td>2.33</td>\n",
       "      <td>1</td>\n",
       "      <td>5953</td>\n",
       "      <td>0.0</td>\n",
       "      <td>0.0</td>\n",
       "      <td>0.0</td>\n",
       "      <td>...</td>\n",
       "      <td>0</td>\n",
       "      <td>0</td>\n",
       "      <td>0</td>\n",
       "      <td>1</td>\n",
       "      <td>0</td>\n",
       "      <td>0</td>\n",
       "      <td>1</td>\n",
       "      <td>0</td>\n",
       "      <td>0</td>\n",
       "      <td>0</td>\n",
       "    </tr>\n",
       "    <tr>\n",
       "      <th>2</th>\n",
       "      <td>1</td>\n",
       "      <td>0</td>\n",
       "      <td>1</td>\n",
       "      <td>0</td>\n",
       "      <td>2.17</td>\n",
       "      <td>1</td>\n",
       "      <td>5956</td>\n",
       "      <td>1.0</td>\n",
       "      <td>0.0</td>\n",
       "      <td>0.0</td>\n",
       "      <td>...</td>\n",
       "      <td>0</td>\n",
       "      <td>0</td>\n",
       "      <td>0</td>\n",
       "      <td>1</td>\n",
       "      <td>0</td>\n",
       "      <td>0</td>\n",
       "      <td>1</td>\n",
       "      <td>0</td>\n",
       "      <td>0</td>\n",
       "      <td>0</td>\n",
       "    </tr>\n",
       "    <tr>\n",
       "      <th>3</th>\n",
       "      <td>2</td>\n",
       "      <td>0</td>\n",
       "      <td>3</td>\n",
       "      <td>0</td>\n",
       "      <td>2.25</td>\n",
       "      <td>1</td>\n",
       "      <td>5955</td>\n",
       "      <td>0.0</td>\n",
       "      <td>0.0</td>\n",
       "      <td>0.0</td>\n",
       "      <td>...</td>\n",
       "      <td>0</td>\n",
       "      <td>0</td>\n",
       "      <td>0</td>\n",
       "      <td>1</td>\n",
       "      <td>0</td>\n",
       "      <td>0</td>\n",
       "      <td>1</td>\n",
       "      <td>0</td>\n",
       "      <td>0</td>\n",
       "      <td>0</td>\n",
       "    </tr>\n",
       "  </tbody>\n",
       "</table>\n",
       "<p>4 rows × 25 columns</p>\n",
       "</div>"
      ],
      "text/plain": [
       "   departure_time  stops  arrival_time  class  duration  days_left  price  \\\n",
       "0               4      0             0      0      2.17          1   5953   \n",
       "1               1      0             2      0      2.33          1   5953   \n",
       "2               1      0             1      0      2.17          1   5956   \n",
       "3               2      0             3      0      2.25          1   5955   \n",
       "\n",
       "   SpiceJet  AirAsia  Vistara  ...  destination_city_Delhi  \\\n",
       "0       0.0      0.0      0.0  ...                       0   \n",
       "1       0.0      0.0      0.0  ...                       0   \n",
       "2       1.0      0.0      0.0  ...                       0   \n",
       "3       0.0      0.0      0.0  ...                       0   \n",
       "\n",
       "   destination_city_Hyderabad  destination_city_Kolkata  \\\n",
       "0                           0                         0   \n",
       "1                           0                         0   \n",
       "2                           0                         0   \n",
       "3                           0                         0   \n",
       "\n",
       "   destination_city_Mumbai  source_city_Bangalore  source_city_Chennai  \\\n",
       "0                        1                      0                    0   \n",
       "1                        1                      0                    0   \n",
       "2                        1                      0                    0   \n",
       "3                        1                      0                    0   \n",
       "\n",
       "   source_city_Delhi  source_city_Hyderabad  source_city_Kolkata  \\\n",
       "0                  1                      0                    0   \n",
       "1                  1                      0                    0   \n",
       "2                  1                      0                    0   \n",
       "3                  1                      0                    0   \n",
       "\n",
       "   source_city_Mumbai  \n",
       "0                   0  \n",
       "1                   0  \n",
       "2                   0  \n",
       "3                   0  \n",
       "\n",
       "[4 rows x 25 columns]"
      ]
     },
     "execution_count": 29,
     "metadata": {},
     "output_type": "execute_result"
    }
   ],
   "source": [
    "# encoding using onehot encoder\n",
    "\n",
    "from sklearn.preprocessing import OneHotEncoder\n",
    "onehot_enc = OneHotEncoder()\n",
    "flight_data[list(flight_data[\"airline\"].unique())]= onehot_enc.fit_transform(flight_data[[\"airline\"]]).A\n",
    "flight_data = pd.concat([flight_data,pd.get_dummies(flight_data[\"destination_city\"],prefix = \"destination_city\")], axis = 1)\n",
    "flight_data=pd.concat([flight_data,pd.get_dummies(flight_data[\"source_city\"],prefix = \"source_city\")], axis = 1)\n",
    "\n",
    "#Droping\"source_city\",\"airline\",\"destination_city\" attributes\n",
    "flight_data.drop([\"source_city\",\"airline\",\"destination_city\"],axis = 1,inplace=True)\n",
    "flight_data.head(4)"
   ]
  },
  {
   "cell_type": "markdown",
   "id": "izhYkyi8Rdre",
   "metadata": {
    "id": "izhYkyi8Rdre"
   },
   "source": [
    "# Analyze and discuss the relationships between the data attributes, and between the data attributes and label. This involves computing the Pearson Correlation Coefficient (PCC) and generating scatter plots. "
   ]
  },
  {
   "cell_type": "markdown",
   "id": "kl-1zIi4SMFJ",
   "metadata": {
    "id": "kl-1zIi4SMFJ"
   },
   "source": [
    "Note: Scatterplots have been generated in the **EDA section** of Q2."
   ]
  },
  {
   "cell_type": "markdown",
   "id": "bc11b17d",
   "metadata": {
    "id": "bc11b17d"
   },
   "source": [
    "### **Correlation**"
   ]
  },
  {
   "cell_type": "code",
   "execution_count": null,
   "id": "c4452da5",
   "metadata": {
    "id": "c4452da5",
    "outputId": "87e2c337-ab38-4090-d820-0ecc1b82e710"
   },
   "outputs": [
    {
     "name": "stdout",
     "output_type": "stream",
     "text": [
      "Pearson Correlation Coefficient between all data attributes and label:  \n",
      " \n",
      " departure_time               -0.032200\n",
      "stops                         0.119648\n",
      "arrival_time                 -0.016877\n",
      "class                         0.937860\n",
      "duration                      0.204222\n",
      "days_left                    -0.091949\n",
      "price                         1.000000\n",
      "SpiceJet                     -0.176188\n",
      "AirAsia                       0.070041\n",
      "Vistara                      -0.194179\n",
      "GO_FIRST                     -0.280882\n",
      "Indigo                       -0.114019\n",
      "Air_India                     0.360816\n",
      "destination_city_Bangalore    0.014050\n",
      "destination_city_Chennai      0.018473\n",
      "destination_city_Delhi       -0.052527\n",
      "destination_city_Hyderabad   -0.008292\n",
      "destination_city_Kolkata      0.020956\n",
      "destination_city_Mumbai       0.010533\n",
      "source_city_Bangalore         0.011702\n",
      "source_city_Chennai           0.018742\n",
      "source_city_Delhi            -0.043282\n",
      "source_city_Hyderabad        -0.012828\n",
      "source_city_Kolkata           0.016127\n",
      "source_city_Mumbai            0.013206\n",
      "Name: price, dtype: float64\n"
     ]
    }
   ],
   "source": [
    "#Pearson Correlation Coefficients between all data attributes and the label\n",
    "pearson_corr_label = flight_data.corr()[\"price\"]\n",
    "print(f\"Pearson Correlation Coefficient between all data attributes and label:  \\n \\n\",pearson_corr_label)"
   ]
  },
  {
   "cell_type": "markdown",
   "id": "ac59fbc0",
   "metadata": {
    "id": "ac59fbc0"
   },
   "source": [
    "**From above, we can see that departure_time,arrival_time , days_left have negative correlation with 'price' attribute which is the target attribute. 'Class' has the strongest positive linear association with the 'price' attribute.**"
   ]
  },
  {
   "cell_type": "code",
   "execution_count": null,
   "id": "c621c031",
   "metadata": {
    "id": "c621c031",
    "outputId": "2b664745-a397-46c8-b470-757bf2cebc3b"
   },
   "outputs": [
    {
     "name": "stdout",
     "output_type": "stream",
     "text": [
      "Pearson Correlation Coefficient between all data attributes:  \n",
      " \n",
      "                             departure_time     stops  arrival_time     class  \\\n",
      "departure_time                    1.000000  0.008104     -0.038493 -0.032428   \n",
      "stops                             0.008104  1.000000      0.015004  0.001027   \n",
      "arrival_time                     -0.038493  0.015004      1.000000 -0.018187   \n",
      "class                            -0.032428  0.001027     -0.018187  1.000000   \n",
      "duration                         -0.014876  0.468059      0.002074  0.138710   \n",
      "days_left                        -0.006087 -0.008540      0.002395 -0.013039   \n",
      "price                            -0.032200  0.119648     -0.016877  0.937860   \n",
      "SpiceJet                         -0.002720  0.038277      0.066924 -0.160113   \n",
      "AirAsia                          -0.015916  0.060215     -0.033329  0.124899   \n",
      "Vistara                           0.015177 -0.033363      0.006996 -0.194540   \n",
      "GO_FIRST                          0.069280 -0.172133      0.042083 -0.275477   \n",
      "Indigo                           -0.015852 -0.087293     -0.034451 -0.118325   \n",
      "Air_India                        -0.036342  0.098758     -0.022322  0.302116   \n",
      "destination_city_Bangalore       -0.002908  0.014727      0.009316  0.005593   \n",
      "destination_city_Chennai          0.018427  0.060865     -0.061971  0.012331   \n",
      "destination_city_Delhi           -0.010258 -0.104565      0.085555 -0.021200   \n",
      "destination_city_Hyderabad        0.007862  0.029073     -0.047131  0.007564   \n",
      "destination_city_Kolkata          0.016988  0.062722      0.081889 -0.012987   \n",
      "destination_city_Mumbai          -0.025686 -0.046849     -0.075255  0.010573   \n",
      "source_city_Bangalore             0.035704  0.005822      0.028818  0.004291   \n",
      "source_city_Chennai              -0.072053  0.021379      0.013269  0.010204   \n",
      "source_city_Delhi                 0.093296 -0.052321     -0.029291 -0.014098   \n",
      "source_city_Hyderabad            -0.070222  0.011196     -0.002681  0.003367   \n",
      "source_city_Kolkata              -0.005614  0.046828     -0.011763 -0.019162   \n",
      "source_city_Mumbai               -0.002229 -0.022452      0.004035  0.015941   \n",
      "\n",
      "                            duration  days_left     price  SpiceJet   AirAsia  \\\n",
      "departure_time             -0.014876  -0.006087 -0.032200 -0.002720 -0.015916   \n",
      "stops                       0.468059  -0.008540  0.119648  0.038277  0.060215   \n",
      "arrival_time                0.002074   0.002395 -0.016877  0.066924 -0.033329   \n",
      "class                       0.138710  -0.013039  0.937860 -0.160113  0.124899   \n",
      "duration                    1.000000  -0.039157  0.204222 -0.108547  0.277283   \n",
      "days_left                  -0.039157   1.000000 -0.091949  0.030377 -0.022721   \n",
      "price                       0.204222  -0.091949  1.000000 -0.176188  0.070041   \n",
      "SpiceJet                   -0.108547   0.030377 -0.176188  1.000000 -0.144596   \n",
      "AirAsia                     0.277283  -0.022721  0.070041 -0.144596  1.000000   \n",
      "Vistara                    -0.139380   0.030408 -0.194179 -0.068858 -0.175687   \n",
      "GO_FIRST                   -0.365953   0.007839 -0.280882 -0.097506 -0.248781   \n",
      "Indigo                      0.008776  -0.024414 -0.114019 -0.041881 -0.106858   \n",
      "Air_India                   0.132430  -0.007002  0.360816 -0.205076 -0.523242   \n",
      "destination_city_Bangalore -0.010261   0.001464  0.014050  0.027474 -0.036048   \n",
      "destination_city_Chennai    0.061271   0.000456  0.018473 -0.028132  0.005760   \n",
      "destination_city_Delhi     -0.115412   0.006233 -0.052527  0.051026 -0.017354   \n",
      "destination_city_Hyderabad  0.065762  -0.000018 -0.008292 -0.030960  0.010900   \n",
      "destination_city_Kolkata    0.061440  -0.003840  0.020956  0.005273 -0.006201   \n",
      "destination_city_Mumbai    -0.043900  -0.004337  0.010533 -0.029994  0.042490   \n",
      "source_city_Bangalore      -0.012218  -0.001667  0.011702  0.022334 -0.039237   \n",
      "source_city_Chennai         0.033053   0.002581  0.018742 -0.025487 -0.011600   \n",
      "source_city_Delhi          -0.049719  -0.001292 -0.043282  0.040231  0.009886   \n",
      "source_city_Hyderabad       0.002595   0.010817 -0.012828 -0.014866  0.001987   \n",
      "source_city_Kolkata         0.061133   0.000265  0.016127  0.014049 -0.001883   \n",
      "source_city_Mumbai         -0.023329  -0.008742  0.013206 -0.040083  0.036697   \n",
      "\n",
      "                             Vistara  ...  destination_city_Delhi  \\\n",
      "departure_time              0.015177  ...               -0.010258   \n",
      "stops                      -0.033363  ...               -0.104565   \n",
      "arrival_time                0.006996  ...                0.085555   \n",
      "class                      -0.194540  ...               -0.021200   \n",
      "duration                   -0.139380  ...               -0.115412   \n",
      "days_left                   0.030408  ...                0.006233   \n",
      "price                      -0.194179  ...               -0.052527   \n",
      "SpiceJet                   -0.068858  ...                0.051026   \n",
      "AirAsia                    -0.175687  ...               -0.017354   \n",
      "Vistara                     1.000000  ...                0.034305   \n",
      "GO_FIRST                   -0.118471  ...               -0.002593   \n",
      "Indigo                     -0.050886  ...                0.040668   \n",
      "Air_India                  -0.249171  ...               -0.038389   \n",
      "destination_city_Bangalore  0.014727  ...               -0.220083   \n",
      "destination_city_Chennai   -0.059581  ...               -0.191601   \n",
      "destination_city_Delhi      0.034305  ...                1.000000   \n",
      "destination_city_Hyderabad -0.025814  ...               -0.198018   \n",
      "destination_city_Kolkata   -0.001016  ...               -0.216088   \n",
      "destination_city_Mumbai     0.026916  ...               -0.240664   \n",
      "source_city_Bangalore       0.015780  ...                0.085200   \n",
      "source_city_Chennai        -0.063273  ...                0.060364   \n",
      "source_city_Delhi           0.030585  ...               -0.246344   \n",
      "source_city_Hyderabad      -0.023541  ...                0.017501   \n",
      "source_city_Kolkata         0.000409  ...                0.038670   \n",
      "source_city_Mumbai          0.026898  ...                0.066830   \n",
      "\n",
      "                            destination_city_Hyderabad  \\\n",
      "departure_time                                0.007862   \n",
      "stops                                         0.029073   \n",
      "arrival_time                                 -0.047131   \n",
      "class                                         0.007564   \n",
      "duration                                      0.065762   \n",
      "days_left                                    -0.000018   \n",
      "price                                        -0.008292   \n",
      "SpiceJet                                     -0.030960   \n",
      "AirAsia                                       0.010900   \n",
      "Vistara                                      -0.025814   \n",
      "GO_FIRST                                      0.000244   \n",
      "Indigo                                       -0.050272   \n",
      "Air_India                                     0.035434   \n",
      "destination_city_Bangalore                   -0.184467   \n",
      "destination_city_Chennai                     -0.160594   \n",
      "destination_city_Delhi                       -0.198018   \n",
      "destination_city_Hyderabad                    1.000000   \n",
      "destination_city_Kolkata                     -0.181119   \n",
      "destination_city_Mumbai                      -0.201717   \n",
      "source_city_Bangalore                         0.038209   \n",
      "source_city_Chennai                           0.016905   \n",
      "source_city_Delhi                             0.014093   \n",
      "source_city_Hyderabad                        -0.161600   \n",
      "source_city_Kolkata                           0.034295   \n",
      "source_city_Mumbai                            0.042717   \n",
      "\n",
      "                            destination_city_Kolkata  destination_city_Mumbai  \\\n",
      "departure_time                              0.016988                -0.025686   \n",
      "stops                                       0.062722                -0.046849   \n",
      "arrival_time                                0.081889                -0.075255   \n",
      "class                                      -0.012987                 0.010573   \n",
      "duration                                    0.061440                -0.043900   \n",
      "days_left                                  -0.003840                -0.004337   \n",
      "price                                       0.020956                 0.010533   \n",
      "SpiceJet                                    0.005273                -0.029994   \n",
      "AirAsia                                    -0.006201                 0.042490   \n",
      "Vistara                                    -0.001016                 0.026916   \n",
      "GO_FIRST                                    0.033801                -0.031242   \n",
      "Indigo                                      0.029817                -0.000058   \n",
      "Air_India                                  -0.030555                -0.016810   \n",
      "destination_city_Bangalore                 -0.201301                -0.224194   \n",
      "destination_city_Chennai                   -0.175249                -0.195180   \n",
      "destination_city_Delhi                     -0.216088                -0.240664   \n",
      "destination_city_Hyderabad                 -0.181119                -0.201717   \n",
      "destination_city_Kolkata                    1.000000                -0.220125   \n",
      "destination_city_Mumbai                    -0.220125                 1.000000   \n",
      "source_city_Bangalore                       0.034049                 0.059496   \n",
      "source_city_Chennai                         0.015972                 0.042960   \n",
      "source_city_Delhi                           0.040300                 0.066721   \n",
      "source_city_Hyderabad                       0.032807                 0.049618   \n",
      "source_city_Kolkata                        -0.189979                 0.054298   \n",
      "source_city_Mumbai                          0.056964                -0.249796   \n",
      "\n",
      "                            source_city_Bangalore  source_city_Chennai  \\\n",
      "departure_time                           0.035704            -0.072053   \n",
      "stops                                    0.005822             0.021379   \n",
      "arrival_time                             0.028818             0.013269   \n",
      "class                                    0.004291             0.010204   \n",
      "duration                                -0.012218             0.033053   \n",
      "days_left                               -0.001667             0.002581   \n",
      "price                                    0.011702             0.018742   \n",
      "SpiceJet                                 0.022334            -0.025487   \n",
      "AirAsia                                 -0.039237            -0.011600   \n",
      "Vistara                                  0.015780            -0.063273   \n",
      "GO_FIRST                                -0.010012             0.033626   \n",
      "Indigo                                  -0.015879             0.003331   \n",
      "Air_India                                0.029095             0.031174   \n",
      "destination_city_Bangalore              -0.207420            -0.002419   \n",
      "destination_city_Chennai                -0.015262            -0.151660   \n",
      "destination_city_Delhi                   0.085200             0.060364   \n",
      "destination_city_Hyderabad               0.038209             0.016905   \n",
      "destination_city_Kolkata                 0.034049             0.015972   \n",
      "destination_city_Mumbai                  0.059496             0.042960   \n",
      "source_city_Bangalore                    1.000000            -0.176242   \n",
      "source_city_Chennai                     -0.176242             1.000000   \n",
      "source_city_Delhi                       -0.232170            -0.194991   \n",
      "source_city_Hyderabad                   -0.181707            -0.152609   \n",
      "source_city_Kolkata                     -0.195754            -0.164406   \n",
      "source_city_Mumbai                      -0.231106            -0.194098   \n",
      "\n",
      "                            source_city_Delhi  source_city_Hyderabad  \\\n",
      "departure_time                       0.093296              -0.070222   \n",
      "stops                               -0.052321               0.011196   \n",
      "arrival_time                        -0.029291              -0.002681   \n",
      "class                               -0.014098               0.003367   \n",
      "duration                            -0.049719               0.002595   \n",
      "days_left                           -0.001292               0.010817   \n",
      "price                               -0.043282              -0.012828   \n",
      "SpiceJet                             0.040231              -0.014866   \n",
      "AirAsia                              0.009886               0.001987   \n",
      "Vistara                              0.030585              -0.023541   \n",
      "GO_FIRST                            -0.012615               0.009778   \n",
      "Indigo                               0.033040              -0.050872   \n",
      "Air_India                           -0.046163               0.028317   \n",
      "destination_city_Bangalore           0.078609               0.023574   \n",
      "destination_city_Chennai             0.061265               0.025840   \n",
      "destination_city_Delhi              -0.246344               0.017501   \n",
      "destination_city_Hyderabad           0.014093              -0.161600   \n",
      "destination_city_Kolkata             0.040300               0.032807   \n",
      "destination_city_Mumbai              0.066721               0.049618   \n",
      "source_city_Bangalore               -0.232170              -0.181707   \n",
      "source_city_Chennai                 -0.194991              -0.152609   \n",
      "source_city_Delhi                    1.000000              -0.201038   \n",
      "source_city_Hyderabad               -0.201038               1.000000   \n",
      "source_city_Kolkata                 -0.216579              -0.169505   \n",
      "source_city_Mumbai                  -0.255693              -0.200117   \n",
      "\n",
      "                            source_city_Kolkata  source_city_Mumbai  \n",
      "departure_time                        -0.005614           -0.002229  \n",
      "stops                                  0.046828           -0.022452  \n",
      "arrival_time                          -0.011763            0.004035  \n",
      "class                                 -0.019162            0.015941  \n",
      "duration                               0.061133           -0.023329  \n",
      "days_left                              0.000265           -0.008742  \n",
      "price                                  0.016127            0.013206  \n",
      "SpiceJet                               0.014049           -0.040083  \n",
      "AirAsia                               -0.001883            0.036697  \n",
      "Vistara                                0.000409            0.026898  \n",
      "GO_FIRST                               0.016766           -0.029344  \n",
      "Indigo                                 0.030020           -0.004572  \n",
      "Air_India                             -0.027183           -0.006793  \n",
      "destination_city_Bangalore             0.047567            0.055653  \n",
      "destination_city_Chennai               0.011343            0.047108  \n",
      "destination_city_Delhi                 0.038670            0.066830  \n",
      "destination_city_Hyderabad             0.034295            0.042717  \n",
      "destination_city_Kolkata              -0.189979            0.056964  \n",
      "destination_city_Mumbai                0.054298           -0.249796  \n",
      "source_city_Bangalore                 -0.195754           -0.231106  \n",
      "source_city_Chennai                   -0.164406           -0.194098  \n",
      "source_city_Delhi                     -0.216579           -0.255693  \n",
      "source_city_Hyderabad                 -0.169505           -0.200117  \n",
      "source_city_Kolkata                    1.000000           -0.215587  \n",
      "source_city_Mumbai                    -0.215587            1.000000  \n",
      "\n",
      "[25 rows x 25 columns]\n"
     ]
    },
    {
     "data": {
      "text/plain": [
       "<AxesSubplot:>"
      ]
     },
     "execution_count": 31,
     "metadata": {},
     "output_type": "execute_result"
    },
    {
     "data": {
      "image/png": "[encoded data removed]",
      "text/plain": [
       "<Figure size 1224x792 with 2 Axes>"
      ]
     },
     "metadata": {
      "needs_background": "light"
     },
     "output_type": "display_data"
    }
   ],
   "source": [
    "#Pearson Correlation Coefficients between all data attributes\n",
    "pearson_corr_all_attrs = flight_data.corr()# Compute the PCC between each data attribute and the label\n",
    "print(f\"Pearson Correlation Coefficient between all data attributes:  \\n \\n\",pearson_corr_all_attrs)\n",
    "\n",
    "#Plot heatmap using cmap\n",
    "plt.figure(figsize=(17,11))\n",
    "sns.heatmap(pearson_corr_all_attrs, cmap='BuPu')  "
   ]
  },
  {
   "cell_type": "code",
   "execution_count": null,
   "id": "eababdd5",
   "metadata": {
    "id": "eababdd5",
    "outputId": "d2f64b11-564f-4628-bf77-51918dda20d3"
   },
   "outputs": [
    {
     "name": "stdout",
     "output_type": "stream",
     "text": [
      "Dataset before One Hot Encoding: (300153, 25)\n",
      "Dataset after One Hot Encoding: (300153, 25)\n"
     ]
    }
   ],
   "source": [
    "flight_data_copy = flight_data.copy()\n",
    "flight_data = pd.get_dummies(flight_data, drop_first=True)\n",
    "print(f'Dataset before One Hot Encoding: {flight_data_copy.shape}')\n",
    "print(f'Dataset after One Hot Encoding: {flight_data.shape}')"
   ]
  },
  {
   "cell_type": "code",
   "execution_count": null,
   "id": "e2b3240b",
   "metadata": {
    "id": "e2b3240b",
    "outputId": "db131833-498a-4c4d-d9a4-9f632cb19190"
   },
   "outputs": [
    {
     "name": "stdout",
     "output_type": "stream",
     "text": [
      "<class 'pandas.core.frame.DataFrame'>\n",
      "RangeIndex: 300153 entries, 0 to 300152\n",
      "Data columns (total 25 columns):\n",
      " #   Column                      Non-Null Count   Dtype  \n",
      "---  ------                      --------------   -----  \n",
      " 0   departure_time              300153 non-null  int64  \n",
      " 1   stops                       300153 non-null  int64  \n",
      " 2   arrival_time                300153 non-null  int64  \n",
      " 3   class                       300153 non-null  int64  \n",
      " 4   duration                    300153 non-null  float64\n",
      " 5   days_left                   300153 non-null  int64  \n",
      " 6   price                       300153 non-null  int64  \n",
      " 7   SpiceJet                    300153 non-null  float64\n",
      " 8   AirAsia                     300153 non-null  float64\n",
      " 9   Vistara                     300153 non-null  float64\n",
      " 10  GO_FIRST                    300153 non-null  float64\n",
      " 11  Indigo                      300153 non-null  float64\n",
      " 12  Air_India                   300153 non-null  float64\n",
      " 13  destination_city_Bangalore  300153 non-null  uint8  \n",
      " 14  destination_city_Chennai    300153 non-null  uint8  \n",
      " 15  destination_city_Delhi      300153 non-null  uint8  \n",
      " 16  destination_city_Hyderabad  300153 non-null  uint8  \n",
      " 17  destination_city_Kolkata    300153 non-null  uint8  \n",
      " 18  destination_city_Mumbai     300153 non-null  uint8  \n",
      " 19  source_city_Bangalore       300153 non-null  uint8  \n",
      " 20  source_city_Chennai         300153 non-null  uint8  \n",
      " 21  source_city_Delhi           300153 non-null  uint8  \n",
      " 22  source_city_Hyderabad       300153 non-null  uint8  \n",
      " 23  source_city_Kolkata         300153 non-null  uint8  \n",
      " 24  source_city_Mumbai          300153 non-null  uint8  \n",
      "dtypes: float64(7), int64(6), uint8(12)\n",
      "memory usage: 33.2 MB\n"
     ]
    }
   ],
   "source": [
    "flight_data.info(memory_usage='deep')"
   ]
  },
  {
   "cell_type": "markdown",
   "id": "Ac7THAigR29C",
   "metadata": {
    "id": "Ac7THAigR29C"
   },
   "source": [
    "# Select 20% of the data for testing. Describe how you did that and verify that your test portion of the data is representative of the entire dataset. "
   ]
  },
  {
   "cell_type": "markdown",
   "id": "Aj99DcTWTUX9",
   "metadata": {
    "id": "Aj99DcTWTUX9"
   },
   "source": [
    "Ans: \n",
    "\n",
    "After preprocessing the data which incuded converting categorical data to numeric format and doign hot encoding, data was splitted into training (80%) and testing dataset(20%) which can be seen in the below codes.\n",
    "\n",
    "To verify that the test portion is representative of the entire dataset, mean and standard values were calculated of the training and trsting dataset which were equal for both of them.\n",
    "\n",
    "Training set shape: (240122, 24) (240122, 1)\n",
    "Testing set shape: (60031, 24) (60031, 1)\n",
    "Training set mean: 1.9443897754752466 20859.692722865875\n",
    "Testing set mean: 1.9417646577046308 21009.530725791676\n",
    "Training set standard deviation: 6.418887995692805 22668.001992397778\n",
    "Testing set standard deviation: 6.411858324148167 22815.85789686507"
   ]
  },
  {
   "cell_type": "markdown",
   "id": "737d642d",
   "metadata": {
    "id": "737d642d"
   },
   "source": [
    "### **Split dataset : Train and test data**"
   ]
  },
  {
   "cell_type": "code",
   "execution_count": null,
   "id": "4a9ac0d8",
   "metadata": {
    "id": "4a9ac0d8",
    "outputId": "b41d8ca1-bb42-46b4-83a7-f82f6aa8a04b"
   },
   "outputs": [
    {
     "name": "stdout",
     "output_type": "stream",
     "text": [
      "Training set shape: (240122, 24) (240122, 1)\n",
      "Testing set shape: (60031, 24) (60031, 1)\n",
      "Training set mean: 1.9443897754752466 20859.692722865875\n",
      "Testing set mean: 1.9417646577046308 21009.530725791676\n",
      "Training set standard deviation: 6.418887995692805 22668.001992397778\n",
      "Testing set standard deviation: 6.411858324148167 22815.85789686507\n"
     ]
    }
   ],
   "source": [
    "X=flight_data.drop(['price'],axis=1)\n",
    "y=flight_data['price']\n",
    "\n",
    "instances = X.shape[0]\n",
    "features = X.shape[1]\n",
    "\n",
    "# Converting each dataframe into a numpy array since each dataframe contains only 1 column\n",
    "X = np.array(X).reshape(-1, features)\n",
    "y = np.array(y).reshape(-1, 1)\n",
    "\n",
    "identity_vector = np.asarray([[1 for num in range(instances)]])\n",
    "identity_vector = identity_vector.reshape(-1,1)\n",
    "X_train, X_test, y_train, y_test = train_test_split(X,y,train_size=0.8,test_size=0.2,random_state=40)\n",
    "# print(X_train, X_test, y_train)\n",
    "print(\"Training set shape:\", X_train.shape, y_train.shape)\n",
    "print(\"Testing set shape:\", X_test.shape, y_test.shape)\n",
    "print(\"Training set mean:\", X_train.mean(), y_train.mean())\n",
    "print(\"Testing set mean:\", X_test.mean(), y_test.mean())\n",
    "print(\"Training set standard deviation:\", X_train.std(), y_train.std())\n",
    "print(\"Testing set standard deviation:\", X_test.std(), y_test.std())"
   ]
  },
  {
   "cell_type": "markdown",
   "id": "1ODpRinEWDiy",
   "metadata": {
    "id": "1ODpRinEWDiy"
   },
   "source": [
    "### **Scaling values**"
   ]
  },
  {
   "cell_type": "code",
   "execution_count": null,
   "id": "141e6b53",
   "metadata": {
    "id": "141e6b53"
   },
   "outputs": [],
   "source": [
    "# Scaling values\n",
    "from sklearn.preprocessing import MinMaxScaler\n",
    "mm_scaler=MinMaxScaler(feature_range=(0,1))\n",
    "X_train=mmscaler.fit_transform(X_train)#for trainin\n",
    "X_test=mmscaler.fit_transform(X_test)#test\n",
    "X_train=pd.DataFrame(X_train)\n",
    "X_test=pd.DataFrame(X_test)  "
   ]
  },
  {
   "cell_type": "markdown",
   "id": "KYUA5G00Wzjr",
   "metadata": {
    "id": "KYUA5G00Wzjr"
   },
   "source": [
    "# Train a Linear Regression model using the training data with four-fold cross-validation using appropriate evaluation metric. Do this with closed form solution (using the Normal Equation or SVD) and with SGD. Perform Ridge, Lasso and Elastic Net regularization – try a few values of penalty term and describe its impact. Explore the impact of other hyperparameters, like batch size and learning rate (no need for grid search). Describe your findings. Display the training and validation loss as a function of training iterations"
   ]
  },
  {
   "cell_type": "markdown",
   "id": "ddq-pMQrWKEI",
   "metadata": {
    "id": "ddq-pMQrWKEI"
   },
   "source": [
    "### **Train model using linear regression (closed form)**"
   ]
  },
  {
   "cell_type": "code",
   "execution_count": null,
   "id": "6846b395",
   "metadata": {
    "id": "6846b395",
    "outputId": "4ee6e36f-a4f1-4fb7-da3a-e1bc6d02943f"
   },
   "outputs": [
    {
     "name": "stdout",
     "output_type": "stream",
     "text": [
      "R^2: 0.908659497825657\n",
      "MAE: 4566.201545867968\n",
      "RMSE: 6895.543471893089\n",
      "\n"
     ]
    }
   ],
   "source": [
    "#Train model using linear regression(closed form)\n",
    "perform_lr(X_train,X_test,y_train, y_test)"
   ]
  },
  {
   "cell_type": "markdown",
   "id": "Uneg39SnWRNh",
   "metadata": {
    "id": "Uneg39SnWRNh"
   },
   "source": [
    "### **Train model using linear regression (SGD)**"
   ]
  },
  {
   "cell_type": "code",
   "execution_count": null,
   "id": "d8a6eb93",
   "metadata": {
    "id": "d8a6eb93",
    "outputId": "1814203d-6394-480b-c312-392ec983761b"
   },
   "outputs": [
    {
     "name": "stdout",
     "output_type": "stream",
     "text": [
      "penalty term: elasticnet ,learning rate: constant ,batch size: 5\n",
      "R^2: 0.9044464836741251\n",
      "MAE: 4694.347733868583\n",
      "RMSE: 7052.776802363786\n",
      "\n",
      "penalty term: l1 ,learning rate: optimal ,batch size: 10\n",
      "R^2: 0.8813455255125761\n",
      "MAE: 5349.054076156575\n",
      "RMSE: 7859.209457129442\n",
      "\n",
      "penalty term: l2 ,learning rate: adaptive ,batch size: 100\n",
      "R^2: 0.9059479674274796\n",
      "MAE: 4593.5968604858845\n",
      "RMSE: 6997.145359284531\n",
      "\n",
      "penalty term: l2 ,learning rate: invscaling ,batch size: 50\n",
      "R^2: 0.9085823070876708\n",
      "MAE: 4573.60131702144\n",
      "RMSE: 6898.456526179424\n",
      "\n",
      "penalty term: None ,learning rate: invscaling ,batch size: 1\n",
      "R^2: 0.9086091978668465\n",
      "MAE: 4556.500150673111\n",
      "RMSE: 6897.441851071723\n",
      "\n"
     ]
    }
   ],
   "source": [
    "#Train model using linear regression(SGD)\n",
    "perform_sgd(X_train,y_train, X_test, y_test,penalty='elasticnet',learning_rate='constant',batchsize=5)\n",
    "perform_sgd(X_train,y_train, X_test, y_test,penalty='l1',learning_rate='optimal',batchsize=10)\n",
    "perform_sgd(X_train,y_train, X_test, y_test,penalty='l2',learning_rate='adaptive',batchsize=100)\n",
    "perform_sgd(X_train,y_train, X_test, y_test,penalty='l2',learning_rate='invscaling',batchsize=50)\n",
    "perform_sgd(X_train,y_train, X_test, y_test)"
   ]
  },
  {
   "cell_type": "markdown",
   "id": "7daf606e",
   "metadata": {
    "id": "7daf606e"
   },
   "source": [
    "**Observations:**\n",
    "From above results, we can see that the R-squared values range are approximately around 0.90. The combination with Penalty:l2, adaptive learning rate and batch size=100 performs the best since it has the highest R-squared values and minimum MAE and RMSE values. But combination with batch size 1 is also showing approximate same results but will be expensive computationally. "
   ]
  },
  {
   "cell_type": "markdown",
   "id": "3FxLr74wYWO-",
   "metadata": {
    "id": "3FxLr74wYWO-"
   },
   "source": [
    "# Repeat the previous step with polynomial regression. Using validation loss, explore if your model overfits/underfits the data. "
   ]
  },
  {
   "cell_type": "markdown",
   "id": "7CKZj_p9XGQ-",
   "metadata": {
    "id": "7CKZj_p9XGQ-"
   },
   "source": [
    "### **Train model using polynomial regression (Closed form)**"
   ]
  },
  {
   "cell_type": "code",
   "execution_count": null,
   "id": "37e2f18c",
   "metadata": {
    "id": "37e2f18c",
    "outputId": "8a63213a-28f0-4c1e-bd18-4e59483140ab"
   },
   "outputs": [
    {
     "name": "stdout",
     "output_type": "stream",
     "text": [
      "R^2: 0.9086597639606981\n",
      "MAE: 4564.889323849345\n",
      "RMSE: 6895.533426255952\n",
      "\n"
     ]
    }
   ],
   "source": [
    "#Train model using polynomial regression(Closed form)\n",
    "perform_pr(X_train,X_test, y_train,y_test)"
   ]
  },
  {
   "cell_type": "code",
   "execution_count": null,
   "id": "95d3a2de",
   "metadata": {
    "id": "95d3a2de",
    "outputId": "1243cb44-e75c-481d-e9cf-0d92e5ebdf8d"
   },
   "outputs": [
    {
     "data": {
      "text/plain": [
       "RangeIndex(start=0, stop=24, step=1)"
      ]
     },
     "execution_count": 40,
     "metadata": {},
     "output_type": "execute_result"
    }
   ],
   "source": [
    "X_train.columns"
   ]
  },
  {
   "cell_type": "markdown",
   "id": "wlhsbsA-XLeI",
   "metadata": {
    "id": "wlhsbsA-XLeI"
   },
   "source": [
    "### **Train model using polynomial regression (SGD)**"
   ]
  },
  {
   "cell_type": "code",
   "execution_count": null,
   "id": "c3efae3e",
   "metadata": {
    "id": "c3efae3e",
    "outputId": "1f8b5f75-b3d4-4aec-87a1-58c5f75ff30b"
   },
   "outputs": [
    {
     "name": "stdout",
     "output_type": "stream",
     "text": [
      "penalty term: elasticnet ,learning rate: constant ,batch size: 5\n",
      "R^2: -2463847763688229.0\n",
      "MAE: 783016940590.4034\n",
      "RMSE: 1132514414433.919\n",
      "\n",
      "penalty term: l1 ,learning rate: optimal ,batch size: 10\n",
      "R^2: -8.32446048929315e+16\n",
      "MAE: 4865151561268.458\n",
      "RMSE: 6582863524946.569\n",
      "\n",
      "penalty term: l2 ,learning rate: adaptive ,batch size: 100\n",
      "R^2: -2273593944520648.5\n",
      "MAE: 810524250454.5323\n",
      "RMSE: 1087910717541.044\n",
      "\n",
      "penalty term: None ,learning rate: invscaling ,batch size: 1\n",
      "R^2: 0.9467567775058217\n",
      "MAE: 3351.5409097992083\n",
      "RMSE: 5264.643522102705\n",
      "\n"
     ]
    }
   ],
   "source": [
    "#Train model using polynomial regression(SGD)\n",
    "\n",
    "#Add polynomial features\n",
    "X_train_poly,X_test_poly = add_poly(X_train,X_test)\n",
    "\n",
    "perform_sgd(X_train_poly,y_train, X_test_poly, y_test,penalty='elasticnet',learning_rate='constant',batchsize=5)\n",
    "perform_sgd(X_train_poly,y_train, X_test_poly, y_test,penalty='l1',learning_rate='optimal',batchsize=10)\n",
    "perform_sgd(X_train_poly,y_train, X_test_poly, y_test,penalty='l2',learning_rate='adaptive',batchsize=100)\n",
    "perform_sgd(X_train_poly,y_train, X_test_poly, y_test)"
   ]
  },
  {
   "cell_type": "markdown",
   "id": "5af3bb1f",
   "metadata": {
    "id": "5af3bb1f"
   },
   "source": [
    "**Observations:**\n",
    "From above results, we can see that the R-squared values are negative for first three batches, i.e., 5,10 and 100 batch size indicating they are performing poorly. Therefore combination with batch size 1 performs the best since it has the highest R-squared values and minimum MAE and RMSE values."
   ]
  },
  {
   "cell_type": "markdown",
   "id": "eL-MGxpzXU8l",
   "metadata": {
    "id": "eL-MGxpzXU8l"
   },
   "source": [
    "### **Implement k fold with closed form using linear regression model**"
   ]
  },
  {
   "cell_type": "code",
   "execution_count": null,
   "id": "567ee35c",
   "metadata": {
    "id": "567ee35c",
    "outputId": "b191fa64-061b-439a-d834-4c1f5be349fc",
    "scrolled": true
   },
   "outputs": [
    {
     "data": {
      "text/plain": [
       "67.20622277410914"
      ]
     },
     "execution_count": 42,
     "metadata": {},
     "output_type": "execute_result"
    }
   ],
   "source": [
    "#Implement k fold with closed form using linear regression model\n",
    "k_fold_closed(X_train, y_train)"
   ]
  },
  {
   "cell_type": "markdown",
   "id": "a4aad3d9",
   "metadata": {
    "id": "a4aad3d9"
   },
   "source": [
    "**Observations**:Since the test error is significantly greater than validation error, the model is overfitting the training data."
   ]
  },
  {
   "cell_type": "markdown",
   "id": "l-W-FPjPXoV0",
   "metadata": {
    "id": "l-W-FPjPXoV0"
   },
   "source": [
    "### **Implement k fold with sgd using linear regression model**"
   ]
  },
  {
   "cell_type": "code",
   "execution_count": null,
   "id": "1488983c",
   "metadata": {
    "id": "1488983c",
    "outputId": "7db8239e-d5b6-45e2-9863-fa19130200f8"
   },
   "outputs": [
    {
     "data": {
      "text/plain": [
       "67.23980559673198"
      ]
     },
     "execution_count": 43,
     "metadata": {},
     "output_type": "execute_result"
    }
   ],
   "source": [
    "#Implement k fold with sgd using linear regression model\n",
    "k_fold_sgd(X_train,y_train)"
   ]
  },
  {
   "cell_type": "markdown",
   "id": "9482f5ed",
   "metadata": {
    "id": "9482f5ed"
   },
   "source": [
    "Observations:Since the test error is significantly greater than validation error, the model is overfitting the training data."
   ]
  },
  {
   "cell_type": "markdown",
   "id": "jRjkR6dOXtv9",
   "metadata": {
    "id": "jRjkR6dOXtv9"
   },
   "source": [
    "### **Implement k fold with closed form using polynomial regression model**"
   ]
  },
  {
   "cell_type": "code",
   "execution_count": null,
   "id": "33301d58",
   "metadata": {
    "id": "33301d58",
    "outputId": "6296e7a2-a246-4312-dca6-6484f0969c99"
   },
   "outputs": [
    {
     "data": {
      "text/plain": [
       "57.72606726942951"
      ]
     },
     "execution_count": 44,
     "metadata": {},
     "output_type": "execute_result"
    }
   ],
   "source": [
    "#Implement k fold with closed form using polynomial regression model\n",
    "k_fold_closed(X_train_poly, y_train)"
   ]
  },
  {
   "cell_type": "markdown",
   "id": "c04dcac5",
   "metadata": {
    "id": "c04dcac5"
   },
   "source": [
    "**Observations**:Since the test error is significantly greater than validation error, the model is overfitting the training data."
   ]
  },
  {
   "cell_type": "markdown",
   "id": "916f2BK9Xyl0",
   "metadata": {
    "id": "916f2BK9Xyl0"
   },
   "source": [
    "### **Implement k fold with sgd using polynomial regression model**"
   ]
  },
  {
   "cell_type": "code",
   "execution_count": null,
   "id": "c393c1cb",
   "metadata": {
    "id": "c393c1cb",
    "outputId": "f3e36dc0-53b5-48d4-ec94-17042280165e"
   },
   "outputs": [
    {
     "data": {
      "text/plain": [
       "57.79936887488299"
      ]
     },
     "execution_count": 45,
     "metadata": {},
     "output_type": "execute_result"
    }
   ],
   "source": [
    "#Implement k fold with sgd using polynomial regression model\n",
    "k_fold_sgd(X_train_poly,y_train)"
   ]
  },
  {
   "cell_type": "markdown",
   "id": "a3b81d24",
   "metadata": {
    "id": "a3b81d24"
   },
   "source": [
    "Observations:Since the test error is significantly greater than validation error, the model is overfitting the training data."
   ]
  },
  {
   "cell_type": "markdown",
   "id": "G2ByVZ_HY2ti",
   "metadata": {
    "id": "G2ByVZ_HY2ti"
   },
   "source": [
    "# Perform Ridge, Lasso and Elastic Net regularization – try a few values of penalty term and describe its impact. "
   ]
  },
  {
   "cell_type": "markdown",
   "id": "db13a24e",
   "metadata": {
    "id": "db13a24e"
   },
   "source": [
    "### Regularization for Linear Regression Models"
   ]
  },
  {
   "cell_type": "markdown",
   "id": "I_GblOhvZEPQ",
   "metadata": {
    "id": "I_GblOhvZEPQ"
   },
   "source": [
    "#### Perform Regularization(Ridge)"
   ]
  },
  {
   "cell_type": "code",
   "execution_count": null,
   "id": "f0464e04",
   "metadata": {
    "id": "f0464e04",
    "outputId": "e2ab0528-18e9-40e9-9b78-b8038a7287cb"
   },
   "outputs": [
    {
     "name": "stdout",
     "output_type": "stream",
     "text": [
      "alpha: 1e-09\n",
      "R^2: 0.9086594314191807\n",
      "MAE: 4564.301393484596\n",
      "RMSE: 6895.5459784955865\n",
      "\n",
      "alpha: 0.5\n",
      "R^2: 0.9086593550512971\n",
      "MAE: 4564.276710745106\n",
      "RMSE: 6895.548861103778\n",
      "\n",
      "alpha: 5\n",
      "R^2: 0.9086586549932678\n",
      "MAE: 4564.055256245602\n",
      "RMSE: 6895.575285676869\n",
      "\n",
      "alpha: 1000\n",
      "R^2: 0.9079984697949238\n",
      "MAE: 4540.792803488723\n",
      "RMSE: 6920.449895284855\n",
      "\n"
     ]
    }
   ],
   "source": [
    "#Perform Regularization(Ridge)\n",
    "perform_ridge(X_train,y_train,X_test,y_test,alpha=0.000000001)\n",
    "perform_ridge(X_train,y_train,X_test,y_test,alpha=0.5)\n",
    "perform_ridge(X_train,y_train,X_test,y_test,alpha=5)\n",
    "perform_ridge(X_train,y_train,X_test,y_test,alpha=1000)"
   ]
  },
  {
   "cell_type": "markdown",
   "id": "a3488fd9",
   "metadata": {
    "id": "a3488fd9"
   },
   "source": [
    "Observations:\n",
    "From above results, for all alpha values the R-squared values is almost same, i.e., 0.90, indicating model explains variability in data. And MAE and RMSE  are also approximately same. Overall, we can say that the model performs good over different alpha values."
   ]
  },
  {
   "cell_type": "markdown",
   "id": "Oizr71lsZOUI",
   "metadata": {
    "id": "Oizr71lsZOUI"
   },
   "source": [
    "#### Perform Regularization(Lasso)"
   ]
  },
  {
   "cell_type": "code",
   "execution_count": null,
   "id": "0f62d80c",
   "metadata": {
    "id": "0f62d80c",
    "outputId": "b8fd57f9-16e3-41dc-f2ad-de73dce92a7a"
   },
   "outputs": [
    {
     "name": "stderr",
     "output_type": "stream",
     "text": [
      "C:\\Users\\diksh\\anaconda3\\lib\\site-packages\\sklearn\\linear_model\\_coordinate_descent.py:647: ConvergenceWarning: Objective did not converge. You might want to increase the number of iterations, check the scale of the features or consider increasing regularisation. Duality gap: 5.991e+11, tolerance: 1.234e+10\n",
      "  model = cd_fast.enet_coordinate_descent(\n"
     ]
    },
    {
     "name": "stdout",
     "output_type": "stream",
     "text": [
      "alpha: 1e-10\n",
      "R^2: 0.9086594314191807\n",
      "MAE: 4564.301393484463\n",
      "RMSE: 6895.545978495587\n",
      "\n",
      "alpha: 0.1\n",
      "R^2: 0.9086593492434831\n",
      "MAE: 4564.122996919473\n",
      "RMSE: 6895.549080327457\n",
      "\n",
      "alpha: 5\n",
      "R^2: 0.9086468328342586\n",
      "MAE: 4551.393987296527\n",
      "RMSE: 6896.021512683287\n",
      "\n",
      "alpha: 100\n",
      "R^2: 0.9058388835127396\n",
      "MAE: 4423.570922784745\n",
      "RMSE: 7001.201916056857\n",
      "\n"
     ]
    }
   ],
   "source": [
    "#Perform Regularization(Lasso)\n",
    "  \n",
    "perform_l(X_train, y_train,X_test,y_test,alpha=0.0000000001)\n",
    "perform_l(X_train, y_train,X_test,y_test,alpha=0.1)\n",
    "perform_l(X_train, y_train,X_test,y_test,alpha=5)\n",
    "perform_l(X_train, y_train,X_test,y_test,alpha=100)"
   ]
  },
  {
   "cell_type": "markdown",
   "id": "43aa217b",
   "metadata": {
    "id": "43aa217b"
   },
   "source": [
    "Observations:\n",
    "From above results, for all alpha values the R-squared values is almost same, i.e., 0.90 and MAE and RMSE  are also approximately same. Overall, we can say that the model performs good over different alpha values and would require further analysis."
   ]
  },
  {
   "cell_type": "markdown",
   "id": "0pkVZxXzZRED",
   "metadata": {
    "id": "0pkVZxXzZRED"
   },
   "source": [
    "#### Perform Regularization(Elastic net)"
   ]
  },
  {
   "cell_type": "code",
   "execution_count": null,
   "id": "d6932fa1",
   "metadata": {
    "id": "d6932fa1",
    "outputId": "c373a447-cd81-4450-add7-d551fd60033e"
   },
   "outputs": [
    {
     "name": "stderr",
     "output_type": "stream",
     "text": [
      "C:\\Users\\diksh\\anaconda3\\lib\\site-packages\\sklearn\\linear_model\\_coordinate_descent.py:647: ConvergenceWarning: Objective did not converge. You might want to increase the number of iterations, check the scale of the features or consider increasing regularisation. Duality gap: 5.577e+12, tolerance: 1.234e+10\n",
      "  model = cd_fast.enet_coordinate_descent(\n"
     ]
    },
    {
     "name": "stdout",
     "output_type": "stream",
     "text": [
      "alpha: 1e-10 ,l1 ratio: 0.5\n",
      "R^2: 0.9086594314173237\n",
      "MAE: 4564.301392957452\n",
      "RMSE: 6895.5459785656785\n",
      "\n",
      "alpha: 0.1 ,l1 ratio: 0.8\n",
      "R^2: 0.8993703731582773\n",
      "MAE: 4774.607193701609\n",
      "RMSE: 7237.68594431619\n",
      "\n",
      "alpha: 5 ,l1 ratio: 0.5\n",
      "R^2: 0.16132501371799246\n",
      "MAE: 18015.602135547237\n",
      "RMSE: 20894.580122853276\n",
      "\n",
      "alpha: 100 ,l1 ratio: 0.2\n",
      "R^2: 0.005844084351429912\n",
      "MAE: 19750.15938985015\n",
      "RMSE: 22749.091307483486\n",
      "\n"
     ]
    }
   ],
   "source": [
    "#Perform Regularization(Elastic net)\n",
    "    \n",
    "perform_en(X_train, y_train,X_test,y_test,alpha=0.0000000001,l1=0.5)\n",
    "perform_en(X_train, y_train,X_test,y_test,alpha=0.1,l1=0.8)\n",
    "perform_en(X_train, y_train,X_test,y_test,alpha=5,l1=0.5)\n",
    "perform_en(X_train, y_train,X_test,y_test,alpha=100,l1=0.2)"
   ]
  },
  {
   "cell_type": "markdown",
   "id": "2ac14f8e",
   "metadata": {
    "id": "2ac14f8e"
   },
   "source": [
    "Observations:\n",
    "From above results, for alpha value=1e-10 and l1 ratio:0.5, the model performs the best with R-squared value=0.90 while for other alpha values, the R-squared value are relatively low.It indicates that the model with alpha value=1e-10 and l1 ratio:0.5 fits and performs better than other models and have lower error predictions."
   ]
  },
  {
   "cell_type": "markdown",
   "id": "479de5dd",
   "metadata": {
    "id": "479de5dd"
   },
   "source": [
    "### Regularization for Polynomial Regression Models"
   ]
  },
  {
   "cell_type": "markdown",
   "id": "deYYwLSnZWF8",
   "metadata": {
    "id": "deYYwLSnZWF8"
   },
   "source": [
    "#### Perform Regularization(Ridge)"
   ]
  },
  {
   "cell_type": "code",
   "execution_count": null,
   "id": "3a355ebc",
   "metadata": {
    "id": "3a355ebc",
    "outputId": "50b30162-75c5-4cbb-b78c-65a3c4a7f264"
   },
   "outputs": [
    {
     "name": "stdout",
     "output_type": "stream",
     "text": [
      "alpha: 0\n",
      "R^2: -1.9623989566527864e+23\n",
      "MAE: 6754552288066773.0\n",
      "RMSE: 1.0107190595019506e+16\n",
      "\n",
      "alpha: 1e-09\n",
      "R^2: 0.9477107316727497\n",
      "MAE: 3301.0613134912483\n",
      "RMSE: 5217.267274863224\n",
      "\n",
      "alpha: 0.5\n",
      "R^2: 0.9477107265499982\n",
      "MAE: 3301.055212464926\n",
      "RMSE: 5217.267530429651\n",
      "\n",
      "alpha: 5\n",
      "R^2: 0.9477105301809777\n",
      "MAE: 3301.004740785923\n",
      "RMSE: 5217.277326977632\n",
      "\n",
      "alpha: 1000\n",
      "R^2: 0.9475989633490007\n",
      "MAE: 3295.044240092771\n",
      "RMSE: 5222.840253425734\n",
      "\n"
     ]
    }
   ],
   "source": [
    "#Perform Regularization(Ridge)\n",
    "perform_ridge(X_train_poly,y_train,X_test_poly,y_test,alpha=0)\n",
    "perform_ridge(X_train_poly,y_train,X_test_poly,y_test,alpha=0.000000001)\n",
    "perform_ridge(X_train_poly,y_train,X_test_poly,y_test,alpha=0.5)\n",
    "perform_ridge(X_train_poly,y_train,X_test_poly,y_test,alpha=5)\n",
    "perform_ridge(X_train_poly,y_train,X_test_poly,y_test,alpha=1000)"
   ]
  },
  {
   "cell_type": "markdown",
   "id": "5d597a93",
   "metadata": {
    "id": "5d597a93"
   },
   "source": [
    "Observation: From above results, we can see that for model with alpha=0, the R-squared value is negative while for other models, the R-squared value is almost the same, i.e., 0.94. Models with alpha values= 1e-09, 0.5 and 5 have similar R-squared and MAE and RMSE values. And model with alpha-=1000 has the least performance since it has lower MAE and RMSE values."
   ]
  },
  {
   "cell_type": "markdown",
   "id": "xVT2IX7GZahh",
   "metadata": {
    "id": "xVT2IX7GZahh"
   },
   "source": [
    "#### Perform Regularization(Lasso)"
   ]
  },
  {
   "cell_type": "code",
   "execution_count": null,
   "id": "3aa8ff31",
   "metadata": {
    "id": "3aa8ff31",
    "outputId": "5109a000-305e-42a7-d1ce-c50a96f7d279"
   },
   "outputs": [
    {
     "name": "stderr",
     "output_type": "stream",
     "text": [
      "C:\\Users\\diksh\\anaconda3\\lib\\site-packages\\sklearn\\linear_model\\_coordinate_descent.py:647: ConvergenceWarning: Objective did not converge. You might want to increase the number of iterations, check the scale of the features or consider increasing regularisation. Duality gap: 3.223e+12, tolerance: 1.234e+10\n",
      "  model = cd_fast.enet_coordinate_descent(\n"
     ]
    },
    {
     "name": "stdout",
     "output_type": "stream",
     "text": [
      "alpha: 1e-10\n",
      "R^2: 0.9477143832494682\n",
      "MAE: 3301.045312407546\n",
      "RMSE: 5217.085099964403\n",
      "\n"
     ]
    },
    {
     "name": "stderr",
     "output_type": "stream",
     "text": [
      "C:\\Users\\diksh\\anaconda3\\lib\\site-packages\\sklearn\\linear_model\\_coordinate_descent.py:647: ConvergenceWarning: Objective did not converge. You might want to increase the number of iterations, check the scale of the features or consider increasing regularisation. Duality gap: 1.863e+12, tolerance: 1.234e+10\n",
      "  model = cd_fast.enet_coordinate_descent(\n"
     ]
    },
    {
     "name": "stdout",
     "output_type": "stream",
     "text": [
      "alpha: 0.1\n",
      "R^2: 0.9477157788732344\n",
      "MAE: 3300.596029951559\n",
      "RMSE: 5217.015471479587\n",
      "\n"
     ]
    },
    {
     "name": "stderr",
     "output_type": "stream",
     "text": [
      "C:\\Users\\diksh\\anaconda3\\lib\\site-packages\\sklearn\\linear_model\\_coordinate_descent.py:647: ConvergenceWarning: Objective did not converge. You might want to increase the number of iterations, check the scale of the features or consider increasing regularisation. Duality gap: 1.237e+12, tolerance: 1.234e+10\n",
      "  model = cd_fast.enet_coordinate_descent(\n"
     ]
    },
    {
     "name": "stdout",
     "output_type": "stream",
     "text": [
      "alpha: 5\n",
      "R^2: 0.9476480289538448\n",
      "MAE: 3278.0658580448976\n",
      "RMSE: 5220.39448280668\n",
      "\n",
      "alpha: 100\n",
      "R^2: 0.9426433425460955\n",
      "MAE: 3398.912933517293\n",
      "RMSE: 5464.226842489857\n",
      "\n"
     ]
    }
   ],
   "source": [
    "#Perform Regularization(Lasso)\n",
    "  \n",
    "perform_l(X_train_poly,y_train,X_test_poly,y_test,alpha=0.0000000001)\n",
    "perform_l(X_train_poly,y_train,X_test_poly,y_test,alpha=0.1)\n",
    "perform_l(X_train_poly,y_train,X_test_poly,y_test,alpha=5)\n",
    "perform_l(X_train_poly,y_train,X_test_poly,y_test,alpha=100)"
   ]
  },
  {
   "cell_type": "markdown",
   "id": "ba37cb28",
   "metadata": {
    "id": "ba37cb28"
   },
   "source": [
    "Observations: Model with alpha=100 has the least performance due to lower RMSE and MAE values. While model with alpha=0.1 and alpha=5 performs better than other models."
   ]
  },
  {
   "cell_type": "markdown",
   "id": "DcH8Glv4Zeyr",
   "metadata": {
    "id": "DcH8Glv4Zeyr"
   },
   "source": [
    "#### Perform Regularization(Elastic net)"
   ]
  },
  {
   "cell_type": "code",
   "execution_count": null,
   "id": "9c75b817",
   "metadata": {
    "id": "9c75b817",
    "outputId": "0ec412d8-c39e-4a33-a0b2-3763847fd028"
   },
   "outputs": [
    {
     "name": "stderr",
     "output_type": "stream",
     "text": [
      "C:\\Users\\diksh\\anaconda3\\lib\\site-packages\\sklearn\\linear_model\\_coordinate_descent.py:647: ConvergenceWarning: Objective did not converge. You might want to increase the number of iterations, check the scale of the features or consider increasing regularisation. Duality gap: 3.227e+12, tolerance: 1.234e+10\n",
      "  model = cd_fast.enet_coordinate_descent(\n"
     ]
    },
    {
     "name": "stdout",
     "output_type": "stream",
     "text": [
      "alpha: 1e-10 ,l1 ratio: 0.5\n",
      "R^2: 0.9477143832496008\n",
      "MAE: 3301.0453122507793\n",
      "RMSE: 5217.085099957789\n",
      "\n"
     ]
    },
    {
     "name": "stderr",
     "output_type": "stream",
     "text": [
      "C:\\Users\\diksh\\anaconda3\\lib\\site-packages\\sklearn\\linear_model\\_coordinate_descent.py:647: ConvergenceWarning: Objective did not converge. You might want to increase the number of iterations, check the scale of the features or consider increasing regularisation. Duality gap: 3.753e+11, tolerance: 1.234e+10\n",
      "  model = cd_fast.enet_coordinate_descent(\n"
     ]
    },
    {
     "name": "stdout",
     "output_type": "stream",
     "text": [
      "alpha: 0.1 ,l1 ratio: 0.8\n",
      "R^2: 0.9466640620448311\n",
      "MAE: 3313.2599754585026\n",
      "RMSE: 5269.2253403880795\n",
      "\n",
      "alpha: 5 ,l1 ratio: 0.5\n",
      "R^2: 0.863662095131736\n",
      "MAE: 6069.97135108545\n",
      "RMSE: 8424.51894359585\n",
      "\n",
      "alpha: 100 ,l1 ratio: 0.2\n",
      "R^2: 0.18744466042904884\n",
      "MAE: 17716.335512753983\n",
      "RMSE: 20566.636748730016\n",
      "\n"
     ]
    }
   ],
   "source": [
    "#Perform Regularization(Elastic net)\n",
    "    \n",
    "perform_en(X_train_poly,y_train,X_test_poly,y_test,alpha=0.0000000001,l1=0.5)\n",
    "perform_en(X_train_poly,y_train,X_test_poly,y_test,alpha=0.1,l1=0.8)\n",
    "perform_en(X_train_poly,y_train,X_test_poly,y_test,alpha=5,l1=0.5)\n",
    "perform_en(X_train_poly,y_train,X_test_poly,y_test,alpha=100,l1=0.2)"
   ]
  },
  {
   "cell_type": "markdown",
   "id": "2ac8c3e8",
   "metadata": {
    "id": "2ac8c3e8"
   },
   "source": [
    "Observations: From the above results, model with alpha: 1e-10 ,l1 ratio: 0.5 performs the best since it has highest R - squared value and lowest RMSE and MAE values indicating it will perform the best in prediciting the flight price."
   ]
  },
  {
   "cell_type": "code",
   "execution_count": null,
   "id": "a8de862b",
   "metadata": {
    "id": "a8de862b",
    "outputId": "6576dcd9-f4a2-48b8-86df-085ecb34e20d"
   },
   "outputs": [
    {
     "data": {
      "text/plain": [
       "57.72606726942951"
      ]
     },
     "execution_count": 53,
     "metadata": {},
     "output_type": "execute_result"
    }
   ],
   "source": [
    "k_fold_closed(X_train_poly, y_train)"
   ]
  },
  {
   "cell_type": "markdown",
   "id": "aba62ebd",
   "metadata": {
    "id": "aba62ebd"
   },
   "source": [
    "Observations:Since the test error is significantly greater than validation error, the model is overfitting the training data."
   ]
  },
  {
   "cell_type": "markdown",
   "id": "7pqCp3rLZxwc",
   "metadata": {
    "id": "7pqCp3rLZxwc"
   },
   "source": [
    "# Make predictions of the labels on the test data, using the trained model with chosen hyperparameters. Summarize performance using the appropriate evaluation metric. Discuss the results. Include thoughts about what further can be explored to increase performance. "
   ]
  },
  {
   "cell_type": "markdown",
   "id": "8d4a1203",
   "metadata": {
    "id": "8d4a1203"
   },
   "source": [
    "### **Final Results:**"
   ]
  },
  {
   "cell_type": "markdown",
   "id": "56128a11",
   "metadata": {
    "id": "56128a11"
   },
   "source": [
    " \n",
    "In case of linear regression we see R-squared score of R^2: 0.908 and MAE and RMSE scores = 4566.20 and 6895.54. In case of polynomial regression, we can see that the R-squared values are negative for first three batches, i.e., 5,10 and 100 batch size indicating they are performing poorly. Therefore combination with batch size 1 performs the best since it has the highest R-squared values and minimum MAE and RMSE values.\n",
    "In case of ridge regression, for all alpha values the R-squared values is almost same, i.e., 0.90, indicating model explains variability in data. And MAE and RMSE  are also approximately same. Overall, we can say that the model performs good over different alpha values.\n",
    "in case of lasso regression, for all alpha values the R-squared values is almost same, i.e., 0.90 and MAE and RMSE  are also approximately same. Overall, we can say that the model performs good over different alpha values and would require further analysis.\n",
    "For elastic net, #### Observation: From above results, we can see that for model with alpha=0, the R-squared value is negative while for other models, the R-squared value is almost the same, i.e., 0.94. Models with alpha values= 1e-09, 0.5 and 5 have similar R-squared and MAE and RMSE values. And model with alpha-=1000 has the least performance since it has lower MAE and RMSE values.\n",
    "\n",
    "In case of ridge polynomial regression, we can see that for model with alpha=0, the R-squared value is negative while for other models, the R-squared value is almost the same, i.e., 0.94. Models with alpha values= 1e-09, 0.5 and 5 have similar R-squared and MAE and RMSE values. And model with alpha-=1000 has the least performance since it has lower MAE and RMSE values.\n",
    "In case of lasso polynomial regression, Model with alpha=100 has the least performance due to lower RMSE and MAE values. While model with alpha=0.1 and alpha=5 performs better than other models.\n",
    "In case of elsticnet polynomial regression, model with alpha: 1e-10 ,l1 ratio: 0.5 performs the best since it has highest R - squared value and lowest RMSE and MAE values indicating it will perform the best in prediciting the flight price.\n",
    "\n",
    "\n",
    "Overall, Evaluation metrics such as MSE, RMSE, or MAE are used to compare performance of different regression models. \n",
    "\n",
    "\n",
    "SG performs best with default settings.\n",
    "Performance of both Ridge and Lasso Linear regression is not affected by the learning rate parameters.\n",
    "ElasticNet performs better with alpha=1e-10, l1 ratio = 0.5.\n",
    "Performance of both Ridge and Lasso Polynomial regression is not affected by the learning rate parameters.\n",
    "Out of all these models, ElasticNet performs the best.\n",
    "Most of the models are overfitting the data. In order to improve the performance of the model we should:\n",
    " \n",
    "1.   Increase training data using data augmentation\n",
    "2.   Perform feature selection and remove unnecessary features\n",
    "3.   Use ensemble learning\n",
    "\n"
   ]
  },
  {
   "cell_type": "markdown",
   "id": "8d99b298",
   "metadata": {
    "id": "8d99b298"
   },
   "source": [
    "# References:"
   ]
  },
  {
   "cell_type": "markdown",
   "id": "c566fe1a",
   "metadata": {
    "id": "c566fe1a"
   },
   "source": [
    "\n",
    "1.https://crunchingthedata.com/continuous-categorical-columns-pandas/\n",
    "2.https://stackoverflow.com/questions/29803093/check-which-columns-in-dataframe-are-categorical\n",
    "3.https://www.kaggle.com/code/omarkhan99/flight-price-prediction\n",
    "4.https://www.kaggle.com/code/ajeetchansauriya/flight-price-prediction-from-eda-to-accuracy\n",
    "5.\n"
   ]
  }
 ],
 "metadata": {
  "colab": {
   "provenance": [],
   "toc_visible": true
  },
  "kernelspec": {
   "display_name": "Python 3 (ipykernel)",
   "language": "python",
   "name": "python3"
  },
  "language_info": {
   "codemirror_mode": {
    "name": "ipython",
    "version": 3
   },
   "file_extension": ".py",
   "mimetype": "text/x-python",
   "name": "python",
   "nbconvert_exporter": "python",
   "pygments_lexer": "ipython3",
   "version": "3.9.12"
  }
 },
 "nbformat": 4,
 "nbformat_minor": 5
}
