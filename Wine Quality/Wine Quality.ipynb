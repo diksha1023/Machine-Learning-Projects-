{
 "cells": [
  {
   "cell_type": "markdown",
   "metadata": {
    "id": "wVJmbt-93vVJ"
   },
   "source": [
    "# Wine Quality"
   ]
  },
  {
   "cell_type": "code",
   "execution_count": 5,
   "metadata": {
    "id": "_sHVV3JOS45J"
   },
   "outputs": [],
   "source": [
    "import pandas as pd\n",
    "import sklearn\n",
    "from sklearn import model_selection\n",
    "import numpy as np\n",
    "from sklearn.linear_model import LogisticRegression\n",
    "from sklearn.metrics import accuracy_score\n",
    "from sklearn.metrics import mean_absolute_error,r2_score,mean_squared_error\n",
    "from sklearn import metrics\n",
    "from sklearn.ensemble import RandomForestClassifier, VotingClassifier, StackingClassifier,GradientBoostingClassifier, AdaBoostClassifier\n",
    "from sklearn.metrics import confusion_matrix\n",
    "from sklearn.svm import SVC\n",
    "from sklearn.pipeline import make_pipeline\n",
    "import matplotlib.pyplot as matplot\n",
    "from sklearn.preprocessing import StandardScaler\n",
    "import matplotlib\n",
    "import seaborn as sns\n",
    "import warnings\n",
    "warnings.filterwarnings('ignore')\n",
    "%matplotlib inline\n",
    "\n"
   ]
  },
  {
   "cell_type": "code",
   "execution_count": 6,
   "metadata": {
    "id": "04SdUe2ny8d8"
   },
   "outputs": [],
   "source": [
    "train_data = pd.read_csv('/content/wine.csv')"
   ]
  },
  {
   "cell_type": "code",
   "execution_count": 7,
   "metadata": {
    "colab": {
     "base_uri": "https://localhost:8080/"
    },
    "id": "-r3ZJDODS6S4",
    "outputId": "d6dedea3-a765-404e-8d0a-2ea3ae4ad557"
   },
   "outputs": [
    {
     "name": "stdout",
     "output_type": "stream",
     "text": [
      "Dataset Shape:  (1599, 12)\n"
     ]
    }
   ],
   "source": [
    "print(\"Dataset Shape: \",train_data.shape)"
   ]
  },
  {
   "cell_type": "code",
   "execution_count": 8,
   "metadata": {
    "colab": {
     "base_uri": "https://localhost:8080/",
     "height": 300
    },
    "id": "XFpcBrPWS8fk",
    "outputId": "53047de1-9693-43f6-d94d-346534f93f2c"
   },
   "outputs": [
    {
     "data": {
      "text/html": [
       "\n",
       "  <div id=\"df-ae591d17-7745-4cd2-bbb9-2fdeb404b542\">\n",
       "    <div class=\"colab-df-container\">\n",
       "      <div>\n",
       "<style scoped>\n",
       "    .dataframe tbody tr th:only-of-type {\n",
       "        vertical-align: middle;\n",
       "    }\n",
       "\n",
       "    .dataframe tbody tr th {\n",
       "        vertical-align: top;\n",
       "    }\n",
       "\n",
       "    .dataframe thead th {\n",
       "        text-align: right;\n",
       "    }\n",
       "</style>\n",
       "<table border=\"1\" class=\"dataframe\">\n",
       "  <thead>\n",
       "    <tr style=\"text-align: right;\">\n",
       "      <th></th>\n",
       "      <th>fixed acidity</th>\n",
       "      <th>volatile acidity</th>\n",
       "      <th>citric acid</th>\n",
       "      <th>residual sugar</th>\n",
       "      <th>chlorides</th>\n",
       "      <th>free sulfur dioxide</th>\n",
       "      <th>total sulfur dioxide</th>\n",
       "      <th>density</th>\n",
       "      <th>pH</th>\n",
       "      <th>sulphates</th>\n",
       "      <th>alcohol</th>\n",
       "      <th>quality</th>\n",
       "    </tr>\n",
       "  </thead>\n",
       "  <tbody>\n",
       "    <tr>\n",
       "      <th>0</th>\n",
       "      <td>7.4</td>\n",
       "      <td>0.70</td>\n",
       "      <td>0.00</td>\n",
       "      <td>1.9</td>\n",
       "      <td>0.076</td>\n",
       "      <td>11.0</td>\n",
       "      <td>34.0</td>\n",
       "      <td>0.9978</td>\n",
       "      <td>3.51</td>\n",
       "      <td>0.56</td>\n",
       "      <td>9.4</td>\n",
       "      <td>bad</td>\n",
       "    </tr>\n",
       "    <tr>\n",
       "      <th>1</th>\n",
       "      <td>7.8</td>\n",
       "      <td>0.88</td>\n",
       "      <td>0.00</td>\n",
       "      <td>2.6</td>\n",
       "      <td>0.098</td>\n",
       "      <td>25.0</td>\n",
       "      <td>67.0</td>\n",
       "      <td>0.9968</td>\n",
       "      <td>3.20</td>\n",
       "      <td>0.68</td>\n",
       "      <td>9.8</td>\n",
       "      <td>bad</td>\n",
       "    </tr>\n",
       "    <tr>\n",
       "      <th>2</th>\n",
       "      <td>7.8</td>\n",
       "      <td>0.76</td>\n",
       "      <td>0.04</td>\n",
       "      <td>2.3</td>\n",
       "      <td>0.092</td>\n",
       "      <td>15.0</td>\n",
       "      <td>54.0</td>\n",
       "      <td>0.9970</td>\n",
       "      <td>3.26</td>\n",
       "      <td>0.65</td>\n",
       "      <td>9.8</td>\n",
       "      <td>bad</td>\n",
       "    </tr>\n",
       "    <tr>\n",
       "      <th>3</th>\n",
       "      <td>11.2</td>\n",
       "      <td>0.28</td>\n",
       "      <td>0.56</td>\n",
       "      <td>1.9</td>\n",
       "      <td>0.075</td>\n",
       "      <td>17.0</td>\n",
       "      <td>60.0</td>\n",
       "      <td>0.9980</td>\n",
       "      <td>3.16</td>\n",
       "      <td>0.58</td>\n",
       "      <td>9.8</td>\n",
       "      <td>good</td>\n",
       "    </tr>\n",
       "    <tr>\n",
       "      <th>4</th>\n",
       "      <td>7.4</td>\n",
       "      <td>0.70</td>\n",
       "      <td>0.00</td>\n",
       "      <td>1.9</td>\n",
       "      <td>0.076</td>\n",
       "      <td>11.0</td>\n",
       "      <td>34.0</td>\n",
       "      <td>0.9978</td>\n",
       "      <td>3.51</td>\n",
       "      <td>0.56</td>\n",
       "      <td>9.4</td>\n",
       "      <td>bad</td>\n",
       "    </tr>\n",
       "    <tr>\n",
       "      <th>5</th>\n",
       "      <td>7.4</td>\n",
       "      <td>0.66</td>\n",
       "      <td>0.00</td>\n",
       "      <td>1.8</td>\n",
       "      <td>0.075</td>\n",
       "      <td>13.0</td>\n",
       "      <td>40.0</td>\n",
       "      <td>0.9978</td>\n",
       "      <td>3.51</td>\n",
       "      <td>0.56</td>\n",
       "      <td>9.4</td>\n",
       "      <td>bad</td>\n",
       "    </tr>\n",
       "    <tr>\n",
       "      <th>6</th>\n",
       "      <td>7.9</td>\n",
       "      <td>0.60</td>\n",
       "      <td>0.06</td>\n",
       "      <td>1.6</td>\n",
       "      <td>0.069</td>\n",
       "      <td>15.0</td>\n",
       "      <td>59.0</td>\n",
       "      <td>0.9964</td>\n",
       "      <td>3.30</td>\n",
       "      <td>0.46</td>\n",
       "      <td>9.4</td>\n",
       "      <td>bad</td>\n",
       "    </tr>\n",
       "    <tr>\n",
       "      <th>7</th>\n",
       "      <td>7.3</td>\n",
       "      <td>0.65</td>\n",
       "      <td>0.00</td>\n",
       "      <td>1.2</td>\n",
       "      <td>0.065</td>\n",
       "      <td>15.0</td>\n",
       "      <td>21.0</td>\n",
       "      <td>0.9946</td>\n",
       "      <td>3.39</td>\n",
       "      <td>0.47</td>\n",
       "      <td>10.0</td>\n",
       "      <td>good</td>\n",
       "    </tr>\n",
       "  </tbody>\n",
       "</table>\n",
       "</div>\n",
       "      <button class=\"colab-df-convert\" onclick=\"convertToInteractive('df-ae591d17-7745-4cd2-bbb9-2fdeb404b542')\"\n",
       "              title=\"Convert this dataframe to an interactive table.\"\n",
       "              style=\"display:none;\">\n",
       "        \n",
       "  <svg xmlns=\"http://www.w3.org/2000/svg\" height=\"24px\"viewBox=\"0 0 24 24\"\n",
       "       width=\"24px\">\n",
       "    <path d=\"M0 0h24v24H0V0z\" fill=\"none\"/>\n",
       "    <path d=\"M18.56 5.44l.94 2.06.94-2.06 2.06-.94-2.06-.94-.94-2.06-.94 2.06-2.06.94zm-11 1L8.5 8.5l.94-2.06 2.06-.94-2.06-.94L8.5 2.5l-.94 2.06-2.06.94zm10 10l.94 2.06.94-2.06 2.06-.94-2.06-.94-.94-2.06-.94 2.06-2.06.94z\"/><path d=\"M17.41 7.96l-1.37-1.37c-.4-.4-.92-.59-1.43-.59-.52 0-1.04.2-1.43.59L10.3 9.45l-7.72 7.72c-.78.78-.78 2.05 0 2.83L4 21.41c.39.39.9.59 1.41.59.51 0 1.02-.2 1.41-.59l7.78-7.78 2.81-2.81c.8-.78.8-2.07 0-2.86zM5.41 20L4 18.59l7.72-7.72 1.47 1.35L5.41 20z\"/>\n",
       "  </svg>\n",
       "      </button>\n",
       "      \n",
       "  <style>\n",
       "    .colab-df-container {\n",
       "      display:flex;\n",
       "      flex-wrap:wrap;\n",
       "      gap: 12px;\n",
       "    }\n",
       "\n",
       "    .colab-df-convert {\n",
       "      background-color: #E8F0FE;\n",
       "      border: none;\n",
       "      border-radius: 50%;\n",
       "      cursor: pointer;\n",
       "      display: none;\n",
       "      fill: #1967D2;\n",
       "      height: 32px;\n",
       "      padding: 0 0 0 0;\n",
       "      width: 32px;\n",
       "    }\n",
       "\n",
       "    .colab-df-convert:hover {\n",
       "      background-color: #E2EBFA;\n",
       "      box-shadow: 0px 1px 2px rgba(60, 64, 67, 0.3), 0px 1px 3px 1px rgba(60, 64, 67, 0.15);\n",
       "      fill: #174EA6;\n",
       "    }\n",
       "\n",
       "    [theme=dark] .colab-df-convert {\n",
       "      background-color: #3B4455;\n",
       "      fill: #D2E3FC;\n",
       "    }\n",
       "\n",
       "    [theme=dark] .colab-df-convert:hover {\n",
       "      background-color: #434B5C;\n",
       "      box-shadow: 0px 1px 3px 1px rgba(0, 0, 0, 0.15);\n",
       "      filter: drop-shadow(0px 1px 2px rgba(0, 0, 0, 0.3));\n",
       "      fill: #FFFFFF;\n",
       "    }\n",
       "  </style>\n",
       "\n",
       "      <script>\n",
       "        const buttonEl =\n",
       "          document.querySelector('#df-ae591d17-7745-4cd2-bbb9-2fdeb404b542 button.colab-df-convert');\n",
       "        buttonEl.style.display =\n",
       "          google.colab.kernel.accessAllowed ? 'block' : 'none';\n",
       "\n",
       "        async function convertToInteractive(key) {\n",
       "          const element = document.querySelector('#df-ae591d17-7745-4cd2-bbb9-2fdeb404b542');\n",
       "          const dataTable =\n",
       "            await google.colab.kernel.invokeFunction('convertToInteractive',\n",
       "                                                     [key], {});\n",
       "          if (!dataTable) return;\n",
       "\n",
       "          const docLinkHtml = 'Like what you see? Visit the ' +\n",
       "            '<a target=\"_blank\" href=https://colab.research.google.com/notebooks/data_table.ipynb>data table notebook</a>'\n",
       "            + ' to learn more about interactive tables.';\n",
       "          element.innerHTML = '';\n",
       "          dataTable['output_type'] = 'display_data';\n",
       "          await google.colab.output.renderOutput(dataTable, element);\n",
       "          const docLink = document.createElement('div');\n",
       "          docLink.innerHTML = docLinkHtml;\n",
       "          element.appendChild(docLink);\n",
       "        }\n",
       "      </script>\n",
       "    </div>\n",
       "  </div>\n",
       "  "
      ],
      "text/plain": [
       "   fixed acidity  volatile acidity  citric acid  residual sugar  chlorides  \\\n",
       "0            7.4              0.70         0.00             1.9      0.076   \n",
       "1            7.8              0.88         0.00             2.6      0.098   \n",
       "2            7.8              0.76         0.04             2.3      0.092   \n",
       "3           11.2              0.28         0.56             1.9      0.075   \n",
       "4            7.4              0.70         0.00             1.9      0.076   \n",
       "5            7.4              0.66         0.00             1.8      0.075   \n",
       "6            7.9              0.60         0.06             1.6      0.069   \n",
       "7            7.3              0.65         0.00             1.2      0.065   \n",
       "\n",
       "   free sulfur dioxide  total sulfur dioxide  density    pH  sulphates  \\\n",
       "0                 11.0                  34.0   0.9978  3.51       0.56   \n",
       "1                 25.0                  67.0   0.9968  3.20       0.68   \n",
       "2                 15.0                  54.0   0.9970  3.26       0.65   \n",
       "3                 17.0                  60.0   0.9980  3.16       0.58   \n",
       "4                 11.0                  34.0   0.9978  3.51       0.56   \n",
       "5                 13.0                  40.0   0.9978  3.51       0.56   \n",
       "6                 15.0                  59.0   0.9964  3.30       0.46   \n",
       "7                 15.0                  21.0   0.9946  3.39       0.47   \n",
       "\n",
       "   alcohol quality  \n",
       "0      9.4     bad  \n",
       "1      9.8     bad  \n",
       "2      9.8     bad  \n",
       "3      9.8    good  \n",
       "4      9.4     bad  \n",
       "5      9.4     bad  \n",
       "6      9.4     bad  \n",
       "7     10.0    good  "
      ]
     },
     "execution_count": 8,
     "metadata": {},
     "output_type": "execute_result"
    }
   ],
   "source": [
    "train_data.head(8)"
   ]
  },
  {
   "cell_type": "code",
   "execution_count": 9,
   "metadata": {
    "colab": {
     "base_uri": "https://localhost:8080/"
    },
    "id": "AJsiu6IoS-5w",
    "outputId": "8ccb971b-a053-4439-c356-49b1521bf449"
   },
   "outputs": [
    {
     "data": {
      "text/plain": [
       "array(['bad', 'good'], dtype=object)"
      ]
     },
     "execution_count": 9,
     "metadata": {},
     "output_type": "execute_result"
    }
   ],
   "source": [
    "train_data['quality'].unique()"
   ]
  },
  {
   "cell_type": "code",
   "execution_count": 10,
   "metadata": {
    "id": "BQD1wBuITAse"
   },
   "outputs": [],
   "source": [
    "train_data['quality'] = train_data['quality'].replace({'bad':0,'good':1})"
   ]
  },
  {
   "cell_type": "code",
   "execution_count": 11,
   "metadata": {
    "colab": {
     "base_uri": "https://localhost:8080/",
     "height": 206
    },
    "id": "6BnLFiYWTC6O",
    "outputId": "f71f2623-fc40-4ea9-a739-83c8322d1bcf"
   },
   "outputs": [
    {
     "data": {
      "text/html": [
       "\n",
       "  <div id=\"df-2a47b821-ee83-44cd-9e37-10cb6875a4ed\">\n",
       "    <div class=\"colab-df-container\">\n",
       "      <div>\n",
       "<style scoped>\n",
       "    .dataframe tbody tr th:only-of-type {\n",
       "        vertical-align: middle;\n",
       "    }\n",
       "\n",
       "    .dataframe tbody tr th {\n",
       "        vertical-align: top;\n",
       "    }\n",
       "\n",
       "    .dataframe thead th {\n",
       "        text-align: right;\n",
       "    }\n",
       "</style>\n",
       "<table border=\"1\" class=\"dataframe\">\n",
       "  <thead>\n",
       "    <tr style=\"text-align: right;\">\n",
       "      <th></th>\n",
       "      <th>fixed acidity</th>\n",
       "      <th>volatile acidity</th>\n",
       "      <th>citric acid</th>\n",
       "      <th>residual sugar</th>\n",
       "      <th>chlorides</th>\n",
       "      <th>free sulfur dioxide</th>\n",
       "      <th>total sulfur dioxide</th>\n",
       "      <th>density</th>\n",
       "      <th>pH</th>\n",
       "      <th>sulphates</th>\n",
       "      <th>alcohol</th>\n",
       "      <th>quality</th>\n",
       "    </tr>\n",
       "  </thead>\n",
       "  <tbody>\n",
       "    <tr>\n",
       "      <th>0</th>\n",
       "      <td>7.4</td>\n",
       "      <td>0.70</td>\n",
       "      <td>0.00</td>\n",
       "      <td>1.9</td>\n",
       "      <td>0.076</td>\n",
       "      <td>11.0</td>\n",
       "      <td>34.0</td>\n",
       "      <td>0.9978</td>\n",
       "      <td>3.51</td>\n",
       "      <td>0.56</td>\n",
       "      <td>9.4</td>\n",
       "      <td>0</td>\n",
       "    </tr>\n",
       "    <tr>\n",
       "      <th>1</th>\n",
       "      <td>7.8</td>\n",
       "      <td>0.88</td>\n",
       "      <td>0.00</td>\n",
       "      <td>2.6</td>\n",
       "      <td>0.098</td>\n",
       "      <td>25.0</td>\n",
       "      <td>67.0</td>\n",
       "      <td>0.9968</td>\n",
       "      <td>3.20</td>\n",
       "      <td>0.68</td>\n",
       "      <td>9.8</td>\n",
       "      <td>0</td>\n",
       "    </tr>\n",
       "    <tr>\n",
       "      <th>2</th>\n",
       "      <td>7.8</td>\n",
       "      <td>0.76</td>\n",
       "      <td>0.04</td>\n",
       "      <td>2.3</td>\n",
       "      <td>0.092</td>\n",
       "      <td>15.0</td>\n",
       "      <td>54.0</td>\n",
       "      <td>0.9970</td>\n",
       "      <td>3.26</td>\n",
       "      <td>0.65</td>\n",
       "      <td>9.8</td>\n",
       "      <td>0</td>\n",
       "    </tr>\n",
       "    <tr>\n",
       "      <th>3</th>\n",
       "      <td>11.2</td>\n",
       "      <td>0.28</td>\n",
       "      <td>0.56</td>\n",
       "      <td>1.9</td>\n",
       "      <td>0.075</td>\n",
       "      <td>17.0</td>\n",
       "      <td>60.0</td>\n",
       "      <td>0.9980</td>\n",
       "      <td>3.16</td>\n",
       "      <td>0.58</td>\n",
       "      <td>9.8</td>\n",
       "      <td>1</td>\n",
       "    </tr>\n",
       "    <tr>\n",
       "      <th>4</th>\n",
       "      <td>7.4</td>\n",
       "      <td>0.70</td>\n",
       "      <td>0.00</td>\n",
       "      <td>1.9</td>\n",
       "      <td>0.076</td>\n",
       "      <td>11.0</td>\n",
       "      <td>34.0</td>\n",
       "      <td>0.9978</td>\n",
       "      <td>3.51</td>\n",
       "      <td>0.56</td>\n",
       "      <td>9.4</td>\n",
       "      <td>0</td>\n",
       "    </tr>\n",
       "  </tbody>\n",
       "</table>\n",
       "</div>\n",
       "      <button class=\"colab-df-convert\" onclick=\"convertToInteractive('df-2a47b821-ee83-44cd-9e37-10cb6875a4ed')\"\n",
       "              title=\"Convert this dataframe to an interactive table.\"\n",
       "              style=\"display:none;\">\n",
       "        \n",
       "  <svg xmlns=\"http://www.w3.org/2000/svg\" height=\"24px\"viewBox=\"0 0 24 24\"\n",
       "       width=\"24px\">\n",
       "    <path d=\"M0 0h24v24H0V0z\" fill=\"none\"/>\n",
       "    <path d=\"M18.56 5.44l.94 2.06.94-2.06 2.06-.94-2.06-.94-.94-2.06-.94 2.06-2.06.94zm-11 1L8.5 8.5l.94-2.06 2.06-.94-2.06-.94L8.5 2.5l-.94 2.06-2.06.94zm10 10l.94 2.06.94-2.06 2.06-.94-2.06-.94-.94-2.06-.94 2.06-2.06.94z\"/><path d=\"M17.41 7.96l-1.37-1.37c-.4-.4-.92-.59-1.43-.59-.52 0-1.04.2-1.43.59L10.3 9.45l-7.72 7.72c-.78.78-.78 2.05 0 2.83L4 21.41c.39.39.9.59 1.41.59.51 0 1.02-.2 1.41-.59l7.78-7.78 2.81-2.81c.8-.78.8-2.07 0-2.86zM5.41 20L4 18.59l7.72-7.72 1.47 1.35L5.41 20z\"/>\n",
       "  </svg>\n",
       "      </button>\n",
       "      \n",
       "  <style>\n",
       "    .colab-df-container {\n",
       "      display:flex;\n",
       "      flex-wrap:wrap;\n",
       "      gap: 12px;\n",
       "    }\n",
       "\n",
       "    .colab-df-convert {\n",
       "      background-color: #E8F0FE;\n",
       "      border: none;\n",
       "      border-radius: 50%;\n",
       "      cursor: pointer;\n",
       "      display: none;\n",
       "      fill: #1967D2;\n",
       "      height: 32px;\n",
       "      padding: 0 0 0 0;\n",
       "      width: 32px;\n",
       "    }\n",
       "\n",
       "    .colab-df-convert:hover {\n",
       "      background-color: #E2EBFA;\n",
       "      box-shadow: 0px 1px 2px rgba(60, 64, 67, 0.3), 0px 1px 3px 1px rgba(60, 64, 67, 0.15);\n",
       "      fill: #174EA6;\n",
       "    }\n",
       "\n",
       "    [theme=dark] .colab-df-convert {\n",
       "      background-color: #3B4455;\n",
       "      fill: #D2E3FC;\n",
       "    }\n",
       "\n",
       "    [theme=dark] .colab-df-convert:hover {\n",
       "      background-color: #434B5C;\n",
       "      box-shadow: 0px 1px 3px 1px rgba(0, 0, 0, 0.15);\n",
       "      filter: drop-shadow(0px 1px 2px rgba(0, 0, 0, 0.3));\n",
       "      fill: #FFFFFF;\n",
       "    }\n",
       "  </style>\n",
       "\n",
       "      <script>\n",
       "        const buttonEl =\n",
       "          document.querySelector('#df-2a47b821-ee83-44cd-9e37-10cb6875a4ed button.colab-df-convert');\n",
       "        buttonEl.style.display =\n",
       "          google.colab.kernel.accessAllowed ? 'block' : 'none';\n",
       "\n",
       "        async function convertToInteractive(key) {\n",
       "          const element = document.querySelector('#df-2a47b821-ee83-44cd-9e37-10cb6875a4ed');\n",
       "          const dataTable =\n",
       "            await google.colab.kernel.invokeFunction('convertToInteractive',\n",
       "                                                     [key], {});\n",
       "          if (!dataTable) return;\n",
       "\n",
       "          const docLinkHtml = 'Like what you see? Visit the ' +\n",
       "            '<a target=\"_blank\" href=https://colab.research.google.com/notebooks/data_table.ipynb>data table notebook</a>'\n",
       "            + ' to learn more about interactive tables.';\n",
       "          element.innerHTML = '';\n",
       "          dataTable['output_type'] = 'display_data';\n",
       "          await google.colab.output.renderOutput(dataTable, element);\n",
       "          const docLink = document.createElement('div');\n",
       "          docLink.innerHTML = docLinkHtml;\n",
       "          element.appendChild(docLink);\n",
       "        }\n",
       "      </script>\n",
       "    </div>\n",
       "  </div>\n",
       "  "
      ],
      "text/plain": [
       "   fixed acidity  volatile acidity  citric acid  residual sugar  chlorides  \\\n",
       "0            7.4              0.70         0.00             1.9      0.076   \n",
       "1            7.8              0.88         0.00             2.6      0.098   \n",
       "2            7.8              0.76         0.04             2.3      0.092   \n",
       "3           11.2              0.28         0.56             1.9      0.075   \n",
       "4            7.4              0.70         0.00             1.9      0.076   \n",
       "\n",
       "   free sulfur dioxide  total sulfur dioxide  density    pH  sulphates  \\\n",
       "0                 11.0                  34.0   0.9978  3.51       0.56   \n",
       "1                 25.0                  67.0   0.9968  3.20       0.68   \n",
       "2                 15.0                  54.0   0.9970  3.26       0.65   \n",
       "3                 17.0                  60.0   0.9980  3.16       0.58   \n",
       "4                 11.0                  34.0   0.9978  3.51       0.56   \n",
       "\n",
       "   alcohol  quality  \n",
       "0      9.4        0  \n",
       "1      9.8        0  \n",
       "2      9.8        0  \n",
       "3      9.8        1  \n",
       "4      9.4        0  "
      ]
     },
     "execution_count": 11,
     "metadata": {},
     "output_type": "execute_result"
    }
   ],
   "source": [
    "train_data.head()"
   ]
  },
  {
   "cell_type": "markdown",
   "metadata": {
    "id": "i1mUUsvXSNk9"
   },
   "source": [
    "# New Section"
   ]
  },
  {
   "cell_type": "code",
   "execution_count": 12,
   "metadata": {
    "colab": {
     "base_uri": "https://localhost:8080/"
    },
    "id": "_MCqdsSUFscy",
    "outputId": "53ec2885-fe77-42d5-bd83-f197964ef572"
   },
   "outputs": [
    {
     "data": {
      "text/plain": [
       "False"
      ]
     },
     "execution_count": 12,
     "metadata": {},
     "output_type": "execute_result"
    }
   ],
   "source": [
    "np.any(np.isnan(train_data))\n"
   ]
  },
  {
   "cell_type": "code",
   "execution_count": 13,
   "metadata": {
    "colab": {
     "base_uri": "https://localhost:8080/"
    },
    "id": "fxacJT3bF53D",
    "outputId": "cfcad64b-7691-4ca2-d98c-1affde3f05a1"
   },
   "outputs": [
    {
     "data": {
      "text/plain": [
       "True"
      ]
     },
     "execution_count": 13,
     "metadata": {},
     "output_type": "execute_result"
    }
   ],
   "source": [
    "#train_data.replace([np.inf, -np.inf], np.nan, inplace=True)\n",
    "np.all(np.isfinite(train_data))\n"
   ]
  },
  {
   "cell_type": "code",
   "execution_count": 14,
   "metadata": {
    "colab": {
     "base_uri": "https://localhost:8080/"
    },
    "id": "3xQB2KCH53bY",
    "outputId": "6cf2649b-cabf-4b64-8fa5-89b27146bb4c"
   },
   "outputs": [
    {
     "data": {
      "text/plain": [
       "(1599, 12)"
      ]
     },
     "execution_count": 14,
     "metadata": {},
     "output_type": "execute_result"
    }
   ],
   "source": [
    "train_data.shape"
   ]
  },
  {
   "cell_type": "code",
   "execution_count": 15,
   "metadata": {
    "colab": {
     "base_uri": "https://localhost:8080/"
    },
    "id": "rOrO8MWVBvIR",
    "outputId": "3088987c-7736-426a-8403-39f4cee8f367"
   },
   "outputs": [
    {
     "data": {
      "text/plain": [
       "fixed acidity           0\n",
       "volatile acidity        0\n",
       "citric acid             0\n",
       "residual sugar          0\n",
       "chlorides               0\n",
       "free sulfur dioxide     0\n",
       "total sulfur dioxide    0\n",
       "density                 0\n",
       "pH                      0\n",
       "sulphates               0\n",
       "alcohol                 0\n",
       "quality                 0\n",
       "dtype: int64"
      ]
     },
     "execution_count": 15,
     "metadata": {},
     "output_type": "execute_result"
    }
   ],
   "source": [
    "train_data.isna().sum()"
   ]
  },
  {
   "cell_type": "code",
   "execution_count": 16,
   "metadata": {
    "colab": {
     "base_uri": "https://localhost:8080/"
    },
    "id": "CT2dkbDwTMsJ",
    "outputId": "b11285f1-7984-4043-9ff4-ac8a2eaebbb4"
   },
   "outputs": [
    {
     "name": "stdout",
     "output_type": "stream",
     "text": [
      "<class 'pandas.core.frame.DataFrame'>\n",
      "RangeIndex: 1599 entries, 0 to 1598\n",
      "Data columns (total 12 columns):\n",
      " #   Column                Non-Null Count  Dtype  \n",
      "---  ------                --------------  -----  \n",
      " 0   fixed acidity         1599 non-null   float64\n",
      " 1   volatile acidity      1599 non-null   float64\n",
      " 2   citric acid           1599 non-null   float64\n",
      " 3   residual sugar        1599 non-null   float64\n",
      " 4   chlorides             1599 non-null   float64\n",
      " 5   free sulfur dioxide   1599 non-null   float64\n",
      " 6   total sulfur dioxide  1599 non-null   float64\n",
      " 7   density               1599 non-null   float64\n",
      " 8   pH                    1599 non-null   float64\n",
      " 9   sulphates             1599 non-null   float64\n",
      " 10  alcohol               1599 non-null   float64\n",
      " 11  quality               1599 non-null   int64  \n",
      "dtypes: float64(11), int64(1)\n",
      "memory usage: 150.0 KB\n"
     ]
    }
   ],
   "source": [
    "train_data.info()"
   ]
  },
  {
   "cell_type": "code",
   "execution_count": 17,
   "metadata": {
    "id": "flHl0h1V_iVi"
   },
   "outputs": [],
   "source": [
    "X = train_data.drop(['quality'],axis=1)\n",
    "y= train_data['quality']"
   ]
  },
  {
   "cell_type": "code",
   "execution_count": 18,
   "metadata": {
    "id": "C6KVb2SX57K8"
   },
   "outputs": [],
   "source": [
    "X_train, X_test, y_train, y_test=sklearn.model_selection.train_test_split(X,y ,test_size=0.3)\n",
    "X_train, X_val, y_train, y_val=sklearn.model_selection.train_test_split(X_train,y_train ,test_size=1/6)"
   ]
  },
  {
   "cell_type": "code",
   "execution_count": 19,
   "metadata": {
    "colab": {
     "base_uri": "https://localhost:8080/"
    },
    "id": "4_gH4VG-CWVm",
    "outputId": "caf66210-9821-4ef5-d96e-2cebd2b9b510"
   },
   "outputs": [
    {
     "name": "stdout",
     "output_type": "stream",
     "text": [
      "Dataset Shape : \n",
      "\n",
      "X_train : (932, 11)\n",
      "y_test : (480, 11)\n",
      "X_val : (187, 11)\n"
     ]
    }
   ],
   "source": [
    "print(\"Dataset Shape : \\n\")\n",
    "print(\"X_train :\",X_train.shape)\n",
    "print(\"y_test :\",X_test.shape)\n",
    "print(\"X_val :\",X_val.shape)"
   ]
  },
  {
   "cell_type": "markdown",
   "metadata": {
    "id": "lOAxB7begmjo"
   },
   "source": [
    "**Display Dataset**"
   ]
  },
  {
   "cell_type": "code",
   "execution_count": 120,
   "metadata": {
    "colab": {
     "base_uri": "https://localhost:8080/",
     "height": 241
    },
    "id": "tY06ZXyrhG3A",
    "outputId": "72a4260a-cab6-4928-8093-4c21c8953607"
   },
   "outputs": [
    {
     "name": "stdout",
     "output_type": "stream",
     "text": [
      "Training Dataset : \n",
      "\n"
     ]
    },
    {
     "data": {
      "text/html": [
       "\n",
       "  <div id=\"df-3dd94949-a1b9-47ee-b974-0619d50fd4b0\">\n",
       "    <div class=\"colab-df-container\">\n",
       "      <div>\n",
       "<style scoped>\n",
       "    .dataframe tbody tr th:only-of-type {\n",
       "        vertical-align: middle;\n",
       "    }\n",
       "\n",
       "    .dataframe tbody tr th {\n",
       "        vertical-align: top;\n",
       "    }\n",
       "\n",
       "    .dataframe thead th {\n",
       "        text-align: right;\n",
       "    }\n",
       "</style>\n",
       "<table border=\"1\" class=\"dataframe\">\n",
       "  <thead>\n",
       "    <tr style=\"text-align: right;\">\n",
       "      <th></th>\n",
       "      <th>fixed acidity</th>\n",
       "      <th>volatile acidity</th>\n",
       "      <th>citric acid</th>\n",
       "      <th>residual sugar</th>\n",
       "      <th>chlorides</th>\n",
       "      <th>free sulfur dioxide</th>\n",
       "      <th>total sulfur dioxide</th>\n",
       "      <th>density</th>\n",
       "      <th>pH</th>\n",
       "      <th>sulphates</th>\n",
       "      <th>alcohol</th>\n",
       "    </tr>\n",
       "  </thead>\n",
       "  <tbody>\n",
       "    <tr>\n",
       "      <th>64</th>\n",
       "      <td>7.2</td>\n",
       "      <td>0.725</td>\n",
       "      <td>0.05</td>\n",
       "      <td>4.65</td>\n",
       "      <td>0.086</td>\n",
       "      <td>4.0</td>\n",
       "      <td>11.0</td>\n",
       "      <td>0.99620</td>\n",
       "      <td>3.41</td>\n",
       "      <td>0.39</td>\n",
       "      <td>10.9</td>\n",
       "    </tr>\n",
       "    <tr>\n",
       "      <th>996</th>\n",
       "      <td>5.6</td>\n",
       "      <td>0.660</td>\n",
       "      <td>0.00</td>\n",
       "      <td>2.20</td>\n",
       "      <td>0.087</td>\n",
       "      <td>3.0</td>\n",
       "      <td>11.0</td>\n",
       "      <td>0.99378</td>\n",
       "      <td>3.71</td>\n",
       "      <td>0.63</td>\n",
       "      <td>12.8</td>\n",
       "    </tr>\n",
       "    <tr>\n",
       "      <th>205</th>\n",
       "      <td>12.8</td>\n",
       "      <td>0.300</td>\n",
       "      <td>0.74</td>\n",
       "      <td>2.60</td>\n",
       "      <td>0.095</td>\n",
       "      <td>9.0</td>\n",
       "      <td>28.0</td>\n",
       "      <td>0.99940</td>\n",
       "      <td>3.20</td>\n",
       "      <td>0.77</td>\n",
       "      <td>10.8</td>\n",
       "    </tr>\n",
       "    <tr>\n",
       "      <th>1267</th>\n",
       "      <td>10.4</td>\n",
       "      <td>0.430</td>\n",
       "      <td>0.50</td>\n",
       "      <td>2.30</td>\n",
       "      <td>0.068</td>\n",
       "      <td>13.0</td>\n",
       "      <td>19.0</td>\n",
       "      <td>0.99600</td>\n",
       "      <td>3.10</td>\n",
       "      <td>0.87</td>\n",
       "      <td>11.4</td>\n",
       "    </tr>\n",
       "    <tr>\n",
       "      <th>1345</th>\n",
       "      <td>8.2</td>\n",
       "      <td>0.440</td>\n",
       "      <td>0.24</td>\n",
       "      <td>2.30</td>\n",
       "      <td>0.063</td>\n",
       "      <td>10.0</td>\n",
       "      <td>28.0</td>\n",
       "      <td>0.99613</td>\n",
       "      <td>3.25</td>\n",
       "      <td>0.53</td>\n",
       "      <td>10.2</td>\n",
       "    </tr>\n",
       "  </tbody>\n",
       "</table>\n",
       "</div>\n",
       "      <button class=\"colab-df-convert\" onclick=\"convertToInteractive('df-3dd94949-a1b9-47ee-b974-0619d50fd4b0')\"\n",
       "              title=\"Convert this dataframe to an interactive table.\"\n",
       "              style=\"display:none;\">\n",
       "        \n",
       "  <svg xmlns=\"http://www.w3.org/2000/svg\" height=\"24px\"viewBox=\"0 0 24 24\"\n",
       "       width=\"24px\">\n",
       "    <path d=\"M0 0h24v24H0V0z\" fill=\"none\"/>\n",
       "    <path d=\"M18.56 5.44l.94 2.06.94-2.06 2.06-.94-2.06-.94-.94-2.06-.94 2.06-2.06.94zm-11 1L8.5 8.5l.94-2.06 2.06-.94-2.06-.94L8.5 2.5l-.94 2.06-2.06.94zm10 10l.94 2.06.94-2.06 2.06-.94-2.06-.94-.94-2.06-.94 2.06-2.06.94z\"/><path d=\"M17.41 7.96l-1.37-1.37c-.4-.4-.92-.59-1.43-.59-.52 0-1.04.2-1.43.59L10.3 9.45l-7.72 7.72c-.78.78-.78 2.05 0 2.83L4 21.41c.39.39.9.59 1.41.59.51 0 1.02-.2 1.41-.59l7.78-7.78 2.81-2.81c.8-.78.8-2.07 0-2.86zM5.41 20L4 18.59l7.72-7.72 1.47 1.35L5.41 20z\"/>\n",
       "  </svg>\n",
       "      </button>\n",
       "      \n",
       "  <style>\n",
       "    .colab-df-container {\n",
       "      display:flex;\n",
       "      flex-wrap:wrap;\n",
       "      gap: 12px;\n",
       "    }\n",
       "\n",
       "    .colab-df-convert {\n",
       "      background-color: #E8F0FE;\n",
       "      border: none;\n",
       "      border-radius: 50%;\n",
       "      cursor: pointer;\n",
       "      display: none;\n",
       "      fill: #1967D2;\n",
       "      height: 32px;\n",
       "      padding: 0 0 0 0;\n",
       "      width: 32px;\n",
       "    }\n",
       "\n",
       "    .colab-df-convert:hover {\n",
       "      background-color: #E2EBFA;\n",
       "      box-shadow: 0px 1px 2px rgba(60, 64, 67, 0.3), 0px 1px 3px 1px rgba(60, 64, 67, 0.15);\n",
       "      fill: #174EA6;\n",
       "    }\n",
       "\n",
       "    [theme=dark] .colab-df-convert {\n",
       "      background-color: #3B4455;\n",
       "      fill: #D2E3FC;\n",
       "    }\n",
       "\n",
       "    [theme=dark] .colab-df-convert:hover {\n",
       "      background-color: #434B5C;\n",
       "      box-shadow: 0px 1px 3px 1px rgba(0, 0, 0, 0.15);\n",
       "      filter: drop-shadow(0px 1px 2px rgba(0, 0, 0, 0.3));\n",
       "      fill: #FFFFFF;\n",
       "    }\n",
       "  </style>\n",
       "\n",
       "      <script>\n",
       "        const buttonEl =\n",
       "          document.querySelector('#df-3dd94949-a1b9-47ee-b974-0619d50fd4b0 button.colab-df-convert');\n",
       "        buttonEl.style.display =\n",
       "          google.colab.kernel.accessAllowed ? 'block' : 'none';\n",
       "\n",
       "        async function convertToInteractive(key) {\n",
       "          const element = document.querySelector('#df-3dd94949-a1b9-47ee-b974-0619d50fd4b0');\n",
       "          const dataTable =\n",
       "            await google.colab.kernel.invokeFunction('convertToInteractive',\n",
       "                                                     [key], {});\n",
       "          if (!dataTable) return;\n",
       "\n",
       "          const docLinkHtml = 'Like what you see? Visit the ' +\n",
       "            '<a target=\"_blank\" href=https://colab.research.google.com/notebooks/data_table.ipynb>data table notebook</a>'\n",
       "            + ' to learn more about interactive tables.';\n",
       "          element.innerHTML = '';\n",
       "          dataTable['output_type'] = 'display_data';\n",
       "          await google.colab.output.renderOutput(dataTable, element);\n",
       "          const docLink = document.createElement('div');\n",
       "          docLink.innerHTML = docLinkHtml;\n",
       "          element.appendChild(docLink);\n",
       "        }\n",
       "      </script>\n",
       "    </div>\n",
       "  </div>\n",
       "  "
      ],
      "text/plain": [
       "      fixed acidity  volatile acidity  citric acid  residual sugar  chlorides  \\\n",
       "64              7.2             0.725         0.05            4.65      0.086   \n",
       "996             5.6             0.660         0.00            2.20      0.087   \n",
       "205            12.8             0.300         0.74            2.60      0.095   \n",
       "1267           10.4             0.430         0.50            2.30      0.068   \n",
       "1345            8.2             0.440         0.24            2.30      0.063   \n",
       "\n",
       "      free sulfur dioxide  total sulfur dioxide  density    pH  sulphates  \\\n",
       "64                    4.0                  11.0  0.99620  3.41       0.39   \n",
       "996                   3.0                  11.0  0.99378  3.71       0.63   \n",
       "205                   9.0                  28.0  0.99940  3.20       0.77   \n",
       "1267                 13.0                  19.0  0.99600  3.10       0.87   \n",
       "1345                 10.0                  28.0  0.99613  3.25       0.53   \n",
       "\n",
       "      alcohol  \n",
       "64       10.9  \n",
       "996      12.8  \n",
       "205      10.8  \n",
       "1267     11.4  \n",
       "1345     10.2  "
      ]
     },
     "execution_count": 120,
     "metadata": {},
     "output_type": "execute_result"
    }
   ],
   "source": [
    "#Training Dataset\n",
    "print(\"Training Dataset : \\n\")\n",
    "X_train.head()"
   ]
  },
  {
   "cell_type": "code",
   "execution_count": 121,
   "metadata": {
    "colab": {
     "base_uri": "https://localhost:8080/",
     "height": 241
    },
    "id": "v2Tq_stHuFKx",
    "outputId": "4c6ec89c-af42-4080-eb9c-1d9fdd930b19"
   },
   "outputs": [
    {
     "name": "stdout",
     "output_type": "stream",
     "text": [
      "Validation Dataset : \n",
      "\n"
     ]
    },
    {
     "data": {
      "text/html": [
       "\n",
       "  <div id=\"df-b290d37d-5e2a-4355-8cb0-58b4063d161b\">\n",
       "    <div class=\"colab-df-container\">\n",
       "      <div>\n",
       "<style scoped>\n",
       "    .dataframe tbody tr th:only-of-type {\n",
       "        vertical-align: middle;\n",
       "    }\n",
       "\n",
       "    .dataframe tbody tr th {\n",
       "        vertical-align: top;\n",
       "    }\n",
       "\n",
       "    .dataframe thead th {\n",
       "        text-align: right;\n",
       "    }\n",
       "</style>\n",
       "<table border=\"1\" class=\"dataframe\">\n",
       "  <thead>\n",
       "    <tr style=\"text-align: right;\">\n",
       "      <th></th>\n",
       "      <th>fixed acidity</th>\n",
       "      <th>volatile acidity</th>\n",
       "      <th>citric acid</th>\n",
       "      <th>residual sugar</th>\n",
       "      <th>chlorides</th>\n",
       "      <th>free sulfur dioxide</th>\n",
       "      <th>total sulfur dioxide</th>\n",
       "      <th>density</th>\n",
       "      <th>pH</th>\n",
       "      <th>sulphates</th>\n",
       "      <th>alcohol</th>\n",
       "    </tr>\n",
       "  </thead>\n",
       "  <tbody>\n",
       "    <tr>\n",
       "      <th>1314</th>\n",
       "      <td>7.0</td>\n",
       "      <td>0.360</td>\n",
       "      <td>0.21</td>\n",
       "      <td>2.4</td>\n",
       "      <td>0.086</td>\n",
       "      <td>24.0</td>\n",
       "      <td>69.0</td>\n",
       "      <td>0.99556</td>\n",
       "      <td>3.40</td>\n",
       "      <td>0.53</td>\n",
       "      <td>10.1</td>\n",
       "    </tr>\n",
       "    <tr>\n",
       "      <th>134</th>\n",
       "      <td>7.9</td>\n",
       "      <td>1.040</td>\n",
       "      <td>0.05</td>\n",
       "      <td>2.2</td>\n",
       "      <td>0.084</td>\n",
       "      <td>13.0</td>\n",
       "      <td>29.0</td>\n",
       "      <td>0.99590</td>\n",
       "      <td>3.22</td>\n",
       "      <td>0.55</td>\n",
       "      <td>9.9</td>\n",
       "    </tr>\n",
       "    <tr>\n",
       "      <th>10</th>\n",
       "      <td>6.7</td>\n",
       "      <td>0.580</td>\n",
       "      <td>0.08</td>\n",
       "      <td>1.8</td>\n",
       "      <td>0.097</td>\n",
       "      <td>15.0</td>\n",
       "      <td>65.0</td>\n",
       "      <td>0.99590</td>\n",
       "      <td>3.28</td>\n",
       "      <td>0.54</td>\n",
       "      <td>9.2</td>\n",
       "    </tr>\n",
       "    <tr>\n",
       "      <th>526</th>\n",
       "      <td>7.3</td>\n",
       "      <td>0.365</td>\n",
       "      <td>0.49</td>\n",
       "      <td>2.5</td>\n",
       "      <td>0.088</td>\n",
       "      <td>39.0</td>\n",
       "      <td>106.0</td>\n",
       "      <td>0.99660</td>\n",
       "      <td>3.36</td>\n",
       "      <td>0.78</td>\n",
       "      <td>11.0</td>\n",
       "    </tr>\n",
       "    <tr>\n",
       "      <th>1218</th>\n",
       "      <td>8.2</td>\n",
       "      <td>0.400</td>\n",
       "      <td>0.31</td>\n",
       "      <td>1.9</td>\n",
       "      <td>0.082</td>\n",
       "      <td>8.0</td>\n",
       "      <td>24.0</td>\n",
       "      <td>0.99600</td>\n",
       "      <td>3.24</td>\n",
       "      <td>0.69</td>\n",
       "      <td>10.6</td>\n",
       "    </tr>\n",
       "  </tbody>\n",
       "</table>\n",
       "</div>\n",
       "      <button class=\"colab-df-convert\" onclick=\"convertToInteractive('df-b290d37d-5e2a-4355-8cb0-58b4063d161b')\"\n",
       "              title=\"Convert this dataframe to an interactive table.\"\n",
       "              style=\"display:none;\">\n",
       "        \n",
       "  <svg xmlns=\"http://www.w3.org/2000/svg\" height=\"24px\"viewBox=\"0 0 24 24\"\n",
       "       width=\"24px\">\n",
       "    <path d=\"M0 0h24v24H0V0z\" fill=\"none\"/>\n",
       "    <path d=\"M18.56 5.44l.94 2.06.94-2.06 2.06-.94-2.06-.94-.94-2.06-.94 2.06-2.06.94zm-11 1L8.5 8.5l.94-2.06 2.06-.94-2.06-.94L8.5 2.5l-.94 2.06-2.06.94zm10 10l.94 2.06.94-2.06 2.06-.94-2.06-.94-.94-2.06-.94 2.06-2.06.94z\"/><path d=\"M17.41 7.96l-1.37-1.37c-.4-.4-.92-.59-1.43-.59-.52 0-1.04.2-1.43.59L10.3 9.45l-7.72 7.72c-.78.78-.78 2.05 0 2.83L4 21.41c.39.39.9.59 1.41.59.51 0 1.02-.2 1.41-.59l7.78-7.78 2.81-2.81c.8-.78.8-2.07 0-2.86zM5.41 20L4 18.59l7.72-7.72 1.47 1.35L5.41 20z\"/>\n",
       "  </svg>\n",
       "      </button>\n",
       "      \n",
       "  <style>\n",
       "    .colab-df-container {\n",
       "      display:flex;\n",
       "      flex-wrap:wrap;\n",
       "      gap: 12px;\n",
       "    }\n",
       "\n",
       "    .colab-df-convert {\n",
       "      background-color: #E8F0FE;\n",
       "      border: none;\n",
       "      border-radius: 50%;\n",
       "      cursor: pointer;\n",
       "      display: none;\n",
       "      fill: #1967D2;\n",
       "      height: 32px;\n",
       "      padding: 0 0 0 0;\n",
       "      width: 32px;\n",
       "    }\n",
       "\n",
       "    .colab-df-convert:hover {\n",
       "      background-color: #E2EBFA;\n",
       "      box-shadow: 0px 1px 2px rgba(60, 64, 67, 0.3), 0px 1px 3px 1px rgba(60, 64, 67, 0.15);\n",
       "      fill: #174EA6;\n",
       "    }\n",
       "\n",
       "    [theme=dark] .colab-df-convert {\n",
       "      background-color: #3B4455;\n",
       "      fill: #D2E3FC;\n",
       "    }\n",
       "\n",
       "    [theme=dark] .colab-df-convert:hover {\n",
       "      background-color: #434B5C;\n",
       "      box-shadow: 0px 1px 3px 1px rgba(0, 0, 0, 0.15);\n",
       "      filter: drop-shadow(0px 1px 2px rgba(0, 0, 0, 0.3));\n",
       "      fill: #FFFFFF;\n",
       "    }\n",
       "  </style>\n",
       "\n",
       "      <script>\n",
       "        const buttonEl =\n",
       "          document.querySelector('#df-b290d37d-5e2a-4355-8cb0-58b4063d161b button.colab-df-convert');\n",
       "        buttonEl.style.display =\n",
       "          google.colab.kernel.accessAllowed ? 'block' : 'none';\n",
       "\n",
       "        async function convertToInteractive(key) {\n",
       "          const element = document.querySelector('#df-b290d37d-5e2a-4355-8cb0-58b4063d161b');\n",
       "          const dataTable =\n",
       "            await google.colab.kernel.invokeFunction('convertToInteractive',\n",
       "                                                     [key], {});\n",
       "          if (!dataTable) return;\n",
       "\n",
       "          const docLinkHtml = 'Like what you see? Visit the ' +\n",
       "            '<a target=\"_blank\" href=https://colab.research.google.com/notebooks/data_table.ipynb>data table notebook</a>'\n",
       "            + ' to learn more about interactive tables.';\n",
       "          element.innerHTML = '';\n",
       "          dataTable['output_type'] = 'display_data';\n",
       "          await google.colab.output.renderOutput(dataTable, element);\n",
       "          const docLink = document.createElement('div');\n",
       "          docLink.innerHTML = docLinkHtml;\n",
       "          element.appendChild(docLink);\n",
       "        }\n",
       "      </script>\n",
       "    </div>\n",
       "  </div>\n",
       "  "
      ],
      "text/plain": [
       "      fixed acidity  volatile acidity  citric acid  residual sugar  chlorides  \\\n",
       "1314            7.0             0.360         0.21             2.4      0.086   \n",
       "134             7.9             1.040         0.05             2.2      0.084   \n",
       "10              6.7             0.580         0.08             1.8      0.097   \n",
       "526             7.3             0.365         0.49             2.5      0.088   \n",
       "1218            8.2             0.400         0.31             1.9      0.082   \n",
       "\n",
       "      free sulfur dioxide  total sulfur dioxide  density    pH  sulphates  \\\n",
       "1314                 24.0                  69.0  0.99556  3.40       0.53   \n",
       "134                  13.0                  29.0  0.99590  3.22       0.55   \n",
       "10                   15.0                  65.0  0.99590  3.28       0.54   \n",
       "526                  39.0                 106.0  0.99660  3.36       0.78   \n",
       "1218                  8.0                  24.0  0.99600  3.24       0.69   \n",
       "\n",
       "      alcohol  \n",
       "1314     10.1  \n",
       "134       9.9  \n",
       "10        9.2  \n",
       "526      11.0  \n",
       "1218     10.6  "
      ]
     },
     "execution_count": 121,
     "metadata": {},
     "output_type": "execute_result"
    }
   ],
   "source": [
    "#Validation Dataset\n",
    "print(\"Validation Dataset : \\n\")\n",
    "X_val.head()"
   ]
  },
  {
   "cell_type": "code",
   "execution_count": 122,
   "metadata": {
    "colab": {
     "base_uri": "https://localhost:8080/",
     "height": 241
    },
    "id": "WkD4O0WaeCMk",
    "outputId": "13258576-8622-4bc0-b36b-f96df9891d1a"
   },
   "outputs": [
    {
     "name": "stdout",
     "output_type": "stream",
     "text": [
      "Test Dataset : \n",
      "\n"
     ]
    },
    {
     "data": {
      "text/html": [
       "\n",
       "  <div id=\"df-91fc3581-d990-4bda-a63c-f0dbf00faefd\">\n",
       "    <div class=\"colab-df-container\">\n",
       "      <div>\n",
       "<style scoped>\n",
       "    .dataframe tbody tr th:only-of-type {\n",
       "        vertical-align: middle;\n",
       "    }\n",
       "\n",
       "    .dataframe tbody tr th {\n",
       "        vertical-align: top;\n",
       "    }\n",
       "\n",
       "    .dataframe thead th {\n",
       "        text-align: right;\n",
       "    }\n",
       "</style>\n",
       "<table border=\"1\" class=\"dataframe\">\n",
       "  <thead>\n",
       "    <tr style=\"text-align: right;\">\n",
       "      <th></th>\n",
       "      <th>fixed acidity</th>\n",
       "      <th>volatile acidity</th>\n",
       "      <th>citric acid</th>\n",
       "      <th>residual sugar</th>\n",
       "      <th>chlorides</th>\n",
       "      <th>free sulfur dioxide</th>\n",
       "      <th>total sulfur dioxide</th>\n",
       "      <th>density</th>\n",
       "      <th>pH</th>\n",
       "      <th>sulphates</th>\n",
       "      <th>alcohol</th>\n",
       "    </tr>\n",
       "  </thead>\n",
       "  <tbody>\n",
       "    <tr>\n",
       "      <th>490</th>\n",
       "      <td>9.3</td>\n",
       "      <td>0.775</td>\n",
       "      <td>0.27</td>\n",
       "      <td>2.8</td>\n",
       "      <td>0.078</td>\n",
       "      <td>24.0</td>\n",
       "      <td>56.0</td>\n",
       "      <td>0.99840</td>\n",
       "      <td>3.31</td>\n",
       "      <td>0.67</td>\n",
       "      <td>10.60</td>\n",
       "    </tr>\n",
       "    <tr>\n",
       "      <th>1456</th>\n",
       "      <td>6.0</td>\n",
       "      <td>0.540</td>\n",
       "      <td>0.06</td>\n",
       "      <td>1.8</td>\n",
       "      <td>0.050</td>\n",
       "      <td>38.0</td>\n",
       "      <td>89.0</td>\n",
       "      <td>0.99236</td>\n",
       "      <td>3.30</td>\n",
       "      <td>0.50</td>\n",
       "      <td>10.55</td>\n",
       "    </tr>\n",
       "    <tr>\n",
       "      <th>513</th>\n",
       "      <td>10.5</td>\n",
       "      <td>0.510</td>\n",
       "      <td>0.64</td>\n",
       "      <td>2.4</td>\n",
       "      <td>0.107</td>\n",
       "      <td>6.0</td>\n",
       "      <td>15.0</td>\n",
       "      <td>0.99730</td>\n",
       "      <td>3.09</td>\n",
       "      <td>0.66</td>\n",
       "      <td>11.80</td>\n",
       "    </tr>\n",
       "    <tr>\n",
       "      <th>880</th>\n",
       "      <td>9.2</td>\n",
       "      <td>0.560</td>\n",
       "      <td>0.18</td>\n",
       "      <td>1.6</td>\n",
       "      <td>0.078</td>\n",
       "      <td>10.0</td>\n",
       "      <td>21.0</td>\n",
       "      <td>0.99576</td>\n",
       "      <td>3.15</td>\n",
       "      <td>0.49</td>\n",
       "      <td>9.90</td>\n",
       "    </tr>\n",
       "    <tr>\n",
       "      <th>335</th>\n",
       "      <td>11.9</td>\n",
       "      <td>0.695</td>\n",
       "      <td>0.53</td>\n",
       "      <td>3.4</td>\n",
       "      <td>0.128</td>\n",
       "      <td>7.0</td>\n",
       "      <td>21.0</td>\n",
       "      <td>0.99920</td>\n",
       "      <td>3.17</td>\n",
       "      <td>0.84</td>\n",
       "      <td>12.20</td>\n",
       "    </tr>\n",
       "  </tbody>\n",
       "</table>\n",
       "</div>\n",
       "      <button class=\"colab-df-convert\" onclick=\"convertToInteractive('df-91fc3581-d990-4bda-a63c-f0dbf00faefd')\"\n",
       "              title=\"Convert this dataframe to an interactive table.\"\n",
       "              style=\"display:none;\">\n",
       "        \n",
       "  <svg xmlns=\"http://www.w3.org/2000/svg\" height=\"24px\"viewBox=\"0 0 24 24\"\n",
       "       width=\"24px\">\n",
       "    <path d=\"M0 0h24v24H0V0z\" fill=\"none\"/>\n",
       "    <path d=\"M18.56 5.44l.94 2.06.94-2.06 2.06-.94-2.06-.94-.94-2.06-.94 2.06-2.06.94zm-11 1L8.5 8.5l.94-2.06 2.06-.94-2.06-.94L8.5 2.5l-.94 2.06-2.06.94zm10 10l.94 2.06.94-2.06 2.06-.94-2.06-.94-.94-2.06-.94 2.06-2.06.94z\"/><path d=\"M17.41 7.96l-1.37-1.37c-.4-.4-.92-.59-1.43-.59-.52 0-1.04.2-1.43.59L10.3 9.45l-7.72 7.72c-.78.78-.78 2.05 0 2.83L4 21.41c.39.39.9.59 1.41.59.51 0 1.02-.2 1.41-.59l7.78-7.78 2.81-2.81c.8-.78.8-2.07 0-2.86zM5.41 20L4 18.59l7.72-7.72 1.47 1.35L5.41 20z\"/>\n",
       "  </svg>\n",
       "      </button>\n",
       "      \n",
       "  <style>\n",
       "    .colab-df-container {\n",
       "      display:flex;\n",
       "      flex-wrap:wrap;\n",
       "      gap: 12px;\n",
       "    }\n",
       "\n",
       "    .colab-df-convert {\n",
       "      background-color: #E8F0FE;\n",
       "      border: none;\n",
       "      border-radius: 50%;\n",
       "      cursor: pointer;\n",
       "      display: none;\n",
       "      fill: #1967D2;\n",
       "      height: 32px;\n",
       "      padding: 0 0 0 0;\n",
       "      width: 32px;\n",
       "    }\n",
       "\n",
       "    .colab-df-convert:hover {\n",
       "      background-color: #E2EBFA;\n",
       "      box-shadow: 0px 1px 2px rgba(60, 64, 67, 0.3), 0px 1px 3px 1px rgba(60, 64, 67, 0.15);\n",
       "      fill: #174EA6;\n",
       "    }\n",
       "\n",
       "    [theme=dark] .colab-df-convert {\n",
       "      background-color: #3B4455;\n",
       "      fill: #D2E3FC;\n",
       "    }\n",
       "\n",
       "    [theme=dark] .colab-df-convert:hover {\n",
       "      background-color: #434B5C;\n",
       "      box-shadow: 0px 1px 3px 1px rgba(0, 0, 0, 0.15);\n",
       "      filter: drop-shadow(0px 1px 2px rgba(0, 0, 0, 0.3));\n",
       "      fill: #FFFFFF;\n",
       "    }\n",
       "  </style>\n",
       "\n",
       "      <script>\n",
       "        const buttonEl =\n",
       "          document.querySelector('#df-91fc3581-d990-4bda-a63c-f0dbf00faefd button.colab-df-convert');\n",
       "        buttonEl.style.display =\n",
       "          google.colab.kernel.accessAllowed ? 'block' : 'none';\n",
       "\n",
       "        async function convertToInteractive(key) {\n",
       "          const element = document.querySelector('#df-91fc3581-d990-4bda-a63c-f0dbf00faefd');\n",
       "          const dataTable =\n",
       "            await google.colab.kernel.invokeFunction('convertToInteractive',\n",
       "                                                     [key], {});\n",
       "          if (!dataTable) return;\n",
       "\n",
       "          const docLinkHtml = 'Like what you see? Visit the ' +\n",
       "            '<a target=\"_blank\" href=https://colab.research.google.com/notebooks/data_table.ipynb>data table notebook</a>'\n",
       "            + ' to learn more about interactive tables.';\n",
       "          element.innerHTML = '';\n",
       "          dataTable['output_type'] = 'display_data';\n",
       "          await google.colab.output.renderOutput(dataTable, element);\n",
       "          const docLink = document.createElement('div');\n",
       "          docLink.innerHTML = docLinkHtml;\n",
       "          element.appendChild(docLink);\n",
       "        }\n",
       "      </script>\n",
       "    </div>\n",
       "  </div>\n",
       "  "
      ],
      "text/plain": [
       "      fixed acidity  volatile acidity  citric acid  residual sugar  chlorides  \\\n",
       "490             9.3             0.775         0.27             2.8      0.078   \n",
       "1456            6.0             0.540         0.06             1.8      0.050   \n",
       "513            10.5             0.510         0.64             2.4      0.107   \n",
       "880             9.2             0.560         0.18             1.6      0.078   \n",
       "335            11.9             0.695         0.53             3.4      0.128   \n",
       "\n",
       "      free sulfur dioxide  total sulfur dioxide  density    pH  sulphates  \\\n",
       "490                  24.0                  56.0  0.99840  3.31       0.67   \n",
       "1456                 38.0                  89.0  0.99236  3.30       0.50   \n",
       "513                   6.0                  15.0  0.99730  3.09       0.66   \n",
       "880                  10.0                  21.0  0.99576  3.15       0.49   \n",
       "335                   7.0                  21.0  0.99920  3.17       0.84   \n",
       "\n",
       "      alcohol  \n",
       "490     10.60  \n",
       "1456    10.55  \n",
       "513     11.80  \n",
       "880      9.90  \n",
       "335     12.20  "
      ]
     },
     "execution_count": 122,
     "metadata": {},
     "output_type": "execute_result"
    }
   ],
   "source": [
    "#Test dataset\n",
    "print(\"Test Dataset : \\n\")\n",
    "X_test.head()"
   ]
  },
  {
   "cell_type": "markdown",
   "metadata": {
    "id": "k9lO34KWTnAi"
   },
   "source": [
    "**Scaling**"
   ]
  },
  {
   "cell_type": "code",
   "execution_count": 43,
   "metadata": {
    "id": "t_kM-OZ5Tk3I"
   },
   "outputs": [],
   "source": [
    "#using standard scaler\n",
    "\n",
    "std_scaling = StandardScaler()\n",
    "X_train =std_scaling.fit_transform(X_train)\n",
    "X_test =std_scaling.fit_transform(X_test)\n",
    "X_val =std_scaling.fit_transform(X_val)"
   ]
  },
  {
   "cell_type": "code",
   "execution_count": 44,
   "metadata": {
    "colab": {
     "base_uri": "https://localhost:8080/"
    },
    "id": "uXzrcXFfTsM6",
    "outputId": "c6fe10b8-c1b9-4039-f8e3-a5c16b2b2e2f"
   },
   "outputs": [
    {
     "name": "stdout",
     "output_type": "stream",
     "text": [
      "Test Dataset : \n",
      "\n"
     ]
    },
    {
     "data": {
      "text/plain": [
       "array([[ 1.814702  , -1.95222627,  1.18653284, ..., -0.17992825,\n",
       "         2.19663197, -0.3056153 ],\n",
       "       [-2.03202311,  0.47145089, -0.5213712 , ...,  3.48289683,\n",
       "        -0.40887019,  2.1077041 ],\n",
       "       [ 0.34389534, -0.97121408,  0.63397565, ..., -0.5012287 ,\n",
       "         0.29531959,  1.33199429],\n",
       "       ...,\n",
       "       [ 1.02272918, -1.43286688,  1.33723026, ..., -0.88678923,\n",
       "        -0.90180302,  1.76294419],\n",
       "       [-0.50464696,  0.58686409, -1.12416086, ...,  0.719713  ,\n",
       "        -0.62012712,  0.9010444 ],\n",
       "       [-1.01377235, -0.33644149, -0.67206861, ...,  2.26195514,\n",
       "        -0.0567753 , -0.56418523]])"
      ]
     },
     "execution_count": 44,
     "metadata": {},
     "output_type": "execute_result"
    }
   ],
   "source": [
    "#Test dataset\n",
    "print(\"Test Dataset : \\n\")\n",
    "X_test"
   ]
  },
  {
   "cell_type": "markdown",
   "metadata": {
    "id": "zqU8SjT9g1tU"
   },
   "source": [
    "**Multinomial Logistic Regression**"
   ]
  },
  {
   "cell_type": "code",
   "execution_count": 45,
   "metadata": {
    "id": "1ipvni-bZ_W6"
   },
   "outputs": [],
   "source": [
    "# Train a multinomial logistic regression model\n",
    "\n",
    "\n",
    "def perform_multi_logistic_reg(X,y,str_model,solver,max_iter=100,C=1,penalty=None  ):\n",
    "  \n",
    "  #perform regression using softmax\n",
    "  softmax_reg = make_pipeline(StandardScaler(), LogisticRegression(multi_class='multinomial', solver=solver,C=C, max_iter=max_iter))\n",
    "  softmax_reg.fit(X, y)\n",
    "\n",
    "  # Evaluate the training and validation accuracy\n",
    "  train_acc = softmax_reg.score(X, y)\n",
    "  val_acc = softmax_reg.score(X_val,y_val)\n",
    "  print(f'{str_model} training accuracy: {train_acc:.4f}')\n",
    "  print(f'{str_model} validation accuracy: {val_acc:.4f}')\n",
    "  return train_acc,val_acc"
   ]
  },
  {
   "cell_type": "code",
   "execution_count": 131,
   "metadata": {
    "colab": {
     "base_uri": "https://localhost:8080/"
    },
    "id": "pCQB9tIVTufO",
    "outputId": "916b3ce7-9102-48a5-f08e-1c36754b8cf9"
   },
   "outputs": [
    {
     "name": "stdout",
     "output_type": "stream",
     "text": [
      "Hyper parameter - Solver:  lbfgs\n",
      "Training Dataset training accuracy: 0.7511\n",
      "Training Dataset validation accuracy: 0.7487\n",
      "-------------------------------------------- \n",
      "\n",
      "Hyper parameter - Solver:  newton-cg\n",
      "Training Dataset training accuracy: 0.7511\n",
      "Training Dataset validation accuracy: 0.7487\n",
      "-------------------------------------------- \n",
      "\n",
      "Hyper parameter - Solver:  sag\n",
      "Training Dataset training accuracy: 0.7511\n",
      "Training Dataset validation accuracy: 0.7487\n",
      "-------------------------------------------- \n",
      "\n",
      "Hyper parameter - Solver:  saga\n",
      "Training Dataset training accuracy: 0.7511\n",
      "Training Dataset validation accuracy: 0.7487\n",
      "-------------------------------------------- \n",
      "\n"
     ]
    }
   ],
   "source": [
    "\n",
    "# Using hyper parameter - solver (\"lbfgs\", \"newton-cg\", \"sag\", \"saga\") and max_iteration=100\n",
    "solver_list=[\"lbfgs\", \"newton-cg\", \"sag\", \"saga\"]\n",
    "for e in solver_list:\n",
    "  print(\"Hyper parameter - Solver: \", e)\n",
    "  perform_multi_logistic_reg(X_train, y_train,\"Training Dataset\",solver=e)\n",
    "  print(\"-------------------------------------------- \\n\")"
   ]
  },
  {
   "cell_type": "markdown",
   "metadata": {
    "id": "_F9O6meaytpd"
   },
   "source": [
    "**Observations: From above execution, we observe that for different values of 'solver' hyper parameter, there is no significant change in training and validation dataset accuracy because of the underlying algorithm which works same for binary classifcation 'Wine' dataset. Therefore, we're proceeding to use solver='lbfgs' for further analysis.**"
   ]
  },
  {
   "cell_type": "code",
   "execution_count": 185,
   "metadata": {
    "colab": {
     "base_uri": "https://localhost:8080/"
    },
    "id": "VHaORtOa6aMv",
    "outputId": "66688b28-84dd-4fe7-a2a7-e245193545fa"
   },
   "outputs": [
    {
     "name": "stdout",
     "output_type": "stream",
     "text": [
      "Hyper parameter - C:  1e-05 \n",
      "\n",
      "Training Dataset training accuracy: 0.5397\n",
      "Training Dataset validation accuracy: 0.5187\n",
      "-------------------------------------------- \n",
      "\n",
      "Hyper parameter - C:  0.0001 \n",
      "\n",
      "Training Dataset training accuracy: 0.5461\n",
      "Training Dataset validation accuracy: 0.5241\n",
      "-------------------------------------------- \n",
      "\n",
      "Hyper parameter - C:  0.005 \n",
      "\n",
      "Training Dataset training accuracy: 0.7479\n",
      "Training Dataset validation accuracy: 0.7380\n",
      "-------------------------------------------- \n",
      "\n",
      "Hyper parameter - C:  0.01 \n",
      "\n",
      "Training Dataset training accuracy: 0.7554\n",
      "Training Dataset validation accuracy: 0.7433\n",
      "-------------------------------------------- \n",
      "\n",
      "Hyper parameter - C:  0.05 \n",
      "\n",
      "Training Dataset training accuracy: 0.7521\n",
      "Training Dataset validation accuracy: 0.7540\n",
      "-------------------------------------------- \n",
      "\n",
      "Hyper parameter - C:  0.1 \n",
      "\n",
      "Training Dataset training accuracy: 0.7511\n",
      "Training Dataset validation accuracy: 0.7487\n",
      "-------------------------------------------- \n",
      "\n",
      "Hyper parameter - C:  0.5 \n",
      "\n",
      "Training Dataset training accuracy: 0.7511\n",
      "Training Dataset validation accuracy: 0.7487\n",
      "-------------------------------------------- \n",
      "\n",
      "Hyper parameter - C:  1 \n",
      "\n",
      "Training Dataset training accuracy: 0.7511\n",
      "Training Dataset validation accuracy: 0.7487\n",
      "-------------------------------------------- \n",
      "\n",
      "Hyper parameter - C:  30 \n",
      "\n",
      "Training Dataset training accuracy: 0.7511\n",
      "Training Dataset validation accuracy: 0.7540\n",
      "-------------------------------------------- \n",
      "\n"
     ]
    }
   ],
   "source": [
    "# Using hyper parameter - solver = \"lbfgs\" and max_iter=5000 and different values of 'C'\n",
    "C=[0.00001, 0.0001,0.005,0.01, 0.05,0.1,0.5,1,30]\n",
    "for e in C:\n",
    "  print(\"Hyper parameter - C: \", e, \"\\n\")\n",
    "  perform_multi_logistic_reg(X_train, y_train,\"Training Dataset\",solver='lbfgs',max_iter=5000,C=e)\n",
    "  print(\"-------------------------------------------- \\n\")"
   ]
  },
  {
   "cell_type": "markdown",
   "metadata": {
    "id": "Vh4isUcK3WOL"
   },
   "source": [
    "**Observations: From above executions, we observe that, with hyper paramater solver = 'lbfgs' and different values of 'C', as we increase 'C', the training and validation dataset accuracy increases till 'C'=1, and for 'C' values greater than 1, the training and validation accuracy remains the same.**"
   ]
  },
  {
   "cell_type": "code",
   "execution_count": 186,
   "metadata": {
    "colab": {
     "base_uri": "https://localhost:8080/"
    },
    "id": "rlt77y8R8GVX",
    "outputId": "77ee3f71-d60b-4cc2-a757-1702b56f232b"
   },
   "outputs": [
    {
     "name": "stdout",
     "output_type": "stream",
     "text": [
      "Hyper parameter - penalty:  l1 \n",
      "\n",
      "Training Dataset training accuracy: 0.7521\n",
      "Training Dataset validation accuracy: 0.7540\n",
      "-------------------------------------------- \n",
      "\n",
      "Hyper parameter - penalty:  l2 \n",
      "\n",
      "Training Dataset training accuracy: 0.7521\n",
      "Training Dataset validation accuracy: 0.7540\n",
      "-------------------------------------------- \n",
      "\n",
      "Hyper parameter - penalty:  elastic-net \n",
      "\n",
      "Training Dataset training accuracy: 0.7521\n",
      "Training Dataset validation accuracy: 0.7540\n",
      "-------------------------------------------- \n",
      "\n"
     ]
    }
   ],
   "source": [
    "# Using hyper parameter - solver = \"lbfgs\" and max_iter=5000 and different values of 'C'\n",
    "penalty=[\"l1\",\"l2\",\"elastic-net\"]\n",
    "for e in penalty:\n",
    "  print(\"Hyper parameter - penalty: \", e, \"\\n\")\n",
    "  perform_multi_logistic_reg(X_train, y_train,\"Training Dataset\",solver='lbfgs',max_iter=5000,C=0.05,penalty=e)\n",
    "  print(\"-------------------------------------------- \\n\")"
   ]
  },
  {
   "cell_type": "markdown",
   "metadata": {
    "id": "eV5-0QXZCZ4p"
   },
   "source": [
    "**Observation: From above, we see that, for different values of penalty, the training and validation accuracy remains the same.**"
   ]
  },
  {
   "cell_type": "markdown",
   "metadata": {
    "id": "0WX33u6QKrE_"
   },
   "source": [
    "**Analysis**\n",
    "\n",
    "On trying softmax with different hyperparamters like type of penalty, strength of regularization, type of optimizer and maximum number of iterations, we can see that increasing the number. of iterations leads closer to converge.\n",
    "\n",
    "For different solvers and penalty values, the training and testing values remains the same.\n",
    "\n",
    "As, we increase the Hyper parameter 'C' values, we see improvement in performance. \n",
    "\n",
    "And for Hyper parameter : Solver='lbfgs', and C =0.05, we get validation accuracy of '0.7540'."
   ]
  },
  {
   "cell_type": "markdown",
   "metadata": {
    "id": "faC4VbXcmul1"
   },
   "source": [
    "**Support vector machines**"
   ]
  },
  {
   "cell_type": "code",
   "execution_count": 46,
   "metadata": {
    "id": "Gy3aRUcKWbgN"
   },
   "outputs": [],
   "source": [
    "C_list =  [0.0001,0.001, 1,10  ]\n",
    "Gamma_list = [0.01,0.5,10]\n",
    "\n",
    "def try_kernels(kernel_name,c=None,g=None,cm=True):\n",
    "  print(\"Fitting model with {} kernal\".format(kernel_name),\": \\n\")\n",
    "\n",
    "  if c is not None:\n",
    "    model = make_pipeline(StandardScaler(),SVC(kernel=kernel_name,C=c,gamma=g))\n",
    "  else:\n",
    "    model = make_pipeline(StandardScaler(),SVC(kernel=kernel_name))\n",
    "  \n",
    "  model.fit(X_train, y_train)\n",
    "  y_pred = model.predict(X_test)\n",
    "  train_acc = model.score(X_train,y_train)\n",
    "  val_acc =  model.score(X_val,y_val)\n",
    "  print(\"Training accuracy:\",train_acc)\n",
    "  print(\"Validation accuracy:\",val_acc, \"\\n\")\n",
    "  \n",
    "  if cm:\n",
    "    cm=metrics.confusion_matrix(y_true=y_test, y_pred=y_pred)\n",
    "    matplot.subplots(figsize=(10, 6))\n",
    "    sns.heatmap(cm, annot = True, fmt = 'g')\n",
    "    matplot.xlabel(\"Predicted\")\n",
    "    matplot.ylabel(\"Actual\")\n",
    "    matplot.title(\"Confusion Matrix\")\n",
    "    matplot.show()\n",
    "\n",
    "  print(\"-------------------------------------------------------------------------------- \\n\")\n",
    "  return train_acc,val_acc"
   ]
  },
  {
   "cell_type": "code",
   "execution_count": 201,
   "metadata": {
    "colab": {
     "base_uri": "https://localhost:8080/",
     "height": 1000
    },
    "id": "t5r087aUzUZD",
    "outputId": "19014041-72e4-417d-df57-2466cdbdf1ba"
   },
   "outputs": [
    {
     "name": "stdout",
     "output_type": "stream",
     "text": [
      "Fitting model with linear kernal : \n",
      "\n",
      "Training accuracy: 0.7510729613733905\n",
      "Validation accuracy: 0.7593582887700535 \n",
      "\n"
     ]
    },
    {
     "data": {
      "image/png": "[encoded data removed]",
      "text/plain": [
       "<Figure size 720x432 with 2 Axes>"
      ]
     },
     "metadata": {
      "needs_background": "light"
     },
     "output_type": "display_data"
    },
    {
     "name": "stdout",
     "output_type": "stream",
     "text": [
      "-------------------------------------------------------------------------------- \n",
      "\n",
      "Fitting model with poly kernal : \n",
      "\n",
      "Training accuracy: 0.8100858369098712\n",
      "Validation accuracy: 0.7165775401069518 \n",
      "\n"
     ]
    },
    {
     "data": {
      "image/png": "[encoded data removed]",
      "text/plain": [
       "<Figure size 720x432 with 2 Axes>"
      ]
     },
     "metadata": {
      "needs_background": "light"
     },
     "output_type": "display_data"
    },
    {
     "name": "stdout",
     "output_type": "stream",
     "text": [
      "-------------------------------------------------------------------------------- \n",
      "\n",
      "Fitting model with sigmoid kernal : \n",
      "\n",
      "Training accuracy: 0.6437768240343348\n",
      "Validation accuracy: 0.6256684491978609 \n",
      "\n"
     ]
    },
    {
     "data": {
      "image/png": "[encoded data removed]",
      "text/plain": [
       "<Figure size 720x432 with 2 Axes>"
      ]
     },
     "metadata": {
      "needs_background": "light"
     },
     "output_type": "display_data"
    },
    {
     "name": "stdout",
     "output_type": "stream",
     "text": [
      "-------------------------------------------------------------------------------- \n",
      "\n",
      "Fitting model with rbf kernal : \n",
      "\n",
      "Training accuracy: 0.8068669527896996\n",
      "Validation accuracy: 0.732620320855615 \n",
      "\n"
     ]
    },
    {
     "data": {
      "image/png": "[encoded data removed]",
      "text/plain": [
       "<Figure size 720x432 with 2 Axes>"
      ]
     },
     "metadata": {
      "needs_background": "light"
     },
     "output_type": "display_data"
    },
    {
     "name": "stdout",
     "output_type": "stream",
     "text": [
      "-------------------------------------------------------------------------------- \n",
      "\n"
     ]
    }
   ],
   "source": [
    "kernel_list=[\"linear\",\"poly\", \"sigmoid\",\"rbf\"]\n",
    "for i in kernel_list:\n",
    "  try_kernels(i)"
   ]
  },
  {
   "cell_type": "markdown",
   "metadata": {
    "id": "AXS1Tb36DsVD"
   },
   "source": [
    "**Observations: From above, we observe that, kernel='linear' and 'sigmoid', are not overfitting whereas other kernels are overfitting. But kernel='linear' gives better accuracy than kernel='sigmoid' on the validation dataset.**"
   ]
  },
  {
   "cell_type": "code",
   "execution_count": 203,
   "metadata": {
    "colab": {
     "base_uri": "https://localhost:8080/"
    },
    "id": "19Sk9a27l3T4",
    "outputId": "ad5303b2-6b1b-4616-99d8-1520a9fec9cf"
   },
   "outputs": [
    {
     "name": "stdout",
     "output_type": "stream",
     "text": [
      "Hyperparamters c =  0.0001 and g = 0.01\n",
      "Fitting model with linear kernal : \n",
      "\n",
      "Training accuracy: 0.5396995708154506\n",
      "Validation accuracy: 0.5187165775401069 \n",
      "\n",
      "-------------------------------------------------------------------------------- \n",
      "\n",
      "\n",
      "Hyperparamters c =  0.0001 and g = 0.5\n",
      "Fitting model with linear kernal : \n",
      "\n",
      "Training accuracy: 0.5396995708154506\n",
      "Validation accuracy: 0.5187165775401069 \n",
      "\n",
      "-------------------------------------------------------------------------------- \n",
      "\n",
      "\n",
      "Hyperparamters c =  0.0001 and g = 10\n",
      "Fitting model with linear kernal : \n",
      "\n",
      "Training accuracy: 0.5396995708154506\n",
      "Validation accuracy: 0.5187165775401069 \n",
      "\n",
      "-------------------------------------------------------------------------------- \n",
      "\n",
      "\n",
      "Hyperparamters c =  0.001 and g = 0.01\n",
      "Fitting model with linear kernal : \n",
      "\n",
      "Training accuracy: 0.7510729613733905\n",
      "Validation accuracy: 0.7005347593582888 \n",
      "\n",
      "-------------------------------------------------------------------------------- \n",
      "\n",
      "\n",
      "Hyperparamters c =  0.001 and g = 0.5\n",
      "Fitting model with linear kernal : \n",
      "\n",
      "Training accuracy: 0.7510729613733905\n",
      "Validation accuracy: 0.7005347593582888 \n",
      "\n",
      "-------------------------------------------------------------------------------- \n",
      "\n",
      "\n",
      "Hyperparamters c =  0.001 and g = 10\n",
      "Fitting model with linear kernal : \n",
      "\n",
      "Training accuracy: 0.7510729613733905\n",
      "Validation accuracy: 0.7005347593582888 \n",
      "\n",
      "-------------------------------------------------------------------------------- \n",
      "\n",
      "\n",
      "Hyperparamters c =  1 and g = 0.01\n",
      "Fitting model with linear kernal : \n",
      "\n",
      "Training accuracy: 0.7510729613733905\n",
      "Validation accuracy: 0.7593582887700535 \n",
      "\n",
      "-------------------------------------------------------------------------------- \n",
      "\n",
      "\n",
      "Hyperparamters c =  1 and g = 0.5\n",
      "Fitting model with linear kernal : \n",
      "\n",
      "Training accuracy: 0.7510729613733905\n",
      "Validation accuracy: 0.7593582887700535 \n",
      "\n",
      "-------------------------------------------------------------------------------- \n",
      "\n",
      "\n",
      "Hyperparamters c =  1 and g = 10\n",
      "Fitting model with linear kernal : \n",
      "\n",
      "Training accuracy: 0.7510729613733905\n",
      "Validation accuracy: 0.7593582887700535 \n",
      "\n",
      "-------------------------------------------------------------------------------- \n",
      "\n",
      "\n",
      "Hyperparamters c =  10 and g = 0.01\n",
      "Fitting model with linear kernal : \n",
      "\n",
      "Training accuracy: 0.7521459227467812\n",
      "Validation accuracy: 0.7593582887700535 \n",
      "\n",
      "-------------------------------------------------------------------------------- \n",
      "\n",
      "\n",
      "Hyperparamters c =  10 and g = 0.5\n",
      "Fitting model with linear kernal : \n",
      "\n",
      "Training accuracy: 0.7521459227467812\n",
      "Validation accuracy: 0.7593582887700535 \n",
      "\n",
      "-------------------------------------------------------------------------------- \n",
      "\n",
      "\n",
      "Hyperparamters c =  10 and g = 10\n",
      "Fitting model with linear kernal : \n",
      "\n",
      "Training accuracy: 0.7521459227467812\n",
      "Validation accuracy: 0.7593582887700535 \n",
      "\n",
      "-------------------------------------------------------------------------------- \n",
      "\n",
      "\n"
     ]
    }
   ],
   "source": [
    "#Hyper parameters: Different 'C' and 'gamma' values\n",
    "for c in C_list:\n",
    "  for g in Gamma_list:\n",
    "    print(\"Hyperparamters c = \",c, \"and g =\", g)\n",
    "    try_kernels(c=c,g=g,cm=False,kernel_name=\"linear\")\n",
    "    print()"
   ]
  },
  {
   "cell_type": "markdown",
   "metadata": {
    "id": "P9Q1zYfJEvf6"
   },
   "source": [
    "**Observations: From above execution results, we observe that, for constant value of 'C' and different values of 'g', there is no change in validation accuracy. But as the 'C' value increases, the training and validation accuracy also increases. We also observe that, after 'C'=1, as we increase 'C', the validation accuracy remains constant throughout. This might be because the equation of the decision boundary in these cases is approximatley same which is leading to same classification results.**"
   ]
  },
  {
   "cell_type": "markdown",
   "metadata": {
    "id": "4NHJ71pTnP5q"
   },
   "source": [
    "**Analysis of different kernels and hyper parameters**\n",
    "\n",
    "From trying different values of kernel types, we see that there was a variation in the performance of the classifiers.\n",
    "\n",
    "Kernel='linear' and 'sigmoid', are not overfitting whereas other kernels are overfitting. But kernel='linear' gives better accuracy than kernel='sigmoid' on the validation dataset.\n",
    "\n",
    "For kernel='linear' and for constant value of 'C' and different values of 'g', there is no change in validation accuracy. But as the 'C' value increases, the training and validation accuracy also increases. We also observe that, after 'C'=1, as we increase 'C', the validation accuracy remains constant throughout. This might be because the equation of the decision boundary in these cases is approximatley same which is leading to same classification results.\n",
    "\n",
    "Therefore, model with hyperparamter kernel=linear, c=10 and g=0.01 gives better performance with validation accuracy= 0.7593. "
   ]
  },
  {
   "cell_type": "markdown",
   "metadata": {
    "id": "SdM9odj5hS-7"
   },
   "source": [
    "**Random Forest Class**"
   ]
  },
  {
   "cell_type": "code",
   "execution_count": 3,
   "metadata": {
    "id": "ewLb31z4h2YV"
   },
   "outputs": [],
   "source": [
    "\n",
    "# Define a function to perform Random Forest classification and print accuracy scores\n",
    "def perform_random_forest(X_train, y_train, X_val, y_val, X_test, y_test,min_samples_leaf=1,max_leaf_nodes=None,n_estimators=100, max_depth=None,feature_analysis=False,cm=True):\n",
    "    rf_clf = RandomForestClassifier(n_estimators=n_estimators, max_depth=max_depth,min_samples_leaf=min_samples_leaf,max_leaf_nodes=max_leaf_nodes)\n",
    "    rf_clf.fit(X_train, y_train)\n",
    "    \n",
    "    # Evaluate the training and validation accuracy\n",
    "    train_acc = rf_clf.score(X_train, y_train)\n",
    "    val_acc = rf_clf.score(X_val, y_val)\n",
    "    # test_acc = rf_clf.score(X_test, y_test)\n",
    "    \n",
    "    print(f'Training accuracy: {train_acc:.4f}')\n",
    "    print(f'Validation accuracy: {val_acc:.4f}')\n",
    "    # print(f'Testing accuracy: {test_acc:.4f}')\n",
    "    \n",
    "    # Analyze feature importance\n",
    "    if feature_analysis:\n",
    "        feature_importance = rf_clf.feature_importances_\n",
    "        sorted_idx = feature_importance.argsort()[::-1]\n",
    "        print(\"Feature Importance Ranking:\")\n",
    "        for idx in sorted_idx:\n",
    "            print(f'Feature {idx+1}: {feature_importance[idx]:.4f}')\n",
    "            \n",
    "            \n",
    "    # Generate confusion matrix\n",
    "    if cm:\n",
    "      y_pred = rf_clf.predict(X_test)\n",
    "      cm = confusion_matrix(y_test, y_pred)\n",
    "      print(\"Confusion Matrix:\")\n",
    "      \n",
    "      matplot.subplots(figsize=(10, 6))\n",
    "      sns.heatmap(cm, annot = True, fmt = 'g')\n",
    "      matplot.xlabel(\"Predicted\")\n",
    "      matplot.ylabel(\"Actual\")\n",
    "      matplot.title(\"Confusion Matrix\")\n",
    "      matplot.show()  \n",
    "    return train_acc, val_acc     \n",
    "        "
   ]
  },
  {
   "cell_type": "code",
   "execution_count": 224,
   "metadata": {
    "colab": {
     "base_uri": "https://localhost:8080/",
     "height": 473
    },
    "id": "EtDJuEzDiqO7",
    "outputId": "ced35d73-3011-4e18-f11e-486485554e47"
   },
   "outputs": [
    {
     "name": "stdout",
     "output_type": "stream",
     "text": [
      "Training accuracy: 1.0000\n",
      "Validation accuracy: 0.7273\n",
      "Confusion Matrix:\n"
     ]
    },
    {
     "data": {
      "image/png": "[encoded data removed]",
      "text/plain": [
       "<Figure size 720x432 with 2 Axes>"
      ]
     },
     "metadata": {
      "needs_background": "light"
     },
     "output_type": "display_data"
    },
    {
     "data": {
      "text/plain": [
       "(1.0, 0.7272727272727273)"
      ]
     },
     "execution_count": 224,
     "metadata": {},
     "output_type": "execute_result"
    }
   ],
   "source": [
    "# Use Random Forest with default hyperparameters\n",
    "perform_random_forest(X_train, y_train, X_val, y_val, X_test, y_test)"
   ]
  },
  {
   "cell_type": "code",
   "execution_count": 225,
   "metadata": {
    "colab": {
     "base_uri": "https://localhost:8080/",
     "height": 473
    },
    "id": "2PcjSt_3ivq8",
    "outputId": "8bcca1ae-5eeb-4219-cd23-314473e1e043"
   },
   "outputs": [
    {
     "name": "stdout",
     "output_type": "stream",
     "text": [
      "Training accuracy: 0.8401\n",
      "Validation accuracy: 0.7540\n",
      "Confusion Matrix:\n"
     ]
    },
    {
     "data": {
      "image/png": "[encoded data removed]",
      "text/plain": [
       "<Figure size 720x432 with 2 Axes>"
      ]
     },
     "metadata": {
      "needs_background": "light"
     },
     "output_type": "display_data"
    },
    {
     "data": {
      "text/plain": [
       "(0.8401287553648069, 0.7540106951871658)"
      ]
     },
     "execution_count": 225,
     "metadata": {},
     "output_type": "execute_result"
    }
   ],
   "source": [
    "# Use Random Forest with different values of hyperparameters\n",
    "perform_random_forest(X_train, y_train, X_val, y_val, X_test, y_test, n_estimators=500, max_depth=5)"
   ]
  },
  {
   "cell_type": "code",
   "execution_count": 226,
   "metadata": {
    "colab": {
     "base_uri": "https://localhost:8080/",
     "height": 682
    },
    "id": "7gcIlTHXivFB",
    "outputId": "4532436f-67c9-435b-ba1f-53f331a84f97"
   },
   "outputs": [
    {
     "name": "stdout",
     "output_type": "stream",
     "text": [
      "Training accuracy: 0.9925\n",
      "Validation accuracy: 0.7487\n",
      "Feature Importance Ranking:\n",
      "Feature 11: 0.1972\n",
      "Feature 2: 0.1320\n",
      "Feature 10: 0.1256\n",
      "Feature 7: 0.0915\n",
      "Feature 8: 0.0901\n",
      "Feature 5: 0.0738\n",
      "Feature 1: 0.0657\n",
      "Feature 9: 0.0644\n",
      "Feature 3: 0.0564\n",
      "Feature 4: 0.0518\n",
      "Feature 6: 0.0514\n",
      "Confusion Matrix:\n"
     ]
    },
    {
     "data": {
      "image/png": "[encoded data removed]",
      "text/plain": [
       "<Figure size 720x432 with 2 Axes>"
      ]
     },
     "metadata": {
      "needs_background": "light"
     },
     "output_type": "display_data"
    },
    {
     "data": {
      "text/plain": [
       "(0.9924892703862661, 0.7486631016042781)"
      ]
     },
     "execution_count": 226,
     "metadata": {},
     "output_type": "execute_result"
    }
   ],
   "source": [
    "perform_random_forest(X_train, y_train, X_val, y_val, X_test, y_test, n_estimators=100, max_depth=10,feature_analysis=True)"
   ]
  },
  {
   "cell_type": "code",
   "execution_count": 238,
   "metadata": {
    "colab": {
     "base_uri": "https://localhost:8080/",
     "height": 473
    },
    "id": "zeXBC6lmDWoY",
    "outputId": "9eef348c-a312-4ff8-c39e-0d3e529d1e03"
   },
   "outputs": [
    {
     "name": "stdout",
     "output_type": "stream",
     "text": [
      "Training accuracy: 0.7511\n",
      "Validation accuracy: 0.7326\n",
      "Confusion Matrix:\n"
     ]
    },
    {
     "data": {
      "image/png": "[encoded data removed]",
      "text/plain": [
       "<Figure size 720x432 with 2 Axes>"
      ]
     },
     "metadata": {
      "needs_background": "light"
     },
     "output_type": "display_data"
    },
    {
     "data": {
      "text/plain": [
       "(0.7510729613733905, 0.732620320855615)"
      ]
     },
     "execution_count": 238,
     "metadata": {},
     "output_type": "execute_result"
    }
   ],
   "source": [
    "# Use Random Forest with different values of hyperparameters\n",
    "perform_random_forest(X_train, y_train, X_val, y_val, X_test, y_test, n_estimators=50, max_depth=2)"
   ]
  },
  {
   "cell_type": "code",
   "execution_count": 257,
   "metadata": {
    "colab": {
     "base_uri": "https://localhost:8080/",
     "height": 473
    },
    "id": "xTOAuCzUD-rS",
    "outputId": "89924a5c-a938-4516-8194-7f3d34e07e7a"
   },
   "outputs": [
    {
     "name": "stdout",
     "output_type": "stream",
     "text": [
      "Training accuracy: 0.7618\n",
      "Validation accuracy: 0.7487\n",
      "Confusion Matrix:\n"
     ]
    },
    {
     "data": {
      "image/png": "[encoded data removed]",
      "text/plain": [
       "<Figure size 720x432 with 2 Axes>"
      ]
     },
     "metadata": {
      "needs_background": "light"
     },
     "output_type": "display_data"
    },
    {
     "data": {
      "text/plain": [
       "(0.7618025751072961, 0.7486631016042781)"
      ]
     },
     "execution_count": 257,
     "metadata": {},
     "output_type": "execute_result"
    }
   ],
   "source": [
    "# Use Random Forest with different values of hyperparameters\n",
    "perform_random_forest(X_train, y_train, X_val, y_val, X_test, y_test, n_estimators=40, max_depth=2)"
   ]
  },
  {
   "cell_type": "code",
   "execution_count": 26,
   "metadata": {
    "colab": {
     "base_uri": "https://localhost:8080/"
    },
    "id": "oOWntpnvEiDQ",
    "outputId": "90b2ea9d-6bb0-4b90-97d8-452b709a6ca0"
   },
   "outputs": [
    {
     "name": "stdout",
     "output_type": "stream",
     "text": [
      "Training accuracy: 0.7414\n",
      "Validation accuracy: 0.7487\n",
      "Feature Importance Ranking:\n",
      "Feature 11: 0.4134\n",
      "Feature 2: 0.1873\n",
      "Feature 10: 0.1186\n",
      "Feature 7: 0.1004\n",
      "Feature 8: 0.0833\n",
      "Feature 1: 0.0335\n",
      "Feature 3: 0.0311\n",
      "Feature 5: 0.0223\n",
      "Feature 9: 0.0077\n",
      "Feature 4: 0.0018\n",
      "Feature 6: 0.0005\n"
     ]
    },
    {
     "data": {
      "text/plain": [
       "(0.7414163090128756, 0.7486631016042781)"
      ]
     },
     "execution_count": 26,
     "metadata": {},
     "output_type": "execute_result"
    }
   ],
   "source": [
    "# Use Random Forest with different values of hyperparameters\n",
    "perform_random_forest(X_train, y_train, X_val, y_val, X_test, y_test, n_estimators=40, max_depth=2,feature_analysis=True,max_leaf_nodes=50,min_samples_leaf=5,cm=False)"
   ]
  },
  {
   "cell_type": "code",
   "execution_count": 25,
   "metadata": {
    "colab": {
     "base_uri": "https://localhost:8080/",
     "height": 473
    },
    "id": "XlHm9TJjK1RU",
    "outputId": "bad6148f-6a4e-4bd7-9cac-e7884f282f56"
   },
   "outputs": [
    {
     "name": "stdout",
     "output_type": "stream",
     "text": [
      "Training accuracy: 0.8026\n",
      "Validation accuracy: 0.7647\n",
      "Confusion Matrix:\n"
     ]
    },
    {
     "data": {
      "image/png": "[encoded data removed]",
      "text/plain": [
       "<Figure size 720x432 with 2 Axes>"
      ]
     },
     "metadata": {
      "needs_background": "light"
     },
     "output_type": "display_data"
    },
    {
     "data": {
      "text/plain": [
       "(0.8025751072961373, 0.7647058823529411)"
      ]
     },
     "execution_count": 25,
     "metadata": {},
     "output_type": "execute_result"
    }
   ],
   "source": [
    "# Use Random Forest with different values of hyperparameters\n",
    "perform_random_forest(X_train, y_train, X_val, y_val, X_test, y_test, n_estimators=60, max_depth=4)"
   ]
  },
  {
   "cell_type": "code",
   "execution_count": 37,
   "metadata": {
    "colab": {
     "base_uri": "https://localhost:8080/"
    },
    "id": "Vj8NS8tlMH0s",
    "outputId": "ad0c80ca-68c4-44b8-c596-61845c303aa2"
   },
   "outputs": [
    {
     "name": "stdout",
     "output_type": "stream",
     "text": [
      "Training accuracy: 0.7833\n",
      "Validation accuracy: 0.7433\n"
     ]
    },
    {
     "data": {
      "text/plain": [
       "(0.7832618025751072, 0.7433155080213903)"
      ]
     },
     "execution_count": 37,
     "metadata": {},
     "output_type": "execute_result"
    }
   ],
   "source": [
    "perform_random_forest(X_train, y_train, X_val, y_val, X_test, y_test, n_estimators=60, max_depth=4,feature_analysis=False,max_leaf_nodes=10,min_samples_leaf=5,cm=False)"
   ]
  },
  {
   "cell_type": "code",
   "execution_count": 38,
   "metadata": {
    "colab": {
     "base_uri": "https://localhost:8080/"
    },
    "id": "byIj49mFMKK6",
    "outputId": "5d0546cd-5e86-4e5c-f5f6-1c6f9c0f1b1e"
   },
   "outputs": [
    {
     "name": "stdout",
     "output_type": "stream",
     "text": [
      "Training accuracy: 0.7790\n",
      "Validation accuracy: 0.7594\n"
     ]
    },
    {
     "data": {
      "text/plain": [
       "(0.778969957081545, 0.7593582887700535)"
      ]
     },
     "execution_count": 38,
     "metadata": {},
     "output_type": "execute_result"
    }
   ],
   "source": [
    "perform_random_forest(X_train, y_train, X_val, y_val, X_test, y_test, n_estimators=60, max_depth=4,feature_analysis=False,max_leaf_nodes=10,min_samples_leaf=10,cm=False)"
   ]
  },
  {
   "cell_type": "code",
   "execution_count": 39,
   "metadata": {
    "colab": {
     "base_uri": "https://localhost:8080/"
    },
    "id": "QNIjwPt3MPJc",
    "outputId": "a101cfb6-fcd9-4164-ff00-fbad7a20699c"
   },
   "outputs": [
    {
     "name": "stdout",
     "output_type": "stream",
     "text": [
      "Training accuracy: 0.7607\n",
      "Validation accuracy: 0.7487\n"
     ]
    },
    {
     "data": {
      "text/plain": [
       "(0.7607296137339056, 0.7486631016042781)"
      ]
     },
     "execution_count": 39,
     "metadata": {},
     "output_type": "execute_result"
    }
   ],
   "source": [
    "perform_random_forest(X_train, y_train, X_val, y_val, X_test, y_test, n_estimators=60, max_depth=4,feature_analysis=False,max_leaf_nodes=10,min_samples_leaf=30,cm=False)"
   ]
  },
  {
   "cell_type": "code",
   "execution_count": 40,
   "metadata": {
    "colab": {
     "base_uri": "https://localhost:8080/"
    },
    "id": "qE4PgxllMWHO",
    "outputId": "7208a8dd-3e33-4557-d960-1d8c7b9b5399"
   },
   "outputs": [
    {
     "name": "stdout",
     "output_type": "stream",
     "text": [
      "Training accuracy: 0.7725\n",
      "Validation accuracy: 0.7647\n"
     ]
    },
    {
     "data": {
      "text/plain": [
       "(0.7725321888412017, 0.7647058823529411)"
      ]
     },
     "execution_count": 40,
     "metadata": {},
     "output_type": "execute_result"
    }
   ],
   "source": [
    "perform_random_forest(X_train, y_train, X_val, y_val, X_test, y_test, n_estimators=60, max_depth=4,feature_analysis=False,max_leaf_nodes=10,min_samples_leaf=40,cm=False)"
   ]
  },
  {
   "cell_type": "code",
   "execution_count": 346,
   "metadata": {
    "colab": {
     "base_uri": "https://localhost:8080/"
    },
    "id": "sZwDkUY-53Sc",
    "outputId": "6ed0c2e1-8ae7-49dd-8cec-94335de54304"
   },
   "outputs": [
    {
     "name": "stdout",
     "output_type": "stream",
     "text": [
      "Training accuracy: 0.8283\n",
      "Validation accuracy: 0.7433\n"
     ]
    },
    {
     "data": {
      "text/plain": [
       "(0.8283261802575107, 0.7433155080213903)"
      ]
     },
     "execution_count": 346,
     "metadata": {},
     "output_type": "execute_result"
    }
   ],
   "source": [
    "perform_random_forest(X_train, y_train, X_val, y_val, X_test, y_test, n_estimators=100, max_depth=5,feature_analysis=False,max_leaf_nodes=50,min_samples_leaf=4,cm=False)"
   ]
  },
  {
   "cell_type": "code",
   "execution_count": 285,
   "metadata": {
    "colab": {
     "base_uri": "https://localhost:8080/"
    },
    "id": "6l6Vn0aB9FmJ",
    "outputId": "f1569361-fc1c-4e58-ba9c-99c5486c909e"
   },
   "outputs": [
    {
     "name": "stdout",
     "output_type": "stream",
     "text": [
      "Training accuracy: 0.7500\n",
      "Validation accuracy: 0.7005\n"
     ]
    },
    {
     "data": {
      "text/plain": [
       "(0.75, 0.7005347593582888)"
      ]
     },
     "execution_count": 285,
     "metadata": {},
     "output_type": "execute_result"
    }
   ],
   "source": [
    "perform_random_forest(X_train, y_train, X_val, y_val, X_test, y_test, n_estimators=10, max_depth=10,feature_analysis=False,max_leaf_nodes=10,min_samples_leaf=100,cm=False)"
   ]
  },
  {
   "cell_type": "code",
   "execution_count": 31,
   "metadata": {
    "colab": {
     "base_uri": "https://localhost:8080/"
    },
    "id": "XrQLZzEfGFSG",
    "outputId": "389db6ba-1479-4e53-8085-e8dfc96dcc06"
   },
   "outputs": [
    {
     "name": "stdout",
     "output_type": "stream",
     "text": [
      "Training accuracy: 0.7242\n",
      "Validation accuracy: 0.7380\n"
     ]
    },
    {
     "data": {
      "text/plain": [
       "(0.7242489270386266, 0.7379679144385026)"
      ]
     },
     "execution_count": 31,
     "metadata": {},
     "output_type": "execute_result"
    }
   ],
   "source": [
    "perform_random_forest(X_train, y_train, X_val, y_val, X_test, y_test, n_estimators=10, max_depth=5,feature_analysis=False,max_leaf_nodes=10,min_samples_leaf=100,cm=False)"
   ]
  },
  {
   "cell_type": "code",
   "execution_count": 307,
   "metadata": {
    "colab": {
     "base_uri": "https://localhost:8080/"
    },
    "id": "g82wewo1F32P",
    "outputId": "2f4c746e-726a-4811-d879-764caf899342"
   },
   "outputs": [
    {
     "name": "stdout",
     "output_type": "stream",
     "text": [
      "Training accuracy: 0.7639\n",
      "Validation accuracy: 0.7059\n"
     ]
    },
    {
     "data": {
      "text/plain": [
       "(0.7639484978540773, 0.7058823529411765)"
      ]
     },
     "execution_count": 307,
     "metadata": {},
     "output_type": "execute_result"
    }
   ],
   "source": [
    "perform_random_forest(X_train, y_train, X_val, y_val, X_test, y_test, n_estimators=10, max_depth=10,feature_analysis=False,max_leaf_nodes=10,min_samples_leaf=100,cm=False)"
   ]
  },
  {
   "cell_type": "code",
   "execution_count": 308,
   "metadata": {
    "colab": {
     "base_uri": "https://localhost:8080/"
    },
    "id": "9W2T-N1mdVL1",
    "outputId": "663612fc-dcd9-40fe-8a64-3be9a42b7efa"
   },
   "outputs": [
    {
     "name": "stdout",
     "output_type": "stream",
     "text": [
      "Training accuracy: 0.9195\n",
      "Validation accuracy: 0.7219\n"
     ]
    },
    {
     "data": {
      "text/plain": [
       "(0.9195278969957081, 0.7219251336898396)"
      ]
     },
     "execution_count": 308,
     "metadata": {},
     "output_type": "execute_result"
    }
   ],
   "source": [
    "perform_random_forest(X_train, y_train, X_val, y_val, X_test, y_test, n_estimators=100, max_depth=100,feature_analysis=False,max_leaf_nodes=500,min_samples_leaf=5,cm=False)"
   ]
  },
  {
   "cell_type": "markdown",
   "metadata": {
    "id": "KYatq3UPpeXx"
   },
   "source": [
    "**Analysis of the impact of hyperparameters**\n",
    "\n",
    "After altering different parameters, we observe that the number of estimators such as 60 is optimal as lesser lead to underfit and greater lead to overfit.\n",
    "\n",
    "Increasing and decreasing the n_estimators, underfits and overfits the model, and gives better performance for n_estimator=60 with depth=4 .\n",
    "Also, varying the max_depth except max_depth=4 leads to overfitting and misclassification.\n",
    "\n",
    "Overall these parameters have strong influence on performance and must be optimal for best results.\n",
    "Thus for hper parameter n_estimators=60 and max_depth=4, the model gives the best performance.\n",
    "\n",
    "There are various other parameters like max features, max splits etc that help perform some regularization and find the model that best fits."
   ]
  },
  {
   "cell_type": "markdown",
   "metadata": {
    "id": "ZX-KGd5XDVHb"
   },
   "source": [
    "**Final Models for ensemble**"
   ]
  },
  {
   "cell_type": "code",
   "execution_count": 49,
   "metadata": {
    "colab": {
     "base_uri": "https://localhost:8080/"
    },
    "id": "RIWZziJ_D8rD",
    "outputId": "4a468965-88eb-4a01-a99d-641d46949bf4"
   },
   "outputs": [
    {
     "name": "stdout",
     "output_type": "stream",
     "text": [
      "Training Dataset training accuracy: 0.7393\n",
      "Training Dataset validation accuracy: 0.7540\n"
     ]
    }
   ],
   "source": [
    "#Logistic Regression\n",
    "scores = []\n",
    "# Using hyper parameter - solver = \"lbfgs\" and max_iter=5000 and different values of 'C'\n",
    "\n",
    "lr_clf = LogisticRegression(multi_class='multinomial', solver='lbfgs',C=0.05)\n",
    "train_acc,val_acc = perform_multi_logistic_reg(X_train, y_train,\"Training Dataset\",solver='lbfgs',C=0.05)\n",
    "scores.append(['Logistic Regression','Lbfgs solver',train_acc,val_acc])"
   ]
  },
  {
   "cell_type": "code",
   "execution_count": 50,
   "metadata": {
    "colab": {
     "base_uri": "https://localhost:8080/"
    },
    "id": "MD78hdQzE0da",
    "outputId": "780a0035-9b1e-4ec7-8ce3-85e979c9ccb3"
   },
   "outputs": [
    {
     "name": "stdout",
     "output_type": "stream",
     "text": [
      "Fitting model with linear kernal : \n",
      "\n",
      "Training accuracy: 0.7339055793991416\n",
      "Validation accuracy: 0.7165775401069518 \n",
      "\n",
      "-------------------------------------------------------------------------------- \n",
      "\n"
     ]
    }
   ],
   "source": [
    "#SVM\n",
    "svm_clf = SVC(kernel='linear',probability = True)\n",
    "train_acc,val_acc = try_kernels('linear',cm=False,c=10,g=0.1,)\n",
    "scores.append(['SVM','rbf kernel',train_acc,val_acc])"
   ]
  },
  {
   "cell_type": "code",
   "execution_count": 51,
   "metadata": {
    "colab": {
     "base_uri": "https://localhost:8080/"
    },
    "id": "Cv6AXUcLIb8D",
    "outputId": "998f19fa-9eab-4896-9080-ffa21cc3c6e4"
   },
   "outputs": [
    {
     "name": "stdout",
     "output_type": "stream",
     "text": [
      "Training accuracy: 0.7951\n",
      "Validation accuracy: 0.7487\n"
     ]
    }
   ],
   "source": [
    "#Random Forest Estimator\n",
    "rf_clf = RandomForestClassifier(n_estimators=60, max_depth=4)\n",
    "train_acc,val_acc = perform_random_forest(X_train, y_train, X_val, y_val, X_test, y_test, n_estimators=60, max_depth=4,feature_analysis=False,cm=False)\n",
    "scores.append(['Random Forest','default params',train_acc,val_acc])"
   ]
  },
  {
   "cell_type": "markdown",
   "metadata": {
    "id": "YMKdMArypqU5"
   },
   "source": [
    "**Ensemble Learning**"
   ]
  },
  {
   "cell_type": "code",
   "execution_count": 52,
   "metadata": {
    "colab": {
     "base_uri": "https://localhost:8080/"
    },
    "id": "zjfE2eCppufY",
    "outputId": "2930123a-d3a0-4d34-9ef5-17c03ce3587e"
   },
   "outputs": [
    {
     "name": "stdout",
     "output_type": "stream",
     "text": [
      "Accuracy on training data: 0.7424892703862661\n",
      "Accuracy on validation data: 0.7379679144385026\n"
     ]
    }
   ],
   "source": [
    "#Hard Voting Classifier\n",
    "def evaluate_accuracy(model):\n",
    "    model.fit(X_train,y_train)\n",
    "    t_score = model.score(X_train,y_train)\n",
    "    print(\"Accuracy on training data:\",t_score)\n",
    "    p_score = model.score(X_val,y_val)\n",
    "    print(\"Accuracy on validation data:\",p_score)\n",
    "    return [t_score, p_score]\n",
    "\n",
    "model = VotingClassifier(estimators=[('svm',svm_clf),('rf',rf_clf),('lr',lr_clf)],voting='hard')\n",
    "acc = evaluate_accuracy(model)\n",
    "scores.append({\n",
    "      'Voting Classifier'\n",
    "      'hard',\n",
    "    acc[0],\n",
    "    acc[1]\n",
    "})"
   ]
  },
  {
   "cell_type": "code",
   "execution_count": 53,
   "metadata": {
    "colab": {
     "base_uri": "https://localhost:8080/"
    },
    "id": "HBfwruSBnWMQ",
    "outputId": "b769e2e5-f2fc-4dbc-d086-2a5cd8aefaf6"
   },
   "outputs": [
    {
     "name": "stdout",
     "output_type": "stream",
     "text": [
      "Accuracy on training data: 0.7628755364806867\n",
      "Accuracy on validation data: 0.7540106951871658\n"
     ]
    }
   ],
   "source": [
    "#Soft Voting Classifier\n",
    "model = VotingClassifier(estimators=[('svm',svm_clf),('rf',rf_clf),('lr',lr_clf)],voting='soft')\n",
    "acc = evaluate_accuracy(model)\n",
    "scores.append({\n",
    "      'Voting Classifier',\n",
    "      'soft',\n",
    "    acc[0],\n",
    "    acc[1]\n",
    "})"
   ]
  },
  {
   "cell_type": "code",
   "execution_count": 55,
   "metadata": {
    "colab": {
     "base_uri": "https://localhost:8080/"
    },
    "id": "dDKZmyLAMCxg",
    "outputId": "08a2d551-6961-4cf5-dee0-997ea6ecb4f2"
   },
   "outputs": [
    {
     "name": "stdout",
     "output_type": "stream",
     "text": [
      "Accuracy on training data: 0.7832618025751072\n",
      "Accuracy on validation data: 0.7647058823529411\n"
     ]
    }
   ],
   "source": [
    "#Stacking\n",
    "estimator = AdaBoostClassifier(n_estimators=50,learning_rate=0.1)\n",
    "model = StackingClassifier(estimators=[('lr',lr_clf),('svm',svm_clf),('rf',rf_clf)],final_estimator=estimator)\n",
    "acc = evaluate_accuracy(model)\n",
    "scores.append({\n",
    "      'model':'Stacking',\n",
    "      'best params':'AdaBoost',\n",
    "    'training accuracy':acc[0],\n",
    "    'validation accuracy':acc[1]\n",
    "})"
   ]
  },
  {
   "cell_type": "code",
   "execution_count": 56,
   "metadata": {
    "colab": {
     "base_uri": "https://localhost:8080/"
    },
    "id": "xECDk_grMMYI",
    "outputId": "96b2acc2-595a-45ac-da3c-0725a56d2a5a"
   },
   "outputs": [
    {
     "name": "stdout",
     "output_type": "stream",
     "text": [
      "Accuracy on training data: 0.796137339055794\n",
      "Accuracy on validation data: 0.7540106951871658\n"
     ]
    }
   ],
   "source": [
    "#Stacking\n",
    "estimator = AdaBoostClassifier(n_estimators=50,learning_rate=0.05)\n",
    "model = StackingClassifier(estimators=[('lr',lr_clf),('svm',svm_clf),('rf',rf_clf)],final_estimator=estimator)\n",
    "acc = evaluate_accuracy(model)\n",
    "scores.append({\n",
    "      'model':'Stacking',\n",
    "      'best params':'AdaBoost',\n",
    "    'training accuracy':acc[0],\n",
    "    'validation accuracy':acc[1]\n",
    "})"
   ]
  },
  {
   "cell_type": "code",
   "execution_count": 57,
   "metadata": {
    "colab": {
     "base_uri": "https://localhost:8080/"
    },
    "id": "Vs9Npgu6Oc1s",
    "outputId": "2cd59e73-2403-4541-cc21-64860b9f5d86"
   },
   "outputs": [
    {
     "data": {
      "text/plain": [
       "[['Logistic Regression',\n",
       "  'Lbfgs solver',\n",
       "  0.7392703862660944,\n",
       "  0.7540106951871658],\n",
       " ['SVM', 'rbf kernel', 0.7339055793991416, 0.7165775401069518],\n",
       " ['Random Forest', 'default params', 0.7950643776824035, 0.7486631016042781],\n",
       " {0.7379679144385026, 0.7424892703862661, 'Voting Classifierhard'},\n",
       " {0.7540106951871658, 0.7628755364806867, 'Voting Classifier', 'soft'},\n",
       " {'model': 'Stacking',\n",
       "  'best params': 'AdaBoost',\n",
       "  'training accuracy': 0.7896995708154506,\n",
       "  'validation accuracy': 0.7647058823529411},\n",
       " {'model': 'Stacking',\n",
       "  'best params': 'AdaBoost',\n",
       "  'training accuracy': 0.7832618025751072,\n",
       "  'validation accuracy': 0.7647058823529411},\n",
       " {'model': 'Stacking',\n",
       "  'best params': 'AdaBoost',\n",
       "  'training accuracy': 0.796137339055794,\n",
       "  'validation accuracy': 0.7540106951871658}]"
      ]
     },
     "execution_count": 57,
     "metadata": {},
     "output_type": "execute_result"
    }
   ],
   "source": [
    "scores"
   ]
  },
  {
   "cell_type": "code",
   "execution_count": 63,
   "metadata": {
    "colab": {
     "base_uri": "https://localhost:8080/"
    },
    "id": "r9k5FQzUMVnp",
    "outputId": "e47b5fff-4926-4d88-bc3a-844908c92196"
   },
   "outputs": [
    {
     "data": {
      "text/plain": [
       "0.7645833333333333"
      ]
     },
     "execution_count": 63,
     "metadata": {},
     "output_type": "execute_result"
    }
   ],
   "source": [
    "#Final Accuracy on Testing data \n",
    "estimator = AdaBoostClassifier(n_estimators=50,learning_rate=0.01)\n",
    "model_final = StackingClassifier(estimators=[('lr',lr_clf),('svm',svm_clf),('rf',rf_clf)],final_estimator=estimator)\n",
    "model_final.fit(X_train, y_train)\n",
    "model_final.score(X_test,y_test)"
   ]
  },
  {
   "cell_type": "code",
   "execution_count": null,
   "metadata": {
    "id": "ZKPKVW2-MrA3"
   },
   "outputs": [],
   "source": []
  },
  {
   "cell_type": "code",
   "execution_count": null,
   "metadata": {
    "id": "IXu0bPkaQiu8"
   },
   "outputs": [],
   "source": []
  },
  {
   "cell_type": "markdown",
   "metadata": {
    "id": "6psWMMuxPzjI"
   },
   "source": [
    "Final Analysis :\n",
    "\n",
    "AdaBoost performs the best since all of the base estimators were weak learners and needed boosting. Since all of them were weak, average or maximum votes didn't help. On applying the trained model with base estimators = 50 and learing rate =0.01 on the test data, we get Accuracy of 76.45% which is greater than the validation accuracy of 74.5%. Thus AdaBoost classifier provided improves accuracy of the model."
   ]
  },
  {
   "cell_type": "code",
   "execution_count": null,
   "metadata": {
    "id": "P_CcKNu0QcAQ"
   },
   "outputs": [],
   "source": []
  }
 ],
 "metadata": {
  "colab": {
   "provenance": []
  },
  "gpuClass": "standard",
  "kernelspec": {
   "display_name": "Python 3 (ipykernel)",
   "language": "python",
   "name": "python3"
  },
  "language_info": {
   "codemirror_mode": {
    "name": "ipython",
    "version": 3
   },
   "file_extension": ".py",
   "mimetype": "text/x-python",
   "name": "python",
   "nbconvert_exporter": "python",
   "pygments_lexer": "ipython3",
   "version": "3.9.12"
  }
 },
 "nbformat": 4,
 "nbformat_minor": 1
}
